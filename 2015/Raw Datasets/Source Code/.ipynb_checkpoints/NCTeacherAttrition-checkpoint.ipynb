{
 "cells": [
  {
   "cell_type": "markdown",
   "metadata": {},
   "source": [
    "# NC Teacher Attrition Data 2015-2016"
   ]
  },
  {
   "cell_type": "code",
   "execution_count": 2,
   "metadata": {},
   "outputs": [],
   "source": [
    "import PyPDF2\n",
    "import requests \n",
    "from tabula import read_pdf\n",
    "import tabula\n",
    "import pandas as pd\n",
    "import urllib\n"
   ]
  },
  {
   "cell_type": "code",
   "execution_count": 4,
   "metadata": {},
   "outputs": [],
   "source": [
    "PDFfilename = \"2015-16turnoverreport.pdf\"\n",
    "\n",
    "url = 'http://www.ncpublicschools.org/docs/district-humanresources/surveys/leaving/' + PDFfilename\n",
    "r = requests.get(url)\n",
    "# downlaod the file\n",
    "with open(PDFfilename, 'wb') as f:  \n",
    "    f.write(r.content)\n",
    "\n",
    "pfr = PyPDF2.PdfFileReader(open(PDFfilename,\"rb\"))\n",
    "NewPDFfilename = \"TeacherAttrition_ByReasonsCategories\"\n",
    "\n",
    "files = [] \n",
    "for i in range(27,31):\n",
    "    pg = pfr.getPage(i-1)\n",
    "    writer = PyPDF2.PdfFileWriter() \n",
    "    writer.addPage(pg)\n",
    "    PDF = NewPDFfilename + \"_\"+str(i) +\".pdf\"\n",
    "    files.append(PDF)\n",
    "    with open(PDF,\"wb\") as outputStream:\n",
    "        writer.write(outputStream)\n"
   ]
  },
  {
   "cell_type": "code",
   "execution_count": 8,
   "metadata": {},
   "outputs": [
    {
     "name": "stderr",
     "output_type": "stream",
     "text": [
      "SettingWithCopyWarning: \n",
      "A value is trying to be set on a copy of a slice from a DataFrame\n",
      "\n",
      "See the caveats in the documentation: http://pandas.pydata.org/pandas-docs/stable/indexing.html#indexing-view-versus-copy [indexing.py:190]\n",
      "SettingWithCopyWarning: \n",
      "A value is trying to be set on a copy of a slice from a DataFrame\n",
      "\n",
      "See the caveats in the documentation: http://pandas.pydata.org/pandas-docs/stable/indexing.html#indexing-view-versus-copy [ipykernel_launcher.py:20]\n",
      "SettingWithCopyWarning: \n",
      "A value is trying to be set on a copy of a slice from a DataFrame\n",
      "\n",
      "See the caveats in the documentation: http://pandas.pydata.org/pandas-docs/stable/indexing.html#indexing-view-versus-copy [ipykernel_launcher.py:21]\n",
      "SettingWithCopyWarning: \n",
      "A value is trying to be set on a copy of a slice from a DataFrame\n",
      "\n",
      "See the caveats in the documentation: http://pandas.pydata.org/pandas-docs/stable/indexing.html#indexing-view-versus-copy [ipykernel_launcher.py:22]\n"
     ]
    }
   ],
   "source": [
    "# read pdf multiple files into one data frame\n",
    "df=pd.DataFrame([])\n",
    "df_combine=pd.DataFrame([])\n",
    "for file in files:\n",
    "            df = tabula.read_pdf(file,multiple_tables=False)\n",
    "            #If you want to change the table by editing the columns you can do that here.\n",
    "            #print(df)\n",
    "            df_combine=pd.concat([df,df_combine],axis=0,sort=False) #again you can choose between merge or concat as per your need\n",
    "\n",
    "            \n",
    "df_combine.columns = ['LEACode', 'LEAName', 'TotalTeachers', 'TeachersLeaving','RemainedinEducation','RemainedinEducationPerct', 'PersonalReasons'\n",
    "                            ,'PersonalPerct','InitiatedbyLEA','InitiatedPerct','BeyondControlofLEA','BeyondControlPerct'\n",
    "                           ,'OtherReasons','OtherReasonsPerct']\n",
    "# Remove header\n",
    "\n",
    "exclude = ['LEA','Code']\n",
    "\n",
    "df = df_combine[~df_combine['LEACode'].isin(exclude) & ~ df_combine['LEACode'].isna()] # remove LEA code NaN as well as some \n",
    "# fix the name cross multiple line\n",
    "df.loc[df['LEACode']=='700','LEAName']='Elizabeth City-Pasquotank Public Schools'\n",
    "df.loc[df['LEACode']=='94Z','LEAName']='Northeast Regional School - Biotech/Agri'\n",
    "df.loc[df['LEACode']=='340','LEAName']='Winston Salem/Forsyth County Schools'\n",
    "\n",
    "# save to csv file\n",
    "csv = \"../NCTeacherAttrition_ByReasonsCategories.csv\"\n",
    "df_sorted=df.sort_values(by='LEACode', ascending=True)\n",
    "\n",
    "df_sorted.to_csv(csv,index=False)\n"
   ]
  },
  {
   "cell_type": "code",
   "execution_count": null,
   "metadata": {},
   "outputs": [],
   "source": []
  }
 ],
 "metadata": {
  "kernelspec": {
   "display_name": "Python 3",
   "language": "python",
   "name": "python3"
  },
  "language_info": {
   "codemirror_mode": {
    "name": "ipython",
    "version": 3
   },
   "file_extension": ".py",
   "mimetype": "text/x-python",
   "name": "python",
   "nbconvert_exporter": "python",
   "pygments_lexer": "ipython3",
   "version": "3.6.5"
  }
 },
 "nbformat": 4,
 "nbformat_minor": 2
}
