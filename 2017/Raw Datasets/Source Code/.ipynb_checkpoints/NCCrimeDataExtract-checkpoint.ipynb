{
 "cells": [
  {
   "cell_type": "markdown",
   "metadata": {},
   "source": [
    "# Create NCSBI 2016-2017 Raw Datasets by County\n",
    "* This program downloads all original datasets from http://crimereporting.ncsbi.gov/Reports.aspx and saves them as .csv files. These data files are used to create all the flattened and machine learning datasets\n",
    "    1. This program will dowload specific year data from each web page\n",
    "    2. It will loop the though 100 counties to get related year data\n",
    "    3. We generate a new csv file and save specific year data for all of the NC counties"
   ]
  },
  {
   "cell_type": "code",
   "execution_count": 1,
   "metadata": {},
   "outputs": [],
   "source": [
    "# import libaraies\n",
    "import requests\n",
    "import urllib.request\n",
    "import time\n",
    "import csv\n",
    "from bs4 import BeautifulSoup\n",
    "from urllib.request import urlopen"
   ]
  },
  {
   "cell_type": "code",
   "execution_count": 2,
   "metadata": {},
   "outputs": [],
   "source": [
    "year = 2017\n",
    "\n",
    "# root URL for the crime rate in 2017 including 10 years dataset for each county, but we only want to e\n",
    "rootPath = 'http://crimereporting.ncsbi.gov/public/2017/CrimeTrds/IndexRateCoTrd/report1/'\n"
   ]
  },
  {
   "cell_type": "code",
   "execution_count": 3,
   "metadata": {},
   "outputs": [],
   "source": [
    "# Get the header\n",
    "\n",
    "url = 'http://crimereporting.ncsbi.gov/public/2017/CrimeTrds/IndexRateCoTrd/report1/1.htm'\n",
    "response = requests.get(url)\n",
    "soup = BeautifulSoup(response.text, \"html.parser\")\n",
    "# fourth table has the header\n",
    "table = soup.findAll('table')[4]\n",
    "headers = []\n",
    "header = []\n",
    "header.append('County')\n",
    "\n",
    "# header is in the first row\n",
    "for val in table.find_all('tr')[0].find_all('td'):\n",
    "    #print(val.text)\n",
    "    header.append(val.text)\n",
    "headers.append(header)"
   ]
  },
  {
   "cell_type": "code",
   "execution_count": 4,
   "metadata": {},
   "outputs": [],
   "source": [
    "def getCrimeDataByYear(url,yearToExtract):\n",
    "    response = requests.get(url)\n",
    "    soup = BeautifulSoup(response.text, \"html.parser\")\n",
    "    \n",
    "    title = soup.findAll('table')[3]\n",
    "    county = title.findAll('td')[0].text + ' County'\n",
    "    \n",
    "    table = soup.findAll('table')[4]\n",
    "   \n",
    "    for row in table.find_all('tr')[1:]:\n",
    "\n",
    "        data =[]\n",
    "        data.append(county)\n",
    "        firstCol = True\n",
    "        for val in row.find_all('td'):\n",
    "            if(firstCol==True):\n",
    "                yearVal = int(val.text)\n",
    "            fieldVal = val.text\n",
    "            if(fieldVal == '\\xa0'):\n",
    "                fieldVal = ''\n",
    "            data.append(fieldVal)\n",
    "            firstCol=False\n",
    "        #print(yearVal,year)\n",
    "\n",
    "        if(yearVal==yearToExtract):\n",
    "            #print('true')\n",
    "            rows.append(data)\n",
    "    \n",
    "    #print(headers)\n",
    "    #print(rows)"
   ]
  },
  {
   "cell_type": "code",
   "execution_count": 5,
   "metadata": {},
   "outputs": [],
   "source": [
    "# Loop for all of the counties to get the data for specific year\n",
    "rows = []\n",
    "for i in range(1,100):\n",
    "    url = rootPath+str(i)+'.htm'\n",
    "    getCrimeDataByYear(url,year)\n",
    "\n",
    "\n",
    "#rows"
   ]
  },
  {
   "cell_type": "code",
   "execution_count": 6,
   "metadata": {},
   "outputs": [],
   "source": [
    "#credit: https://www.programiz.com/python-programming/working-csv-files\n",
    "\n",
    "csv.register_dialect('myDialect',\n",
    "delimiter = ',',\n",
    "quotechar = '\"',\n",
    "quoting=csv.QUOTE_ALL,\n",
    "skipinitialspace=True)\n",
    "# write the data to csv file\n",
    "with open('../CrimeRate.csv', 'w',newline='\\n', encoding='utf8') as file:\n",
    "    writer = csv.writer(file, dialect=\"myDialect\")\n",
    "    writer.writerows(header for header in headers if header)\n",
    "    writer.writerows(row for row in rows if row)\n",
    "file.close()"
   ]
  },
  {
   "cell_type": "code",
   "execution_count": null,
   "metadata": {},
   "outputs": [],
   "source": []
  }
 ],
 "metadata": {
  "kernelspec": {
   "display_name": "Python 3",
   "language": "python",
   "name": "python3"
  },
  "language_info": {
   "codemirror_mode": {
    "name": "ipython",
    "version": 3
   },
   "file_extension": ".py",
   "mimetype": "text/x-python",
   "name": "python",
   "nbconvert_exporter": "python",
   "pygments_lexer": "ipython3",
   "version": "3.6.5"
  }
 },
 "nbformat": 4,
 "nbformat_minor": 2
}
