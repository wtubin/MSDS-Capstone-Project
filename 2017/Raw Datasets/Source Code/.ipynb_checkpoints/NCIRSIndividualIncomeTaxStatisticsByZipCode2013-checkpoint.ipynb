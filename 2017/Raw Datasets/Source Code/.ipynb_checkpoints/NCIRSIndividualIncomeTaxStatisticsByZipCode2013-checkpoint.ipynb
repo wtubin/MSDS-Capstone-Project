{
 "cells": [
  {
   "cell_type": "markdown",
   "metadata": {},
   "source": [
    "# North Carolina IRS Individual Income Tax Statistics by Zip Code 2013"
   ]
  },
  {
   "cell_type": "code",
   "execution_count": 1,
   "metadata": {},
   "outputs": [],
   "source": [
    "#import required Libraries\n",
    "import pandas as pd\n",
    "import numpy as np\n",
    "import urllib\n",
    "\n",
    "#**********************************************************************************\n",
    "# Set the following variables before running this code!!!\n",
    "#**********************************************************************************\n",
    "\n",
    "#Location where copies of the raw data files will be downloaded and saved as csv files.\n",
    "dataDir = 'C:/Users/yubin/OneDrive/MyWork/SMU/MSDS6120/TeacherRetentionofNC/2014/Raw Datasets/'\n",
    "\n",
    "#All raw data files are filtered for the year below\n",
    "taxYear = 2017"
   ]
  },
  {
   "cell_type": "code",
   "execution_count": 2,
   "metadata": {},
   "outputs": [],
   "source": [
    "#Download and save an original copy of the raw data \n",
    "#North Carolina - SOI Tax Stats - Individual Income Tax Statistics - 2016 ZIP Code Data (SOI)\n",
    "#urlFile = urllib.FancyURLopener()\n",
    "#url=\"https://www.irs.gov/pub/irs-soi/13zp34nc.xls\"\n",
    "#urlFile.retrieve(url, dataDir + '13zp34nc.xls')\n",
    "#urlFile.to_csv(dataDir + 'IRSIncomeTax.csv', sep=',', index=False)\n",
    "\n",
    "url=\"https://www.irs.gov/pub/irs-soi/13zp34nc.xls\"\n",
    "profile = pd.read_excel(url, dtype={'unit_code': object})\n",
    "profile.to_csv(dataDir + 'IRSIncomeTax.csv', sep=',', index=False) \n"
   ]
  },
  {
   "cell_type": "code",
   "execution_count": null,
   "metadata": {},
   "outputs": [],
   "source": []
  }
 ],
 "metadata": {
  "kernelspec": {
   "display_name": "Python 3",
   "language": "python",
   "name": "python3"
  },
  "language_info": {
   "codemirror_mode": {
    "name": "ipython",
    "version": 3
   },
   "file_extension": ".py",
   "mimetype": "text/x-python",
   "name": "python",
   "nbconvert_exporter": "python",
   "pygments_lexer": "ipython3",
   "version": "3.6.5"
  }
 },
 "nbformat": 4,
 "nbformat_minor": 2
}
