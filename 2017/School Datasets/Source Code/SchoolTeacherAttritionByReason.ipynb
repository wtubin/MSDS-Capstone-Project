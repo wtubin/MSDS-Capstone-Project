{
 "cells": [
  {
   "cell_type": "markdown",
   "metadata": {},
   "source": [
    "# North Carolina Teacher Attrition By Reason Data 2017-2018\n",
    "* This program downloads all original teacher attrition rate by reason datasets from http://www.ncpublicschools.org/docs/district-humanresources/surveys/leaving/ and saves them as .csv files. These data files are used to create all the flattened and machine learning datasets\n",
    "    * The data is allocated on the appendix of the yearly NC state teaching profession report PDF file page 27 to page 31. \n",
    "    * Each page has one table, the program loops though each page and extract the data to a list\n",
    "    * Some LEA names are too long which will expand to multiple rows, I fixed them to original name as well.\n",
    "    * The final result will be saved into an csv file into RawDataset folder."
   ]
  },
  {
   "cell_type": "code",
   "execution_count": 1,
   "metadata": {},
   "outputs": [],
   "source": [
    "import PyPDF2\n",
    "import requests \n",
    "from tabula import read_pdf\n",
    "import tabula\n",
    "import pandas as pd\n",
    "import urllib\n",
    "import warnings\n",
    "warnings.simplefilter('ignore')\n",
    "warnings.simplefilter('ignore', DeprecationWarning)\n",
    "pd.set_option('mode.chained_assignment', None)"
   ]
  },
  {
   "cell_type": "code",
   "execution_count": 3,
   "metadata": {},
   "outputs": [],
   "source": [
    "PDFfilename = \"2017-18-state-teaching-profession.pdf\"\n",
    "\n",
    "url = 'http://www.ncpublicschools.org/docs/district-humanresources/surveys/leaving/' + PDFfilename\n",
    "r = requests.get(url)\n",
    "# downlaod the file\n",
    "with open(PDFfilename, 'wb') as f:  \n",
    "    f.write(r.content)\n",
    "\n",
    "pfr = PyPDF2.PdfFileReader(open(PDFfilename,\"rb\"))\n",
    "NewPDFfilename = \"TeacherAttrition_ByReasonsCategories\"\n",
    "\n",
    "files = [] \n",
    "for i in range(27,31):\n",
    "    pg = pfr.getPage(i-1)\n",
    "    writer = PyPDF2.PdfFileWriter() \n",
    "    writer.addPage(pg)\n",
    "    PDF = NewPDFfilename + \"_\"+str(i) +\".pdf\"\n",
    "    files.append(PDF)\n",
    "    with open(PDF,\"wb\") as outputStream:\n",
    "        writer.write(outputStream)\n"
   ]
  },
  {
   "cell_type": "code",
   "execution_count": 6,
   "metadata": {},
   "outputs": [],
   "source": [
    "# read pdf multiple files into one data frame\n",
    "df=pd.DataFrame([])\n",
    "df_combine=pd.DataFrame([])\n",
    "for file in files:\n",
    "            df = tabula.read_pdf(file,multiple_tables=False)\n",
    "            #If you want to change the table by editing the columns you can do that here.\n",
    "            #print(df)\n",
    "            df_combine=pd.concat([df,df_combine],axis=0,sort=False) #again you can choose between merge or concat as per your need\n",
    "\n",
    "            \n",
    "df_combine.columns = ['LEACode', 'LEAName', 'TotalTeachers', 'TeachersLeaving', 'PersonalReasons'\n",
    "                            ,'PersonalPerct','InitiatedbyLEA','InitiatedPerct','BeyondControlofLEA','BeyondControlPerct'\n",
    "                           ,'OtherReasons','OtherReasonsPerct']\n",
    "# Remove header\n",
    "\n",
    "exclude = ['LEA','Code']\n",
    "\n",
    "df = df_combine[~df_combine['LEACode'].isin(exclude) & ~ df_combine['LEACode'].isna()] # remove LEA code NaN as well as some \n",
    "# fix the name cross multiple line\n",
    "df.loc[df['LEACode']=='700','LEAName']='Elizabeth City-Pasquotank Public Schools'\n",
    "df.loc[df['LEACode']=='94Z','LEAName']='Northeast Regional School - Biotech/Agri'\n",
    "df.loc[df['LEACode']=='340','LEAName']='Winston Salem/Forsyth County Schools'\n",
    "\n",
    "# save to csv file\n",
    "csv = \"../SchoolTeacherAttrition_ByReasons2017.csv\"\n",
    "df_sorted=df.sort_values(by='LEACode', ascending=True)\n",
    "\n",
    "df_sorted.to_csv(csv,index=False)\n"
   ]
  },
  {
   "cell_type": "code",
   "execution_count": null,
   "metadata": {},
   "outputs": [],
   "source": []
  }
 ],
 "metadata": {
  "kernelspec": {
   "display_name": "Python 3",
   "language": "python",
   "name": "python3"
  },
  "language_info": {
   "codemirror_mode": {
    "name": "ipython",
    "version": 3
   },
   "file_extension": ".py",
   "mimetype": "text/x-python",
   "name": "python",
   "nbconvert_exporter": "python",
   "pygments_lexer": "ipython3",
   "version": "3.6.5"
  }
 },
 "nbformat": 4,
 "nbformat_minor": 2
}
