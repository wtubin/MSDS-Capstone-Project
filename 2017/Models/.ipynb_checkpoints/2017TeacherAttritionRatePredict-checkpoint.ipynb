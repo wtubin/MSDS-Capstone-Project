{
 "cells": [
  {
   "cell_type": "markdown",
   "metadata": {},
   "source": [
    "## Predicting Teacher Attrition Rates for Public Schools\n",
    "**This notebook explores predicting teacher attrition rates for public schools in North Carolina.** \n",
    "* Public school racial compositions are also considered when making predictions in this notebook.\n",
    "* The North Carolina Educational Attainment Data Repository for Machine Learning is located on Github at: https://github.com/wtubin/TeacherRetentionofNC\n",
    "\n",
    "**For documentation on various Generalized Linear Models in Sklearn see:**\n",
    "* http://scikit-learn.org/stable/modules/linear_model.html\n",
    "* https://stackoverflow.com/questions/33845539/modelling-probabilities-in-a-regularized-logistic-regression-model-in-python"
   ]
  },
  {
   "cell_type": "code",
   "execution_count": 1,
   "metadata": {},
   "outputs": [
    {
     "name": "stdout",
     "output_type": "stream",
     "text": [
      "<class 'pandas.core.frame.DataFrame'>\n",
      "RangeIndex: 2468 entries, 0 to 2467\n",
      "Columns: 394 entries, student_num to unit_code\n",
      "dtypes: float64(350), int64(44)\n",
      "memory usage: 7.4 MB\n"
     ]
    }
   ],
   "source": [
    "#import required Libraries\n",
    "import pandas as pd\n",
    "import numpy as np\n",
    "import seaborn as sns; sns.set()\n",
    "import matplotlib.pyplot as plt\n",
    "import math\n",
    "#Read in the high schools dataset - NC EA Public High Schools Dataset Feb 2018\n",
    "\n",
    "#The 'path' variable may also be a URL pointing to the proper raw file path on github: \n",
    "#path=\"https://raw.githubusercontent.com/jakemdrew/EducationDataNC/master/2017/Machine%20Learning%20Datasets/PublicHighSchools2017_ML.csv\"\n",
    "\n",
    "path=\"../Machine Learning Datasets/PublicSchools2017_ML.csv\"\n",
    "schData=pd.read_csv(path, low_memory=False)\n",
    "\n",
    "#inspect data \n",
    "schData.info()"
   ]
  },
  {
   "cell_type": "code",
   "execution_count": 2,
   "metadata": {},
   "outputs": [],
   "source": [
    "#schData[schData[\"_1yr_tchr_trnovr_pct\"]==0]"
   ]
  },
  {
   "cell_type": "code",
   "execution_count": 3,
   "metadata": {},
   "outputs": [
    {
     "name": "stdout",
     "output_type": "stream",
     "text": [
      "<class 'pandas.core.frame.DataFrame'>\n",
      "RangeIndex: 2468 entries, 0 to 2467\n",
      "Data columns (total 394 columns):\n",
      "student_num                                                     float64\n",
      "lea_avg_student_num                                             float64\n",
      "st_avg_student_num                                              float64\n",
      "00_Size                                                         float64\n",
      "02_Size                                                         float64\n",
      "03_Size                                                         float64\n",
      "04_Size                                                         float64\n",
      "05_Size                                                         float64\n",
      "Math I_Size                                                     float64\n",
      "lea_total_expense_num                                           float64\n",
      "lea_salary_expense_pct                                          float64\n",
      "lea_services_expense_pct                                        float64\n",
      "lea_supplies_expense_pct                                        float64\n",
      "lea_instruct_equip_exp_pct                                      float64\n",
      "lea_federal_perpupil_num                                        float64\n",
      "lea_local_perpupil_num                                          float64\n",
      "lea_state_perpupil_num                                          float64\n",
      "SPG Score                                                       float64\n",
      "Reading SPG Score                                               float64\n",
      "EVAAS Growth Score                                              float64\n",
      "Science Score                                                   float64\n",
      "NC Math 1 Score                                                 float64\n",
      "EOG/EOCSubjects_CACR_All                                        float64\n",
      "EOGGr3_CACR_All                                                 float64\n",
      "EOGGr4_CACR_All                                                 float64\n",
      "EOGGr5_CACR_All                                                 float64\n",
      "EOCMathI_CACR_Female                                            float64\n",
      "EOCMathI_CACR_Male                                              float64\n",
      "EOCMathI_CACR_AmericanIndian                                    float64\n",
      "EOCSubjects_CACR_AmericanIndian                                 float64\n",
      "EOG/EOCSubjects_CACR_AmericanIndian                             float64\n",
      "EOGGr3_CACR_AmericanIndian                                      float64\n",
      "EOGGr4_CACR_AmericanIndian                                      float64\n",
      "EOGGr5_CACR_AmericanIndian                                      float64\n",
      "EOGMathGr3_CACR_AmericanIndian                                  float64\n",
      "EOGMathGr3-8_CACR_AmericanIndian                                float64\n",
      "EOGMathGr4_CACR_AmericanIndian                                  float64\n",
      "EOGMathGr5_CACR_AmericanIndian                                  float64\n",
      "EOGReadingGr3_CACR_AmericanIndian                               float64\n",
      "EOGReadingGr3-8_CACR_AmericanIndian                             float64\n",
      "EOGReadingGr4_CACR_AmericanIndian                               float64\n",
      "EOGReadingGr5_CACR_AmericanIndian                               float64\n",
      "EOGReadingGr5_GLP_AmericanIndian                                float64\n",
      "EOGScienceGr5_CACR_AmericanIndian                               float64\n",
      "EOGScienceGr5&8_CACR_AmericanIndian                             float64\n",
      "EOGSubjects_CACR_AmericanIndian                                 float64\n",
      "EOCMathI_CACR_Asian                                             float64\n",
      "EOCSubjects_CACR_Asian                                          float64\n",
      "EOG/EOCSubjects_CACR_Asian                                      float64\n",
      "EOGGr3_CACR_Asian                                               float64\n",
      "EOGGr4_CACR_Asian                                               float64\n",
      "EOGGr5_CACR_Asian                                               float64\n",
      "EOGMathGr3_CACR_Asian                                           float64\n",
      "EOGMathGr3-8_CACR_Asian                                         float64\n",
      "EOGMathGr4_CACR_Asian                                           float64\n",
      "EOGMathGr5_CACR_Asian                                           float64\n",
      "EOGScienceGr5&8_CACR_Asian                                      float64\n",
      "EOGSubjects_CACR_Asian                                          float64\n",
      "EOCMathI_CACR_Black                                             float64\n",
      "EOCSubjects_CACR_Black                                          float64\n",
      "EOG/EOCSubjects_CACR_Black                                      float64\n",
      "EOGGr3_CACR_Black                                               float64\n",
      "EOGGr4_CACR_Black                                               float64\n",
      "EOGGr5_CACR_Black                                               float64\n",
      "EOGMathGr3_CACR_Black                                           float64\n",
      "EOGMathGr3-8_CACR_Black                                         float64\n",
      "EOGMathGr4_CACR_Black                                           float64\n",
      "EOGMathGr5_CACR_Black                                           float64\n",
      "EOGReadingGr3_CACR_Black                                        float64\n",
      "EOGReadingGr3-8_CACR_Black                                      float64\n",
      "EOGReadingGr4_CACR_Black                                        float64\n",
      "EOGReadingGr5_CACR_Black                                        float64\n",
      "EOGScienceGr5_CACR_Black                                        float64\n",
      "EOGScienceGr5&8_CACR_Black                                      float64\n",
      "EOGSubjects_CACR_Black                                          float64\n",
      "EOCMathI_CACR_Hispanic                                          float64\n",
      "EOCSubjects_CACR_Hispanic                                       float64\n",
      "EOG/EOCSubjects_CACR_Hispanic                                   float64\n",
      "EOGGr3_CACR_Hispanic                                            float64\n",
      "EOGGr4_CACR_Hispanic                                            float64\n",
      "EOGGr5_CACR_Hispanic                                            float64\n",
      "EOGMathGr3_CACR_Hispanic                                        float64\n",
      "EOGMathGr3-8_CACR_Hispanic                                      float64\n",
      "EOGMathGr4_CACR_Hispanic                                        float64\n",
      "EOGMathGr5_CACR_Hispanic                                        float64\n",
      "EOGReadingGr3_CACR_Hispanic                                     float64\n",
      "EOGReadingGr3-8_CACR_Hispanic                                   float64\n",
      "EOGReadingGr4_CACR_Hispanic                                     float64\n",
      "EOGReadingGr5_CACR_Hispanic                                     float64\n",
      "EOGScienceGr5&8_CACR_Hispanic                                   float64\n",
      "EOGSubjects_CACR_Hispanic                                       float64\n",
      "EOCMathI_CACR_TwoorMoreRaces                                    float64\n",
      "EOCSubjects_CACR_TwoorMoreRaces                                 float64\n",
      "EOG/EOCSubjects_CACR_TwoorMoreRaces                             float64\n",
      "EOGGr3_CACR_TwoorMoreRaces                                      float64\n",
      "EOGGr4_CACR_TwoorMoreRaces                                      float64\n",
      "EOGGr5_CACR_TwoorMoreRaces                                      float64\n",
      "EOGMathGr3_CACR_TwoorMoreRaces                                  float64\n",
      "EOGMathGr3-8_CACR_TwoorMoreRaces                                float64\n",
      "EOGMathGr4_CACR_TwoorMoreRaces                                  float64\n",
      "EOGMathGr5_CACR_TwoorMoreRaces                                  float64\n",
      "EOGReadingGr3-8_CACR_TwoorMoreRaces                             float64\n",
      "EOGScienceGr5&8_CACR_TwoorMoreRaces                             float64\n",
      "EOGSubjects_CACR_TwoorMoreRaces                                 float64\n",
      "EOCMathI_CACR_White                                             float64\n",
      "EOG/EOCSubjects_CACR_White                                      float64\n",
      "EOGGr3_CACR_White                                               float64\n",
      "EOGGr4_CACR_White                                               float64\n",
      "EOGGr5_CACR_White                                               float64\n",
      "EOGMathGr3_CACR_White                                           float64\n",
      "EOGMathGr3-8_CACR_White                                         float64\n",
      "EOGMathGr4_CACR_White                                           float64\n",
      "EOGMathGr5_CACR_White                                           float64\n",
      "EOGScienceGr5&8_CACR_White                                      float64\n",
      "EOCMathI_CACR_EDS                                               float64\n",
      "EOG/EOCSubjects_CACR_EDS                                        float64\n",
      "EOGGr3_CACR_EDS                                                 float64\n",
      "EOGGr4_CACR_EDS                                                 float64\n",
      "EOGMathGr3_CACR_EDS                                             float64\n",
      "EOGMathGr3-8_CACR_EDS                                           float64\n",
      "EOGMathGr4_CACR_EDS                                             float64\n",
      "EOGMathGr5_CACR_EDS                                             float64\n",
      "EOGReadingGr3_CACR_EDS                                          float64\n",
      "EOGReadingGr3-8_CACR_EDS                                        float64\n",
      "EOGReadingGr4_CACR_EDS                                          float64\n",
      "EOGReadingGr5_CACR_EDS                                          float64\n",
      "EOGScienceGr5_CACR_EDS                                          float64\n",
      "EOGScienceGr5&8_CACR_EDS                                        float64\n",
      "EOCMathI_CACR_LEP                                               float64\n",
      "EOCMathI_GLP_LEP                                                float64\n",
      "EOCSubjects_CACR_LEP                                            float64\n",
      "EOCSubjects_GLP_LEP                                             float64\n",
      "EOG/EOCSubjects_CACR_LEP                                        float64\n",
      "EOG/EOCSubjects_GLP_LEP                                         float64\n",
      "EOGGr3_CACR_LEP                                                 float64\n",
      "EOGGr4_CACR_LEP                                                 float64\n",
      "EOGGr4_GLP_LEP                                                  float64\n",
      "EOGGr5_CACR_LEP                                                 float64\n",
      "EOGMathGr3_CACR_LEP                                             float64\n",
      "EOGMathGr3-8_CACR_LEP                                           float64\n",
      "EOGMathGr4_CACR_LEP                                             float64\n",
      "EOGMathGr5_CACR_LEP                                             float64\n",
      "EOGReadingGr3_CACR_LEP                                          float64\n",
      "EOGReadingGr3_GLP_LEP                                           float64\n",
      "EOGReadingGr3-8_CACR_LEP                                        float64\n",
      "EOGReadingGr3-8_GLP_LEP                                         float64\n",
      "EOGReadingGr4_CACR_LEP                                          float64\n",
      "EOGReadingGr4_GLP_LEP                                           float64\n",
      "EOGReadingGr5_CACR_LEP                                          float64\n",
      "EOGReadingGr5_GLP_LEP                                           float64\n",
      "EOGScienceGr5_CACR_LEP                                          float64\n",
      "EOGScienceGr5_GLP_LEP                                           float64\n",
      "EOGScienceGr5&8_CACR_LEP                                        float64\n",
      "EOGScienceGr5&8_GLP_LEP                                         float64\n",
      "EOGSubjects_CACR_LEP                                            float64\n",
      "EOCMathI_CACR_SWD                                               float64\n",
      "EOCMathI_GLP_SWD                                                float64\n",
      "EOCSubjects_CACR_SWD                                            float64\n",
      "EOG/EOCSubjects_CACR_SWD                                        float64\n",
      "EOGGr3_CACR_SWD                                                 float64\n",
      "EOGGr4_CACR_SWD                                                 float64\n",
      "EOGGr5_CACR_SWD                                                 float64\n",
      "EOGMathGr3_CACR_SWD                                             float64\n",
      "EOGMathGr3_GLP_SWD                                              float64\n",
      "EOGMathGr3-8_CACR_SWD                                           float64\n",
      "EOGMathGr4_CACR_SWD                                             float64\n",
      "EOGMathGr5_CACR_SWD                                             float64\n",
      "EOGReadingGr3_CACR_SWD                                          float64\n",
      "EOGReadingGr3-8_CACR_SWD                                        float64\n",
      "EOGReadingGr3-8_GLP_SWD                                         float64\n",
      "EOGReadingGr4_CACR_SWD                                          float64\n",
      "EOGReadingGr4_GLP_SWD                                           float64\n",
      "EOGReadingGr5_CACR_SWD                                          float64\n",
      "EOGReadingGr5_GLP_SWD                                           float64\n",
      "EOGScienceGr5_CACR_SWD                                          float64\n",
      "EOGScienceGr5&8_CACR_SWD                                        float64\n",
      "EOGSubjects_CACR_SWD                                            float64\n",
      "EOCMathI_CACR_AIG                                               float64\n",
      "EOCSubjects_CACR_AIG                                            float64\n",
      "EOG/EOCSubjects_CACR_AIG                                        float64\n",
      "EOGGr3_CACR_AIG                                                 float64\n",
      "EOGGr4_CACR_AIG                                                 float64\n",
      "EOGGr5_CACR_AIG                                                 float64\n",
      "EOGMathGr3_CACR_AIG                                             float64\n",
      "EOGMathGr3-8_CACR_AIG                                           float64\n",
      "EOGMathGr4_CACR_AIG                                             float64\n",
      "EOGMathGr5_CACR_AIG                                             float64\n",
      "EOGScienceGr5&8_CACR_AIG                                        float64\n",
      "EOGSubjects_CACR_AIG                                            float64\n",
      "pct_GCE_ALL                                                     float64\n",
      "MathGr3-8_pTarget_PctMet                                        float64\n",
      "SciGr5&8_pTarget_PctMet                                         float64\n",
      "TotalTargets_pTarget_PctMet                                     float64\n",
      "lea_sat_avg_score_num                                           float64\n",
      "lea_sat_participation_pct                                       float64\n",
      "lea_ap_participation_pct                                        float64\n",
      "lea_ap_pct_3_or_above                                           float64\n",
      "lea_ib_pct_4_or_above                                           float64\n",
      "avg_daily_attend_pct                                            float64\n",
      "crime_per_c_num                                                 float64\n",
      "short_susp_per_c_num                                            float64\n",
      "long_susp_per_c_num                                             float64\n",
      "expelled_per_c_num                                              float64\n",
      "stud_internet_comp_num                                          float64\n",
      "lea_avg_daily_attend_pct                                        float64\n",
      "lea_crime_per_c_num                                             float64\n",
      "lea_short_susp_per_c_num                                        float64\n",
      "lea_long_susp_per_c_num                                         float64\n",
      "lea_expelled_per_c_num                                          float64\n",
      "lea_stud_internet_comp_num                                      float64\n",
      "st_avg_daily_attend_pct                                         float64\n",
      "st_crime_per_c_num                                              float64\n",
      "st_short_susp_per_c_num                                         float64\n",
      "st_long_susp_per_c_num                                          float64\n",
      "st_expelled_per_c_num                                           float64\n",
      "digital_media_pct                                               float64\n",
      "avg_age_media_collection                                        float64\n",
      "books_per_student                                               float64\n",
      "lea_books_per_student                                           float64\n",
      "wap_num                                                         float64\n",
      "wap_per_classroom                                               float64\n",
      "lea_wap_num                                                     float64\n",
      "lea_wap_per_classroom                                           float64\n",
      "flicensed_teach_pct                                             float64\n",
      "tchyrs_0thru3_pct                                               float64\n",
      "tchyrs_4thru10_pct                                              float64\n",
      "tchyrs_11plus_pct                                               float64\n",
      "nbpts_num                                                       float64\n",
      "advance_dgr_pct                                                 float64\n",
      "_1yr_tchr_trnovr_pct                                            float64\n",
      "lateral_teach_pct                                               float64\n",
      "lea_flicensed_teach_pct                                         float64\n",
      "lea_tchyrs_0thru3_pct                                           float64\n",
      "lea_tchyrs_4thru10_pct                                          float64\n",
      "lea_tchyrs_11plus_pct                                           float64\n",
      "lea_nbpts_num                                                   float64\n",
      "lea_advance_dgr_pct                                             float64\n",
      "lea_1yr_tchr_trnovr_pct                                         float64\n",
      "lea_emer_prov_teach_pct                                         float64\n",
      "st_flicensed_teach_pct                                          float64\n",
      "st_tchyrs_0thru3_pct                                            float64\n",
      "st_tchyrs_11plus_pct                                            float64\n",
      "st_nbpts_num                                                    float64\n",
      "st_1yr_tchr_trnovr_pct                                          float64\n",
      "st_emer_prov_teach_pct                                          float64\n",
      "0-3 Years_LEA_Exp_Pct_Prin                                      float64\n",
      "10+ Years_LEA_Exp_Pct_Prin                                      float64\n",
      "4-10 Years_LEA_Exp_Pct_Prin                                     float64\n",
      "Accomplished_TCHR_Standard 1_Pct                                float64\n",
      "Accomplished_TCHR_Standard 2_Pct                                float64\n",
      "Accomplished_TCHR_Standard 3_Pct                                float64\n",
      "Accomplished_TCHR_Standard 4_Pct                                float64\n",
      "Accomplished_TCHR_Standard 5_Pct                                float64\n",
      "Developing_TCHR_Standard 1_Pct                                  float64\n",
      "Developing_TCHR_Standard 2_Pct                                  float64\n",
      "Developing_TCHR_Standard 3_Pct                                  float64\n",
      "Developing_TCHR_Standard 4_Pct                                  float64\n",
      "Developing_TCHR_Standard 5_Pct                                  float64\n",
      "Distinguished_TCHR_Standard 1_Pct                               float64\n",
      "Distinguished_TCHR_Standard 2_Pct                               float64\n",
      "Distinguished_TCHR_Standard 3_Pct                               float64\n",
      "Distinguished_TCHR_Standard 4_Pct                               float64\n",
      "Distinguished_TCHR_Standard 5_Pct                               float64\n",
      "Does Not Meet Expected Growth_TCHR_Student Growth_Pct           float64\n",
      "Exceeds Expected Growth_TCHR_Student Growth_Pct                 float64\n",
      "Meets Expected Growth_TCHR_Student Growth_Pct                   float64\n",
      "Not Demostrated_TCHR_Standard 1_Pct                             float64\n",
      "Not Demostrated_TCHR_Standard 2_Pct                             float64\n",
      "Not Demostrated_TCHR_Standard 4_Pct                             float64\n",
      "Proficient_TCHR_Standard 1_Pct                                  float64\n",
      "Proficient_TCHR_Standard 2_Pct                                  float64\n",
      "Proficient_TCHR_Standard 3_Pct                                  float64\n",
      "Proficient_TCHR_Standard 4_Pct                                  float64\n",
      "Proficient_TCHR_Standard 5_Pct                                  float64\n",
      "IndianPct                                                       float64\n",
      "AsianPct                                                        float64\n",
      "HispanicPct                                                     float64\n",
      "BlackPct                                                        float64\n",
      "WhitePct                                                        float64\n",
      "PacificIslandPct                                                float64\n",
      "TwoOrMorePct                                                    float64\n",
      "PacificIslandMalePct                                            float64\n",
      "TwoOrMoreMalePct                                                float64\n",
      "PacificIslandFemalePct                                          float64\n",
      "TwoOrMoreFemalePct                                              float64\n",
      "pct_eds                                                         float64\n",
      "Year                                                            float64\n",
      "Crime_Rate_Violent_Rate                                         float64\n",
      "Crime_Rate_Murder_Rate                                          float64\n",
      "Crime_Rate_Rape_Rate                                            float64\n",
      "Crime_Rate_Robbery_Rate                                         float64\n",
      "Crime_Rate_MVT_Rate                                             float64\n",
      "Crime_Rate_Arson_Rate                                           float64\n",
      "(TCE) prepared returns Ct 100KLT200K                            float64\n",
      "(TCE) prepared returns Ct 25KLT50K                              float64\n",
      "(TCE) prepared returns Ct 75KLT100K                             float64\n",
      "(VITA) prepared returns Ct 100KLT200K                           float64\n",
      "(VITA) prepared returns Ct 25KLT50K                             float64\n",
      "(VITA) prepared returns Ct 50KLT75K                             float64\n",
      "Add child tax credit Amt 25KLT50K                               float64\n",
      "Add child tax credit Amt 75KLT100K                              float64\n",
      "Advance premium tax credit Amt GE200K                           float64\n",
      "Alternative minimum tax Amt 25KLT50K                            float64\n",
      "Alternative minimum tax Amt 50KLT75K                            float64\n",
      "Alternative minimum tax Amt 75KLT100K                           float64\n",
      "Alternative minimum tax Ct 50KLT75K                             float64\n",
      "Alternative minimum tax Ct 75KLT100K                            float64\n",
      "Deductible points Amt LT25K                                     float64\n",
      "Deductible points Ct LT25K                                      float64\n",
      "Domestic production activities deduction Amt 100KLT200K         float64\n",
      "Domestic production activities deduction Amt 25KLT50K           float64\n",
      "Domestic production activities deduction Amt 50KLT75K           float64\n",
      "Domestic production activities deduction Amt 75KLT100K          float64\n",
      "Domestic production activities deduction Amt LT25K              float64\n",
      "Domestic production activities deduction Ct 25KLT50K            float64\n",
      "Domestic production activities deduction Ct 50KLT75K            float64\n",
      "Domestic production activities deduction Ct 75KLT100K           float64\n",
      "Domestic production activities deduction Ct LT25K               float64\n",
      "Earned income credit Amt 50KLT75K                               float64\n",
      "Excess earned income credit (refundable) Amt 50KLT75K           float64\n",
      "Health care individual responsibility payment Amt GE200K        float64\n",
      "Home mortgage interest paid from personal seller Amt LT25K      float64\n",
      "Investment interest paid Amt 25KLT50K                           float64\n",
      "Investment interest paid Amt LT25K                              float64\n",
      "Investment interest paid Ct LT25K                               float64\n",
      "Net investment income tax Amt 100KLT200K                        float64\n",
      "Number of farm returns 100KLT200K                               float64\n",
      "Number of farm returns 25KLT50K                                 float64\n",
      "Number of farm returns 50KLT75K                                 float64\n",
      "Number of farm returns 75KLT100K                                float64\n",
      "Number of farm returns All                                      float64\n",
      "Number of farm returns GE200K                                   float64\n",
      "Number of farm returns LT25K                                    float64\n",
      "Number of refund anticipation loan returns 50KLT75K             float64\n",
      "Number of volunteer prepared returns Tot 50KLT75K               float64\n",
      "Other non-limited misc deduction Amt 50KLT75K                   float64\n",
      "Other non-limited misc deduction Amt 75KLT100K                  float64\n",
      "Other non-limited misc deduction Amt LT25K                      float64\n",
      "Other non-limited misc deduction Ct 75KLT100K                   float64\n",
      "Other non-limited misc deduction Ct LT25K                       float64\n",
      "Partnership/S-corp net income (less loss) Amt LT25K             float64\n",
      "Residential energy tax credit Amt LT25K                         float64\n",
      "Residential energy tax credit Ct LT25K                          float64\n",
      "Self-employed (Keogh) retirement plans Amt LT25K                float64\n",
      "Self-employed (Keogh) retirement plans Ct LT25K                 float64\n",
      "Tot Add Medicare tax Amt 25KLT50K                               float64\n",
      "Tuition and fees deduction Amt 75KLT100K                        float64\n",
      "LEACode                                                         float64\n",
      "Attrtion_Reason_InitiatedbyLEA                                  float64\n",
      "Attrtion_Reason_OtherReasons                                    float64\n",
      "category_cd_E                                                   int64\n",
      "category_cd_H                                                   int64\n",
      "category_cd_I                                                   int64\n",
      "category_cd_M                                                   int64\n",
      "calendar_type_txt_Hospital School                               int64\n",
      "calendar_type_txt_Magnet School, Traditional Calendar           int64\n",
      "calendar_type_txt_Magnet School, Year-Round Calendar            int64\n",
      "calendar_type_txt_Regular School, Traditional Calendar          int64\n",
      "calendar_type_txt_Regular School, Year-Round Calendar           int64\n",
      "calendar_type_txt_Special Education, Traditional Calendar       int64\n",
      "calendar_type_txt_Vocational Education, Traditional Calendar    int64\n",
      "school_type_txt_Magnet School                                   int64\n",
      "school_type_txt_Regular School                                  int64\n",
      "calendar_only_txt_Year-Round Calendar                           int64\n",
      "esea_status_P                                                   int64\n",
      "Grad_project_status_Y                                           int64\n",
      "SBE District_Northeast                                          int64\n",
      "SBE District_Northwest                                          int64\n",
      "SBE District_Piedmont-Triad                                     int64\n",
      "SBE District_Sandhills                                          int64\n",
      "SBE District_Southeast                                          int64\n",
      "SBE District_Southwest                                          int64\n",
      "SBE District_Western                                            int64\n",
      "SPG Grade_A+NG                                                  int64\n",
      "SPG Grade_B                                                     int64\n",
      "SPG Grade_C                                                     int64\n",
      "SPG Grade_D                                                     int64\n",
      "SPG Grade_F                                                     int64\n",
      "SPG Grade_I                                                     int64\n",
      "Reading SPG Grade_B                                             int64\n",
      "Reading SPG Grade_C                                             int64\n",
      "Reading SPG Grade_D                                             int64\n",
      "Reading SPG Grade_F                                             int64\n",
      "Math SPG Grade_B                                                int64\n",
      "Math SPG Grade_C                                                int64\n",
      "Math SPG Grade_D                                                int64\n",
      "Math SPG Grade_F                                                int64\n",
      "EVAAS Growth Status_Met                                         int64\n",
      "EVAAS Growth Status_NotMet                                      int64\n",
      "State Gap Compared_Y                                            int64\n",
      "Byod_Yes                                                        int64\n",
      "_1_to_1_access_Yes                                              int64\n",
      "SRC_devices_sent_home_Yes                                       int64\n",
      "unit_code                                                       int64\n",
      "dtypes: float64(350), int64(44)\n",
      "memory usage: 7.4 MB\n"
     ]
    }
   ],
   "source": [
    "schData.info(verbose=True)"
   ]
  },
  {
   "cell_type": "code",
   "execution_count": 4,
   "metadata": {},
   "outputs": [],
   "source": [
    "#schData[\"School Name\"][schData[\"_1yr_tchr_trnovr_pct\"]<=0.0]"
   ]
  },
  {
   "cell_type": "code",
   "execution_count": 5,
   "metadata": {},
   "outputs": [],
   "source": [
    " schData.dropna(inplace=True)"
   ]
  },
  {
   "cell_type": "code",
   "execution_count": 6,
   "metadata": {},
   "outputs": [],
   "source": [
    "schData = schData[schData['_1yr_tchr_trnovr_pct']!=0.0]"
   ]
  },
  {
   "cell_type": "code",
   "execution_count": 7,
   "metadata": {},
   "outputs": [
    {
     "data": {
      "image/png": "[encoded data removed]",
      "text/plain": [
       "<Figure size 720x432 with 1 Axes>"
      ]
     },
     "metadata": {
      "needs_background": "light"
     },
     "output_type": "display_data"
    }
   ],
   "source": [
    "plt.figure(figsize=(10,6))\n",
    "_1yr_tchr_trnovr_pct = schData[\"_1yr_tchr_trnovr_pct\"]\n",
    "ax = sns.distplot(_1yr_tchr_trnovr_pct);\n",
    "plt.title(\"Figure 1. North Carolina 2017 First Year Teacher Turnover Percentage Histogram\")\n",
    "plt.show()"
   ]
  },
  {
   "cell_type": "code",
   "execution_count": 8,
   "metadata": {},
   "outputs": [
    {
     "data": {
      "image/png": "[encoded data removed]",
      "text/plain": [
       "<Figure size 720x432 with 1 Axes>"
      ]
     },
     "metadata": {
      "needs_background": "light"
     },
     "output_type": "display_data"
    }
   ],
   "source": [
    "schData['lea_salary'] = schData['lea_total_expense_num']*schData['lea_salary_expense_pct']\n",
    "\n",
    "plt.figure(figsize=(10,6))\n",
    "lea_salary_expense_pct=schData.lea_salary_expense_pct\n",
    "ax = sns.distplot(schData['lea_salary']);\n",
    "plt.title(\"Figure 2. North Carolina 2017 Lea Salary Expense Histogram\")\n",
    "plt.show()"
   ]
  },
  {
   "cell_type": "code",
   "execution_count": 9,
   "metadata": {},
   "outputs": [
    {
     "data": {
      "text/html": [
       "<style  type=\"text/css\" >\n",
       "</style>  \n",
       "<table id=\"T_577991d4_83f5_11e9_a643_509a4c15b656\" > \n",
       "<thead>    <tr> \n",
       "        <th class=\"blank level0\" ></th> \n",
       "        <th class=\"col_heading level0 col0\" >n Missing</th> \n",
       "        <th class=\"col_heading level0 col1\" >% Missing</th> \n",
       "    </tr></thead> \n",
       "<tbody></tbody> \n",
       "</table> "
      ],
      "text/plain": [
       "<pandas.io.formats.style.Styler at 0x23204db6898>"
      ]
     },
     "execution_count": 9,
     "metadata": {},
     "output_type": "execute_result"
    }
   ],
   "source": [
    "#-----------------------------------------------------------------------------\n",
    "# Aggregating the data\n",
    "#-----------------------------------------------------------------------------\n",
    "schData_NullCols = schData.isnull().sum()\n",
    "schData_NullCols = schData_NullCols[schData_NullCols > 0]\n",
    "\n",
    "#-----------------------------------------------------------------------------\n",
    "# Renaming the headers for clarity\n",
    "#-----------------------------------------------------------------------------\n",
    "schData_NullCols = pd.DataFrame({'n Missing' : schData_NullCols,\n",
    "                                  '% Missing' : ((schData_NullCols / schData.shape[0])*100).round(2)})\n",
    "\n",
    "#-----------------------------------------------------------------------------\n",
    "# Sorting the dataframe \n",
    "#-----------------------------------------------------------------------------\n",
    "schData_NullCols = schData_NullCols.sort_values('n Missing')\n",
    "\n",
    "#-----------------------------------------------------------------------------\n",
    "# Color coding the results for enhanced visualization of results\n",
    "#-----------------------------------------------------------------------------\n",
    "cm = sns.light_palette(\"red\", as_cmap=True)\n",
    "schData_NullCols.style.background_gradient(cmap=cm)\n"
   ]
  },
  {
   "cell_type": "code",
   "execution_count": 10,
   "metadata": {},
   "outputs": [
    {
     "data": {
      "text/plain": [
       "count    2325.000000\n",
       "mean        0.143850\n",
       "std         0.081357\n",
       "min         0.005000\n",
       "25%         0.086000\n",
       "50%         0.129000\n",
       "75%         0.186000\n",
       "max         0.667000\n",
       "Name: _1yr_tchr_trnovr_pct, dtype: float64"
      ]
     },
     "execution_count": 10,
     "metadata": {},
     "output_type": "execute_result"
    }
   ],
   "source": [
    "schData['_1yr_tchr_trnovr_pct'].describe()"
   ]
  },
  {
   "cell_type": "code",
   "execution_count": 11,
   "metadata": {
    "scrolled": false
   },
   "outputs": [
    {
     "data": {
      "text/plain": [
       "Text(0.5, 6.8, 'LEA Salary Expenditure')"
      ]
     },
     "execution_count": 11,
     "metadata": {},
     "output_type": "execute_result"
    },
    {
     "data": {
      "image/png": "[encoded data removed]",
      "text/plain": [
       "<Figure size 842.4x595.44 with 1 Axes>"
      ]
     },
     "metadata": {
      "needs_background": "light"
     },
     "output_type": "display_data"
    }
   ],
   "source": [
    "\n",
    "sns.lmplot(x=\"lea_salary\", y=\"_1yr_tchr_trnovr_pct\", data=schData,height=8.27, aspect=11.7/8.27)\n",
    "sns.despine()\n",
    "\n",
    "plt.title(\"Figure 1. NC Public School One Year Teacher Attrition Rate vs. LEA Salary Expenditure\")\n",
    "plt.ylabel('1st Year Attrition Rate')\n",
    "plt.xlabel('LEA Salary Expenditure')\n",
    "\n",
    "# plt.show()"
   ]
  },
  {
   "cell_type": "code",
   "execution_count": 12,
   "metadata": {},
   "outputs": [
    {
     "data": {
      "text/plain": [
       "Text(0.5, 6.8, 'LEA Total School Expenditure')"
      ]
     },
     "execution_count": 12,
     "metadata": {},
     "output_type": "execute_result"
    },
    {
     "data": {
      "image/png": "[encoded data removed]",
      "text/plain": [
       "<Figure size 842.4x595.44 with 1 Axes>"
      ]
     },
     "metadata": {
      "needs_background": "light"
     },
     "output_type": "display_data"
    }
   ],
   "source": [
    "sns.lmplot(x=\"lea_total_expense_num\", y=\"_1yr_tchr_trnovr_pct\", data=schData,height=8.27, aspect=11.7/8.27)\n",
    "sns.despine()\n",
    "\n",
    "plt.title(\"Figure 2. NC Public School One Year Teacher Attrition Rate vs. LEA Total School Expenditure\")\n",
    "plt.ylabel('1st Year Attrition Rate')\n",
    "plt.xlabel('LEA Total School Expenditure')\n"
   ]
  },
  {
   "cell_type": "code",
   "execution_count": 13,
   "metadata": {},
   "outputs": [
    {
     "data": {
      "text/html": [
       "<div>\n",
       "<style scoped>\n",
       "    .dataframe tbody tr th:only-of-type {\n",
       "        vertical-align: middle;\n",
       "    }\n",
       "\n",
       "    .dataframe tbody tr th {\n",
       "        vertical-align: top;\n",
       "    }\n",
       "\n",
       "    .dataframe thead th {\n",
       "        text-align: right;\n",
       "    }\n",
       "</style>\n",
       "<table border=\"1\" class=\"dataframe\">\n",
       "  <thead>\n",
       "    <tr style=\"text-align: right;\">\n",
       "      <th></th>\n",
       "      <th>student_num</th>\n",
       "      <th>lea_avg_student_num</th>\n",
       "      <th>st_avg_student_num</th>\n",
       "      <th>00_Size</th>\n",
       "      <th>02_Size</th>\n",
       "      <th>03_Size</th>\n",
       "      <th>04_Size</th>\n",
       "      <th>05_Size</th>\n",
       "      <th>Math I_Size</th>\n",
       "      <th>lea_total_expense_num</th>\n",
       "      <th>...</th>\n",
       "      <th>Math SPG Grade_D</th>\n",
       "      <th>Math SPG Grade_F</th>\n",
       "      <th>EVAAS Growth Status_Met</th>\n",
       "      <th>EVAAS Growth Status_NotMet</th>\n",
       "      <th>State Gap Compared_Y</th>\n",
       "      <th>Byod_Yes</th>\n",
       "      <th>_1_to_1_access_Yes</th>\n",
       "      <th>SRC_devices_sent_home_Yes</th>\n",
       "      <th>unit_code</th>\n",
       "      <th>lea_salary</th>\n",
       "    </tr>\n",
       "  </thead>\n",
       "  <tbody>\n",
       "    <tr>\n",
       "      <th>count</th>\n",
       "      <td>2325.000000</td>\n",
       "      <td>2325.000000</td>\n",
       "      <td>2325.000000</td>\n",
       "      <td>2325.000000</td>\n",
       "      <td>2325.000000</td>\n",
       "      <td>2325.000000</td>\n",
       "      <td>2325.000000</td>\n",
       "      <td>2325.000000</td>\n",
       "      <td>2325.000000</td>\n",
       "      <td>2325.000000</td>\n",
       "      <td>...</td>\n",
       "      <td>2325.000000</td>\n",
       "      <td>2325.000000</td>\n",
       "      <td>2325.000000</td>\n",
       "      <td>2325.000000</td>\n",
       "      <td>2325.000000</td>\n",
       "      <td>2325.000000</td>\n",
       "      <td>2325.000000</td>\n",
       "      <td>2325.000000</td>\n",
       "      <td>2325.000000</td>\n",
       "      <td>2325.000000</td>\n",
       "    </tr>\n",
       "    <tr>\n",
       "      <th>mean</th>\n",
       "      <td>602.258065</td>\n",
       "      <td>586.173333</td>\n",
       "      <td>582.750108</td>\n",
       "      <td>10.117419</td>\n",
       "      <td>10.303226</td>\n",
       "      <td>10.223226</td>\n",
       "      <td>11.397419</td>\n",
       "      <td>11.302366</td>\n",
       "      <td>8.920860</td>\n",
       "      <td>9315.500168</td>\n",
       "      <td>...</td>\n",
       "      <td>0.193548</td>\n",
       "      <td>0.064086</td>\n",
       "      <td>0.454624</td>\n",
       "      <td>0.232688</td>\n",
       "      <td>0.038710</td>\n",
       "      <td>0.295914</td>\n",
       "      <td>0.440860</td>\n",
       "      <td>0.172473</td>\n",
       "      <td>529016.553978</td>\n",
       "      <td>7765.440093</td>\n",
       "    </tr>\n",
       "    <tr>\n",
       "      <th>std</th>\n",
       "      <td>387.084404</td>\n",
       "      <td>268.803431</td>\n",
       "      <td>147.401765</td>\n",
       "      <td>9.609836</td>\n",
       "      <td>9.772481</td>\n",
       "      <td>9.774461</td>\n",
       "      <td>10.850985</td>\n",
       "      <td>11.143456</td>\n",
       "      <td>11.366668</td>\n",
       "      <td>997.190832</td>\n",
       "      <td>...</td>\n",
       "      <td>0.395164</td>\n",
       "      <td>0.244959</td>\n",
       "      <td>0.498044</td>\n",
       "      <td>0.422636</td>\n",
       "      <td>0.192944</td>\n",
       "      <td>0.456551</td>\n",
       "      <td>0.496597</td>\n",
       "      <td>0.377872</td>\n",
       "      <td>276536.129327</td>\n",
       "      <td>769.588830</td>\n",
       "    </tr>\n",
       "    <tr>\n",
       "      <th>min</th>\n",
       "      <td>5.000000</td>\n",
       "      <td>5.000000</td>\n",
       "      <td>278.000000</td>\n",
       "      <td>0.000000</td>\n",
       "      <td>0.000000</td>\n",
       "      <td>0.000000</td>\n",
       "      <td>0.000000</td>\n",
       "      <td>0.000000</td>\n",
       "      <td>0.000000</td>\n",
       "      <td>8150.840000</td>\n",
       "      <td>...</td>\n",
       "      <td>0.000000</td>\n",
       "      <td>0.000000</td>\n",
       "      <td>0.000000</td>\n",
       "      <td>0.000000</td>\n",
       "      <td>0.000000</td>\n",
       "      <td>0.000000</td>\n",
       "      <td>0.000000</td>\n",
       "      <td>0.000000</td>\n",
       "      <td>10304.000000</td>\n",
       "      <td>6599.185920</td>\n",
       "    </tr>\n",
       "    <tr>\n",
       "      <th>25%</th>\n",
       "      <td>367.000000</td>\n",
       "      <td>430.000000</td>\n",
       "      <td>490.000000</td>\n",
       "      <td>0.000000</td>\n",
       "      <td>0.000000</td>\n",
       "      <td>0.000000</td>\n",
       "      <td>0.000000</td>\n",
       "      <td>0.000000</td>\n",
       "      <td>0.000000</td>\n",
       "      <td>8731.670000</td>\n",
       "      <td>...</td>\n",
       "      <td>0.000000</td>\n",
       "      <td>0.000000</td>\n",
       "      <td>0.000000</td>\n",
       "      <td>0.000000</td>\n",
       "      <td>0.000000</td>\n",
       "      <td>0.000000</td>\n",
       "      <td>0.000000</td>\n",
       "      <td>0.000000</td>\n",
       "      <td>300325.000000</td>\n",
       "      <td>7269.293520</td>\n",
       "    </tr>\n",
       "    <tr>\n",
       "      <th>50%</th>\n",
       "      <td>529.000000</td>\n",
       "      <td>529.000000</td>\n",
       "      <td>490.000000</td>\n",
       "      <td>14.000000</td>\n",
       "      <td>14.000000</td>\n",
       "      <td>14.000000</td>\n",
       "      <td>15.000000</td>\n",
       "      <td>14.000000</td>\n",
       "      <td>0.000000</td>\n",
       "      <td>8976.750000</td>\n",
       "      <td>...</td>\n",
       "      <td>0.000000</td>\n",
       "      <td>0.000000</td>\n",
       "      <td>0.000000</td>\n",
       "      <td>0.000000</td>\n",
       "      <td>0.000000</td>\n",
       "      <td>0.000000</td>\n",
       "      <td>0.000000</td>\n",
       "      <td>0.000000</td>\n",
       "      <td>530354.000000</td>\n",
       "      <td>7666.549830</td>\n",
       "    </tr>\n",
       "    <tr>\n",
       "      <th>75%</th>\n",
       "      <td>738.000000</td>\n",
       "      <td>683.000000</td>\n",
       "      <td>629.000000</td>\n",
       "      <td>19.000000</td>\n",
       "      <td>20.000000</td>\n",
       "      <td>20.000000</td>\n",
       "      <td>21.000000</td>\n",
       "      <td>22.000000</td>\n",
       "      <td>20.000000</td>\n",
       "      <td>9722.920000</td>\n",
       "      <td>...</td>\n",
       "      <td>0.000000</td>\n",
       "      <td>0.000000</td>\n",
       "      <td>1.000000</td>\n",
       "      <td>0.000000</td>\n",
       "      <td>0.000000</td>\n",
       "      <td>1.000000</td>\n",
       "      <td>1.000000</td>\n",
       "      <td>0.000000</td>\n",
       "      <td>780374.000000</td>\n",
       "      <td>8001.763770</td>\n",
       "    </tr>\n",
       "    <tr>\n",
       "      <th>max</th>\n",
       "      <td>2974.000000</td>\n",
       "      <td>1852.000000</td>\n",
       "      <td>853.000000</td>\n",
       "      <td>27.000000</td>\n",
       "      <td>28.000000</td>\n",
       "      <td>40.000000</td>\n",
       "      <td>44.000000</td>\n",
       "      <td>68.000000</td>\n",
       "      <td>42.000000</td>\n",
       "      <td>17718.540000</td>\n",
       "      <td>...</td>\n",
       "      <td>1.000000</td>\n",
       "      <td>1.000000</td>\n",
       "      <td>1.000000</td>\n",
       "      <td>1.000000</td>\n",
       "      <td>1.000000</td>\n",
       "      <td>1.000000</td>\n",
       "      <td>1.000000</td>\n",
       "      <td>1.000000</td>\n",
       "      <td>995336.000000</td>\n",
       "      <td>14121.676380</td>\n",
       "    </tr>\n",
       "  </tbody>\n",
       "</table>\n",
       "<p>8 rows × 395 columns</p>\n",
       "</div>"
      ],
      "text/plain": [
       "       student_num  lea_avg_student_num  st_avg_student_num      00_Size  \\\n",
       "count  2325.000000          2325.000000         2325.000000  2325.000000   \n",
       "mean    602.258065           586.173333          582.750108    10.117419   \n",
       "std     387.084404           268.803431          147.401765     9.609836   \n",
       "min       5.000000             5.000000          278.000000     0.000000   \n",
       "25%     367.000000           430.000000          490.000000     0.000000   \n",
       "50%     529.000000           529.000000          490.000000    14.000000   \n",
       "75%     738.000000           683.000000          629.000000    19.000000   \n",
       "max    2974.000000          1852.000000          853.000000    27.000000   \n",
       "\n",
       "           02_Size      03_Size      04_Size      05_Size  Math I_Size  \\\n",
       "count  2325.000000  2325.000000  2325.000000  2325.000000  2325.000000   \n",
       "mean     10.303226    10.223226    11.397419    11.302366     8.920860   \n",
       "std       9.772481     9.774461    10.850985    11.143456    11.366668   \n",
       "min       0.000000     0.000000     0.000000     0.000000     0.000000   \n",
       "25%       0.000000     0.000000     0.000000     0.000000     0.000000   \n",
       "50%      14.000000    14.000000    15.000000    14.000000     0.000000   \n",
       "75%      20.000000    20.000000    21.000000    22.000000    20.000000   \n",
       "max      28.000000    40.000000    44.000000    68.000000    42.000000   \n",
       "\n",
       "       lea_total_expense_num      ...       Math SPG Grade_D  \\\n",
       "count            2325.000000      ...            2325.000000   \n",
       "mean             9315.500168      ...               0.193548   \n",
       "std               997.190832      ...               0.395164   \n",
       "min              8150.840000      ...               0.000000   \n",
       "25%              8731.670000      ...               0.000000   \n",
       "50%              8976.750000      ...               0.000000   \n",
       "75%              9722.920000      ...               0.000000   \n",
       "max             17718.540000      ...               1.000000   \n",
       "\n",
       "       Math SPG Grade_F  EVAAS Growth Status_Met  EVAAS Growth Status_NotMet  \\\n",
       "count       2325.000000              2325.000000                 2325.000000   \n",
       "mean           0.064086                 0.454624                    0.232688   \n",
       "std            0.244959                 0.498044                    0.422636   \n",
       "min            0.000000                 0.000000                    0.000000   \n",
       "25%            0.000000                 0.000000                    0.000000   \n",
       "50%            0.000000                 0.000000                    0.000000   \n",
       "75%            0.000000                 1.000000                    0.000000   \n",
       "max            1.000000                 1.000000                    1.000000   \n",
       "\n",
       "       State Gap Compared_Y     Byod_Yes  _1_to_1_access_Yes  \\\n",
       "count           2325.000000  2325.000000         2325.000000   \n",
       "mean               0.038710     0.295914            0.440860   \n",
       "std                0.192944     0.456551            0.496597   \n",
       "min                0.000000     0.000000            0.000000   \n",
       "25%                0.000000     0.000000            0.000000   \n",
       "50%                0.000000     0.000000            0.000000   \n",
       "75%                0.000000     1.000000            1.000000   \n",
       "max                1.000000     1.000000            1.000000   \n",
       "\n",
       "       SRC_devices_sent_home_Yes      unit_code    lea_salary  \n",
       "count                2325.000000    2325.000000   2325.000000  \n",
       "mean                    0.172473  529016.553978   7765.440093  \n",
       "std                     0.377872  276536.129327    769.588830  \n",
       "min                     0.000000   10304.000000   6599.185920  \n",
       "25%                     0.000000  300325.000000   7269.293520  \n",
       "50%                     0.000000  530354.000000   7666.549830  \n",
       "75%                     0.000000  780374.000000   8001.763770  \n",
       "max                     1.000000  995336.000000  14121.676380  \n",
       "\n",
       "[8 rows x 395 columns]"
      ]
     },
     "execution_count": 13,
     "metadata": {},
     "output_type": "execute_result"
    }
   ],
   "source": [
    "schData.select_dtypes(exclude=['object']).describe()"
   ]
  },
  {
   "cell_type": "code",
   "execution_count": 14,
   "metadata": {},
   "outputs": [
    {
     "name": "stdout",
     "output_type": "stream",
     "text": [
      "<class 'pandas.core.frame.DataFrame'>\n",
      "Int64Index: 2325 entries, 1 to 2467\n",
      "Data columns (total 395 columns):\n",
      "student_num                                                     float64\n",
      "lea_avg_student_num                                             float64\n",
      "st_avg_student_num                                              float64\n",
      "00_Size                                                         float64\n",
      "02_Size                                                         float64\n",
      "03_Size                                                         float64\n",
      "04_Size                                                         float64\n",
      "05_Size                                                         float64\n",
      "Math I_Size                                                     float64\n",
      "lea_total_expense_num                                           float64\n",
      "lea_salary_expense_pct                                          float64\n",
      "lea_services_expense_pct                                        float64\n",
      "lea_supplies_expense_pct                                        float64\n",
      "lea_instruct_equip_exp_pct                                      float64\n",
      "lea_federal_perpupil_num                                        float64\n",
      "lea_local_perpupil_num                                          float64\n",
      "lea_state_perpupil_num                                          float64\n",
      "SPG Score                                                       float64\n",
      "Reading SPG Score                                               float64\n",
      "EVAAS Growth Score                                              float64\n",
      "Science Score                                                   float64\n",
      "NC Math 1 Score                                                 float64\n",
      "EOG/EOCSubjects_CACR_All                                        float64\n",
      "EOGGr3_CACR_All                                                 float64\n",
      "EOGGr4_CACR_All                                                 float64\n",
      "EOGGr5_CACR_All                                                 float64\n",
      "EOCMathI_CACR_Female                                            float64\n",
      "EOCMathI_CACR_Male                                              float64\n",
      "EOCMathI_CACR_AmericanIndian                                    float64\n",
      "EOCSubjects_CACR_AmericanIndian                                 float64\n",
      "EOG/EOCSubjects_CACR_AmericanIndian                             float64\n",
      "EOGGr3_CACR_AmericanIndian                                      float64\n",
      "EOGGr4_CACR_AmericanIndian                                      float64\n",
      "EOGGr5_CACR_AmericanIndian                                      float64\n",
      "EOGMathGr3_CACR_AmericanIndian                                  float64\n",
      "EOGMathGr3-8_CACR_AmericanIndian                                float64\n",
      "EOGMathGr4_CACR_AmericanIndian                                  float64\n",
      "EOGMathGr5_CACR_AmericanIndian                                  float64\n",
      "EOGReadingGr3_CACR_AmericanIndian                               float64\n",
      "EOGReadingGr3-8_CACR_AmericanIndian                             float64\n",
      "EOGReadingGr4_CACR_AmericanIndian                               float64\n",
      "EOGReadingGr5_CACR_AmericanIndian                               float64\n",
      "EOGReadingGr5_GLP_AmericanIndian                                float64\n",
      "EOGScienceGr5_CACR_AmericanIndian                               float64\n",
      "EOGScienceGr5&8_CACR_AmericanIndian                             float64\n",
      "EOGSubjects_CACR_AmericanIndian                                 float64\n",
      "EOCMathI_CACR_Asian                                             float64\n",
      "EOCSubjects_CACR_Asian                                          float64\n",
      "EOG/EOCSubjects_CACR_Asian                                      float64\n",
      "EOGGr3_CACR_Asian                                               float64\n",
      "EOGGr4_CACR_Asian                                               float64\n",
      "EOGGr5_CACR_Asian                                               float64\n",
      "EOGMathGr3_CACR_Asian                                           float64\n",
      "EOGMathGr3-8_CACR_Asian                                         float64\n",
      "EOGMathGr4_CACR_Asian                                           float64\n",
      "EOGMathGr5_CACR_Asian                                           float64\n",
      "EOGScienceGr5&8_CACR_Asian                                      float64\n",
      "EOGSubjects_CACR_Asian                                          float64\n",
      "EOCMathI_CACR_Black                                             float64\n",
      "EOCSubjects_CACR_Black                                          float64\n",
      "EOG/EOCSubjects_CACR_Black                                      float64\n",
      "EOGGr3_CACR_Black                                               float64\n",
      "EOGGr4_CACR_Black                                               float64\n",
      "EOGGr5_CACR_Black                                               float64\n",
      "EOGMathGr3_CACR_Black                                           float64\n",
      "EOGMathGr3-8_CACR_Black                                         float64\n",
      "EOGMathGr4_CACR_Black                                           float64\n",
      "EOGMathGr5_CACR_Black                                           float64\n",
      "EOGReadingGr3_CACR_Black                                        float64\n",
      "EOGReadingGr3-8_CACR_Black                                      float64\n",
      "EOGReadingGr4_CACR_Black                                        float64\n",
      "EOGReadingGr5_CACR_Black                                        float64\n",
      "EOGScienceGr5_CACR_Black                                        float64\n",
      "EOGScienceGr5&8_CACR_Black                                      float64\n",
      "EOGSubjects_CACR_Black                                          float64\n",
      "EOCMathI_CACR_Hispanic                                          float64\n",
      "EOCSubjects_CACR_Hispanic                                       float64\n",
      "EOG/EOCSubjects_CACR_Hispanic                                   float64\n",
      "EOGGr3_CACR_Hispanic                                            float64\n",
      "EOGGr4_CACR_Hispanic                                            float64\n",
      "EOGGr5_CACR_Hispanic                                            float64\n",
      "EOGMathGr3_CACR_Hispanic                                        float64\n",
      "EOGMathGr3-8_CACR_Hispanic                                      float64\n",
      "EOGMathGr4_CACR_Hispanic                                        float64\n",
      "EOGMathGr5_CACR_Hispanic                                        float64\n",
      "EOGReadingGr3_CACR_Hispanic                                     float64\n",
      "EOGReadingGr3-8_CACR_Hispanic                                   float64\n",
      "EOGReadingGr4_CACR_Hispanic                                     float64\n",
      "EOGReadingGr5_CACR_Hispanic                                     float64\n",
      "EOGScienceGr5&8_CACR_Hispanic                                   float64\n",
      "EOGSubjects_CACR_Hispanic                                       float64\n",
      "EOCMathI_CACR_TwoorMoreRaces                                    float64\n",
      "EOCSubjects_CACR_TwoorMoreRaces                                 float64\n",
      "EOG/EOCSubjects_CACR_TwoorMoreRaces                             float64\n",
      "EOGGr3_CACR_TwoorMoreRaces                                      float64\n",
      "EOGGr4_CACR_TwoorMoreRaces                                      float64\n",
      "EOGGr5_CACR_TwoorMoreRaces                                      float64\n",
      "EOGMathGr3_CACR_TwoorMoreRaces                                  float64\n",
      "EOGMathGr3-8_CACR_TwoorMoreRaces                                float64\n",
      "EOGMathGr4_CACR_TwoorMoreRaces                                  float64\n",
      "EOGMathGr5_CACR_TwoorMoreRaces                                  float64\n",
      "EOGReadingGr3-8_CACR_TwoorMoreRaces                             float64\n",
      "EOGScienceGr5&8_CACR_TwoorMoreRaces                             float64\n",
      "EOGSubjects_CACR_TwoorMoreRaces                                 float64\n",
      "EOCMathI_CACR_White                                             float64\n",
      "EOG/EOCSubjects_CACR_White                                      float64\n",
      "EOGGr3_CACR_White                                               float64\n",
      "EOGGr4_CACR_White                                               float64\n",
      "EOGGr5_CACR_White                                               float64\n",
      "EOGMathGr3_CACR_White                                           float64\n",
      "EOGMathGr3-8_CACR_White                                         float64\n",
      "EOGMathGr4_CACR_White                                           float64\n",
      "EOGMathGr5_CACR_White                                           float64\n",
      "EOGScienceGr5&8_CACR_White                                      float64\n",
      "EOCMathI_CACR_EDS                                               float64\n",
      "EOG/EOCSubjects_CACR_EDS                                        float64\n",
      "EOGGr3_CACR_EDS                                                 float64\n",
      "EOGGr4_CACR_EDS                                                 float64\n",
      "EOGMathGr3_CACR_EDS                                             float64\n",
      "EOGMathGr3-8_CACR_EDS                                           float64\n",
      "EOGMathGr4_CACR_EDS                                             float64\n",
      "EOGMathGr5_CACR_EDS                                             float64\n",
      "EOGReadingGr3_CACR_EDS                                          float64\n",
      "EOGReadingGr3-8_CACR_EDS                                        float64\n",
      "EOGReadingGr4_CACR_EDS                                          float64\n",
      "EOGReadingGr5_CACR_EDS                                          float64\n",
      "EOGScienceGr5_CACR_EDS                                          float64\n",
      "EOGScienceGr5&8_CACR_EDS                                        float64\n",
      "EOCMathI_CACR_LEP                                               float64\n",
      "EOCMathI_GLP_LEP                                                float64\n",
      "EOCSubjects_CACR_LEP                                            float64\n",
      "EOCSubjects_GLP_LEP                                             float64\n",
      "EOG/EOCSubjects_CACR_LEP                                        float64\n",
      "EOG/EOCSubjects_GLP_LEP                                         float64\n",
      "EOGGr3_CACR_LEP                                                 float64\n",
      "EOGGr4_CACR_LEP                                                 float64\n",
      "EOGGr4_GLP_LEP                                                  float64\n",
      "EOGGr5_CACR_LEP                                                 float64\n",
      "EOGMathGr3_CACR_LEP                                             float64\n",
      "EOGMathGr3-8_CACR_LEP                                           float64\n",
      "EOGMathGr4_CACR_LEP                                             float64\n",
      "EOGMathGr5_CACR_LEP                                             float64\n",
      "EOGReadingGr3_CACR_LEP                                          float64\n",
      "EOGReadingGr3_GLP_LEP                                           float64\n",
      "EOGReadingGr3-8_CACR_LEP                                        float64\n",
      "EOGReadingGr3-8_GLP_LEP                                         float64\n",
      "EOGReadingGr4_CACR_LEP                                          float64\n",
      "EOGReadingGr4_GLP_LEP                                           float64\n",
      "EOGReadingGr5_CACR_LEP                                          float64\n",
      "EOGReadingGr5_GLP_LEP                                           float64\n",
      "EOGScienceGr5_CACR_LEP                                          float64\n",
      "EOGScienceGr5_GLP_LEP                                           float64\n",
      "EOGScienceGr5&8_CACR_LEP                                        float64\n",
      "EOGScienceGr5&8_GLP_LEP                                         float64\n",
      "EOGSubjects_CACR_LEP                                            float64\n",
      "EOCMathI_CACR_SWD                                               float64\n",
      "EOCMathI_GLP_SWD                                                float64\n",
      "EOCSubjects_CACR_SWD                                            float64\n",
      "EOG/EOCSubjects_CACR_SWD                                        float64\n",
      "EOGGr3_CACR_SWD                                                 float64\n",
      "EOGGr4_CACR_SWD                                                 float64\n",
      "EOGGr5_CACR_SWD                                                 float64\n",
      "EOGMathGr3_CACR_SWD                                             float64\n",
      "EOGMathGr3_GLP_SWD                                              float64\n",
      "EOGMathGr3-8_CACR_SWD                                           float64\n",
      "EOGMathGr4_CACR_SWD                                             float64\n",
      "EOGMathGr5_CACR_SWD                                             float64\n",
      "EOGReadingGr3_CACR_SWD                                          float64\n",
      "EOGReadingGr3-8_CACR_SWD                                        float64\n",
      "EOGReadingGr3-8_GLP_SWD                                         float64\n",
      "EOGReadingGr4_CACR_SWD                                          float64\n",
      "EOGReadingGr4_GLP_SWD                                           float64\n",
      "EOGReadingGr5_CACR_SWD                                          float64\n",
      "EOGReadingGr5_GLP_SWD                                           float64\n",
      "EOGScienceGr5_CACR_SWD                                          float64\n",
      "EOGScienceGr5&8_CACR_SWD                                        float64\n",
      "EOGSubjects_CACR_SWD                                            float64\n",
      "EOCMathI_CACR_AIG                                               float64\n",
      "EOCSubjects_CACR_AIG                                            float64\n",
      "EOG/EOCSubjects_CACR_AIG                                        float64\n",
      "EOGGr3_CACR_AIG                                                 float64\n",
      "EOGGr4_CACR_AIG                                                 float64\n",
      "EOGGr5_CACR_AIG                                                 float64\n",
      "EOGMathGr3_CACR_AIG                                             float64\n",
      "EOGMathGr3-8_CACR_AIG                                           float64\n",
      "EOGMathGr4_CACR_AIG                                             float64\n",
      "EOGMathGr5_CACR_AIG                                             float64\n",
      "EOGScienceGr5&8_CACR_AIG                                        float64\n",
      "EOGSubjects_CACR_AIG                                            float64\n",
      "pct_GCE_ALL                                                     float64\n",
      "MathGr3-8_pTarget_PctMet                                        float64\n",
      "SciGr5&8_pTarget_PctMet                                         float64\n",
      "TotalTargets_pTarget_PctMet                                     float64\n",
      "lea_sat_avg_score_num                                           float64\n",
      "lea_sat_participation_pct                                       float64\n",
      "lea_ap_participation_pct                                        float64\n",
      "lea_ap_pct_3_or_above                                           float64\n",
      "lea_ib_pct_4_or_above                                           float64\n",
      "avg_daily_attend_pct                                            float64\n",
      "crime_per_c_num                                                 float64\n",
      "short_susp_per_c_num                                            float64\n",
      "long_susp_per_c_num                                             float64\n",
      "expelled_per_c_num                                              float64\n",
      "stud_internet_comp_num                                          float64\n",
      "lea_avg_daily_attend_pct                                        float64\n",
      "lea_crime_per_c_num                                             float64\n",
      "lea_short_susp_per_c_num                                        float64\n",
      "lea_long_susp_per_c_num                                         float64\n",
      "lea_expelled_per_c_num                                          float64\n",
      "lea_stud_internet_comp_num                                      float64\n",
      "st_avg_daily_attend_pct                                         float64\n",
      "st_crime_per_c_num                                              float64\n",
      "st_short_susp_per_c_num                                         float64\n",
      "st_long_susp_per_c_num                                          float64\n",
      "st_expelled_per_c_num                                           float64\n",
      "digital_media_pct                                               float64\n",
      "avg_age_media_collection                                        float64\n",
      "books_per_student                                               float64\n",
      "lea_books_per_student                                           float64\n",
      "wap_num                                                         float64\n",
      "wap_per_classroom                                               float64\n",
      "lea_wap_num                                                     float64\n",
      "lea_wap_per_classroom                                           float64\n",
      "flicensed_teach_pct                                             float64\n",
      "tchyrs_0thru3_pct                                               float64\n",
      "tchyrs_4thru10_pct                                              float64\n",
      "tchyrs_11plus_pct                                               float64\n",
      "nbpts_num                                                       float64\n",
      "advance_dgr_pct                                                 float64\n",
      "_1yr_tchr_trnovr_pct                                            float64\n",
      "lateral_teach_pct                                               float64\n",
      "lea_flicensed_teach_pct                                         float64\n",
      "lea_tchyrs_0thru3_pct                                           float64\n",
      "lea_tchyrs_4thru10_pct                                          float64\n",
      "lea_tchyrs_11plus_pct                                           float64\n",
      "lea_nbpts_num                                                   float64\n",
      "lea_advance_dgr_pct                                             float64\n",
      "lea_1yr_tchr_trnovr_pct                                         float64\n",
      "lea_emer_prov_teach_pct                                         float64\n",
      "st_flicensed_teach_pct                                          float64\n",
      "st_tchyrs_0thru3_pct                                            float64\n",
      "st_tchyrs_11plus_pct                                            float64\n",
      "st_nbpts_num                                                    float64\n",
      "st_1yr_tchr_trnovr_pct                                          float64\n",
      "st_emer_prov_teach_pct                                          float64\n",
      "0-3 Years_LEA_Exp_Pct_Prin                                      float64\n",
      "10+ Years_LEA_Exp_Pct_Prin                                      float64\n",
      "4-10 Years_LEA_Exp_Pct_Prin                                     float64\n",
      "Accomplished_TCHR_Standard 1_Pct                                float64\n",
      "Accomplished_TCHR_Standard 2_Pct                                float64\n",
      "Accomplished_TCHR_Standard 3_Pct                                float64\n",
      "Accomplished_TCHR_Standard 4_Pct                                float64\n",
      "Accomplished_TCHR_Standard 5_Pct                                float64\n",
      "Developing_TCHR_Standard 1_Pct                                  float64\n",
      "Developing_TCHR_Standard 2_Pct                                  float64\n",
      "Developing_TCHR_Standard 3_Pct                                  float64\n",
      "Developing_TCHR_Standard 4_Pct                                  float64\n",
      "Developing_TCHR_Standard 5_Pct                                  float64\n",
      "Distinguished_TCHR_Standard 1_Pct                               float64\n",
      "Distinguished_TCHR_Standard 2_Pct                               float64\n",
      "Distinguished_TCHR_Standard 3_Pct                               float64\n",
      "Distinguished_TCHR_Standard 4_Pct                               float64\n",
      "Distinguished_TCHR_Standard 5_Pct                               float64\n",
      "Does Not Meet Expected Growth_TCHR_Student Growth_Pct           float64\n",
      "Exceeds Expected Growth_TCHR_Student Growth_Pct                 float64\n",
      "Meets Expected Growth_TCHR_Student Growth_Pct                   float64\n",
      "Not Demostrated_TCHR_Standard 1_Pct                             float64\n",
      "Not Demostrated_TCHR_Standard 2_Pct                             float64\n",
      "Not Demostrated_TCHR_Standard 4_Pct                             float64\n",
      "Proficient_TCHR_Standard 1_Pct                                  float64\n",
      "Proficient_TCHR_Standard 2_Pct                                  float64\n",
      "Proficient_TCHR_Standard 3_Pct                                  float64\n",
      "Proficient_TCHR_Standard 4_Pct                                  float64\n",
      "Proficient_TCHR_Standard 5_Pct                                  float64\n",
      "IndianPct                                                       float64\n",
      "AsianPct                                                        float64\n",
      "HispanicPct                                                     float64\n",
      "BlackPct                                                        float64\n",
      "WhitePct                                                        float64\n",
      "PacificIslandPct                                                float64\n",
      "TwoOrMorePct                                                    float64\n",
      "PacificIslandMalePct                                            float64\n",
      "TwoOrMoreMalePct                                                float64\n",
      "PacificIslandFemalePct                                          float64\n",
      "TwoOrMoreFemalePct                                              float64\n",
      "pct_eds                                                         float64\n",
      "Year                                                            float64\n",
      "Crime_Rate_Violent_Rate                                         float64\n",
      "Crime_Rate_Murder_Rate                                          float64\n",
      "Crime_Rate_Rape_Rate                                            float64\n",
      "Crime_Rate_Robbery_Rate                                         float64\n",
      "Crime_Rate_MVT_Rate                                             float64\n",
      "Crime_Rate_Arson_Rate                                           float64\n",
      "(TCE) prepared returns Ct 100KLT200K                            float64\n",
      "(TCE) prepared returns Ct 25KLT50K                              float64\n",
      "(TCE) prepared returns Ct 75KLT100K                             float64\n",
      "(VITA) prepared returns Ct 100KLT200K                           float64\n",
      "(VITA) prepared returns Ct 25KLT50K                             float64\n",
      "(VITA) prepared returns Ct 50KLT75K                             float64\n",
      "Add child tax credit Amt 25KLT50K                               float64\n",
      "Add child tax credit Amt 75KLT100K                              float64\n",
      "Advance premium tax credit Amt GE200K                           float64\n",
      "Alternative minimum tax Amt 25KLT50K                            float64\n",
      "Alternative minimum tax Amt 50KLT75K                            float64\n",
      "Alternative minimum tax Amt 75KLT100K                           float64\n",
      "Alternative minimum tax Ct 50KLT75K                             float64\n",
      "Alternative minimum tax Ct 75KLT100K                            float64\n",
      "Deductible points Amt LT25K                                     float64\n",
      "Deductible points Ct LT25K                                      float64\n",
      "Domestic production activities deduction Amt 100KLT200K         float64\n",
      "Domestic production activities deduction Amt 25KLT50K           float64\n",
      "Domestic production activities deduction Amt 50KLT75K           float64\n",
      "Domestic production activities deduction Amt 75KLT100K          float64\n",
      "Domestic production activities deduction Amt LT25K              float64\n",
      "Domestic production activities deduction Ct 25KLT50K            float64\n",
      "Domestic production activities deduction Ct 50KLT75K            float64\n",
      "Domestic production activities deduction Ct 75KLT100K           float64\n",
      "Domestic production activities deduction Ct LT25K               float64\n",
      "Earned income credit Amt 50KLT75K                               float64\n",
      "Excess earned income credit (refundable) Amt 50KLT75K           float64\n",
      "Health care individual responsibility payment Amt GE200K        float64\n",
      "Home mortgage interest paid from personal seller Amt LT25K      float64\n",
      "Investment interest paid Amt 25KLT50K                           float64\n",
      "Investment interest paid Amt LT25K                              float64\n",
      "Investment interest paid Ct LT25K                               float64\n",
      "Net investment income tax Amt 100KLT200K                        float64\n",
      "Number of farm returns 100KLT200K                               float64\n",
      "Number of farm returns 25KLT50K                                 float64\n",
      "Number of farm returns 50KLT75K                                 float64\n",
      "Number of farm returns 75KLT100K                                float64\n",
      "Number of farm returns All                                      float64\n",
      "Number of farm returns GE200K                                   float64\n",
      "Number of farm returns LT25K                                    float64\n",
      "Number of refund anticipation loan returns 50KLT75K             float64\n",
      "Number of volunteer prepared returns Tot 50KLT75K               float64\n",
      "Other non-limited misc deduction Amt 50KLT75K                   float64\n",
      "Other non-limited misc deduction Amt 75KLT100K                  float64\n",
      "Other non-limited misc deduction Amt LT25K                      float64\n",
      "Other non-limited misc deduction Ct 75KLT100K                   float64\n",
      "Other non-limited misc deduction Ct LT25K                       float64\n",
      "Partnership/S-corp net income (less loss) Amt LT25K             float64\n",
      "Residential energy tax credit Amt LT25K                         float64\n",
      "Residential energy tax credit Ct LT25K                          float64\n",
      "Self-employed (Keogh) retirement plans Amt LT25K                float64\n",
      "Self-employed (Keogh) retirement plans Ct LT25K                 float64\n",
      "Tot Add Medicare tax Amt 25KLT50K                               float64\n",
      "Tuition and fees deduction Amt 75KLT100K                        float64\n",
      "LEACode                                                         float64\n",
      "Attrtion_Reason_InitiatedbyLEA                                  float64\n",
      "Attrtion_Reason_OtherReasons                                    float64\n",
      "category_cd_E                                                   int64\n",
      "category_cd_H                                                   int64\n",
      "category_cd_I                                                   int64\n",
      "category_cd_M                                                   int64\n",
      "calendar_type_txt_Hospital School                               int64\n",
      "calendar_type_txt_Magnet School, Traditional Calendar           int64\n",
      "calendar_type_txt_Magnet School, Year-Round Calendar            int64\n",
      "calendar_type_txt_Regular School, Traditional Calendar          int64\n",
      "calendar_type_txt_Regular School, Year-Round Calendar           int64\n",
      "calendar_type_txt_Special Education, Traditional Calendar       int64\n",
      "calendar_type_txt_Vocational Education, Traditional Calendar    int64\n",
      "school_type_txt_Magnet School                                   int64\n",
      "school_type_txt_Regular School                                  int64\n",
      "calendar_only_txt_Year-Round Calendar                           int64\n",
      "esea_status_P                                                   int64\n",
      "Grad_project_status_Y                                           int64\n",
      "SBE District_Northeast                                          int64\n",
      "SBE District_Northwest                                          int64\n",
      "SBE District_Piedmont-Triad                                     int64\n",
      "SBE District_Sandhills                                          int64\n",
      "SBE District_Southeast                                          int64\n",
      "SBE District_Southwest                                          int64\n",
      "SBE District_Western                                            int64\n",
      "SPG Grade_A+NG                                                  int64\n",
      "SPG Grade_B                                                     int64\n",
      "SPG Grade_C                                                     int64\n",
      "SPG Grade_D                                                     int64\n",
      "SPG Grade_F                                                     int64\n",
      "SPG Grade_I                                                     int64\n",
      "Reading SPG Grade_B                                             int64\n",
      "Reading SPG Grade_C                                             int64\n",
      "Reading SPG Grade_D                                             int64\n",
      "Reading SPG Grade_F                                             int64\n",
      "Math SPG Grade_B                                                int64\n",
      "Math SPG Grade_C                                                int64\n",
      "Math SPG Grade_D                                                int64\n",
      "Math SPG Grade_F                                                int64\n",
      "EVAAS Growth Status_Met                                         int64\n",
      "EVAAS Growth Status_NotMet                                      int64\n",
      "State Gap Compared_Y                                            int64\n",
      "Byod_Yes                                                        int64\n",
      "_1_to_1_access_Yes                                              int64\n",
      "SRC_devices_sent_home_Yes                                       int64\n",
      "unit_code                                                       int64\n",
      "lea_salary                                                      float64\n",
      "dtypes: float64(351), int64(44)\n",
      "memory usage: 7.0 MB\n"
     ]
    }
   ],
   "source": [
    "schData.info(verbose=True)"
   ]
  },
  {
   "cell_type": "markdown",
   "metadata": {},
   "source": [
    "## Feature Selection"
   ]
  },
  {
   "cell_type": "markdown",
   "metadata": {},
   "source": [
    "* Fit full model"
   ]
  },
  {
   "cell_type": "code",
   "execution_count": 15,
   "metadata": {},
   "outputs": [],
   "source": [
    "schData_bak = schData\n",
    "#schData = schData_bak"
   ]
  },
  {
   "cell_type": "code",
   "execution_count": 16,
   "metadata": {},
   "outputs": [],
   "source": [
    "y= schData['_1yr_tchr_trnovr_pct']\n",
    "X = schData.drop(['_1yr_tchr_trnovr_pct'],axis=1)"
   ]
  },
  {
   "cell_type": "code",
   "execution_count": 22,
   "metadata": {},
   "outputs": [
    {
     "data": {
      "text/plain": [
       "array([ -9.49824335e-03,   1.21435520e-03,  -2.95889862e+10,\n",
       "         2.73119783e-03,  -3.42055366e-03,  -1.01425672e-02,\n",
       "         9.12938376e-03,   6.16985981e-03,   1.14573442e-03,\n",
       "        -5.78436029e+09,  -8.64172116e+09,  -5.28849146e+09,\n",
       "        -5.32614573e+09,  -2.32323928e+09,   1.78166983e+09,\n",
       "         4.32613004e+09,   4.28347449e+09,   1.07011795e-02,\n",
       "        -2.71987915e-03,  -6.80875778e-03,   8.45885277e-03,\n",
       "         5.88393211e-03,   8.12077522e-03,  -1.12314224e-02,\n",
       "        -9.68503952e-03,  -7.48538971e-03,  -8.05270672e-03,\n",
       "         3.45885754e-03,  -4.89473343e-04,   1.63650513e-03,\n",
       "         1.51968002e-03,  -1.78515911e-03,  -1.09231472e-03,\n",
       "         1.60813332e-04,   4.52995300e-05,   3.51023674e-03,\n",
       "        -4.20022011e-03,  -1.15537643e-03,  -3.87072563e-04,\n",
       "        -9.43660736e-04,   5.46777248e-03,   2.14540958e-03,\n",
       "         2.20108032e-03,  -1.07169151e-03,  -1.62947178e-03,\n",
       "        -3.81803513e-03,   2.84457207e-03,  -6.22630119e-03,\n",
       "         1.45294666e-02,  -2.51591206e-03,   5.32388687e-04,\n",
       "         1.13368034e-03,   7.13616610e-04,  -1.43134594e-03,\n",
       "         4.72623110e-03,  -4.65101004e-03,   3.18986177e-03,\n",
       "        -1.07354522e-02,  -4.16111946e-03,   4.99081612e-03,\n",
       "         1.84965134e-03,   2.06637383e-03,   3.62133980e-03,\n",
       "        -2.83050537e-03,  -9.24086571e-03,  -9.36198235e-03,\n",
       "        -6.24418259e-04,   4.90570068e-03,   9.89961624e-03,\n",
       "         4.29344177e-03,  -3.98421288e-03,  -1.07717514e-03,\n",
       "        -6.15787506e-03,   1.43814087e-03,   5.06639481e-04,\n",
       "         1.07533336e-02,  -8.08382034e-03,  -4.52756882e-04,\n",
       "        -9.75608826e-04,  -3.00502777e-03,  -3.14426422e-03,\n",
       "        -1.93929672e-03,   2.61926651e-03,   2.73275375e-03,\n",
       "         7.23171234e-03,   1.47390366e-03,   2.87222862e-03,\n",
       "        -2.74944305e-03,   1.31893158e-03,  -8.96477699e-03,\n",
       "        -1.44338608e-03,  -1.65319443e-03,   3.13186646e-03,\n",
       "        -5.32579422e-03,   3.13282013e-04,  -1.62410736e-03,\n",
       "        -2.01559067e-03,   9.69171524e-04,   1.47771835e-03,\n",
       "         9.91106033e-04,   2.65264511e-03,   3.00478935e-03,\n",
       "        -4.70161438e-04,   4.90379333e-03,   8.69601965e-04,\n",
       "         2.03180313e-03,   1.10964775e-02,  -1.20124817e-02,\n",
       "         1.22823715e-02,  -8.98170471e-03,   1.54638290e-03,\n",
       "         8.50296021e-03,   5.19037247e-03,  -1.04391575e-02,\n",
       "        -8.18729401e-04,  -1.18870735e-02,  -2.50625610e-03,\n",
       "        -4.97817993e-04,  -9.19342041e-04,   9.45711136e-03,\n",
       "        -8.98361206e-04,  -1.06525421e-03,   5.00679016e-05,\n",
       "        -4.89401817e-03,   7.62176514e-03,   2.34317780e-03,\n",
       "        -4.32538986e-03,   8.65364075e-03,   2.12645531e-03,\n",
       "        -2.58541107e-03,  -1.21576786e-02,   2.81548500e-03,\n",
       "         3.60710621e-02,  -7.52925873e-03,   2.09808350e-05,\n",
       "        -3.87525558e-03,   4.36484814e-03,   1.60574913e-04,\n",
       "         4.59635258e-03,  -2.75850296e-03,   1.87808275e-03,\n",
       "         3.87331843e-03,   5.46431541e-03,  -9.08875465e-03,\n",
       "        -8.67128372e-04,   2.26902962e-03,  -1.92433596e-03,\n",
       "        -1.04039907e-03,  -2.90249288e-03,   3.83642316e-03,\n",
       "        -7.24023581e-03,   4.09799814e-03,   1.16038322e-03,\n",
       "        -2.28309631e-03,  -2.66706944e-02,   2.03752518e-03,\n",
       "        -4.23526764e-03,   6.70659542e-03,  -1.38473511e-02,\n",
       "         6.65235519e-03,   3.31211090e-03,  -3.37815285e-03,\n",
       "         7.25269318e-04,  -9.47475433e-04,  -3.03506851e-03,\n",
       "        -3.47757339e-03,  -1.70898438e-03,  -4.09126282e-04,\n",
       "        -7.70640373e-03,   2.08473206e-03,   6.74200058e-03,\n",
       "        -8.42189789e-03,   5.22804260e-03,  -1.43480301e-03,\n",
       "        -3.84664536e-03,   2.99263000e-03,   2.40690708e-02,\n",
       "        -2.40945816e-03,  -4.67908382e-03,   4.24385071e-03,\n",
       "         7.03096390e-04,   2.65645981e-03,  -6.20365143e-04,\n",
       "        -6.48975372e-04,  -1.58596039e-03,   2.11668015e-03,\n",
       "        -3.57675552e-03,  -8.70227814e-04,  -9.21964645e-03,\n",
       "        -2.87188590e-03,   4.03809547e-03,  -7.19213486e-03,\n",
       "        -4.30011749e-03,   1.01700425e-03,  -3.09085846e-03,\n",
       "         1.26564503e-03,  -4.88990545e-03,   4.29260731e-03,\n",
       "         2.15291977e-04,  -1.34450197e-03,   5.93709946e-03,\n",
       "        -4.96697426e-03,  -7.53089786e-04,   1.85763836e-03,\n",
       "        -2.43668258e-03,  -6.96659088e-04,  -6.59489632e-03,\n",
       "         4.21559811e-03,  -1.30921602e-03,  -1.49810314e-03,\n",
       "        -1.84888101e+10,   3.07435365e+10,  -6.90138557e+09,\n",
       "        -8.35426743e+08,  -1.14983700e+10,   2.04646587e-03,\n",
       "         1.81770325e-03,   1.01923943e-03,  -8.83340836e-03,\n",
       "         1.06239319e-03,   6.79492950e-04,   7.33861923e-02,\n",
       "        -4.31609154e-03,  -2.25961208e-02,   8.74037743e-02,\n",
       "         5.28929532e-02,   7.54700899e-02,   3.51428986e-03,\n",
       "         3.95333767e-03,  -1.37405396e-02,   7.15565681e-03,\n",
       "        -1.05531216e-02,  -3.67164612e-05,   3.49879265e-03,\n",
       "        -1.12390518e-03,  -2.72357464e-03,   4.71422672e-02,\n",
       "        -5.98430634e-04,  -6.08679979e+09,  -6.91351315e+09,\n",
       "        -1.54708358e+09,   2.76538527e+09,  -4.65545350e+09,\n",
       "        -1.51462318e+10,  -7.56151676e-02,  -4.48403955e-02,\n",
       "        -5.89758158e-02,  -4.42140698e-01,   6.90607727e-02,\n",
       "        -1.60773158e-01,   5.12505889e-01,   9.21071768e-02,\n",
       "        -5.80689311e-02,   1.68166161e-02,  -3.42392325e-02,\n",
       "         8.40885639e-02,   1.48007125e-02,  -3.77480268e-01,\n",
       "         4.32088375e-02,  -9.51035023e-02,   3.32217216e-01,\n",
       "         6.11425638e-02,  -4.24504280e-04,  -3.21829319e-03,\n",
       "        -7.60793686e-04,  -2.56574154e-03,  -8.40559602e-04,\n",
       "         7.67682493e-03,  -5.09694934e-01,   7.70366192e-02,\n",
       "        -1.80733204e-01,   5.61775386e-01,   1.03922009e-01,\n",
       "         1.09400306e+09,   7.86892354e+08,   2.10655594e+09,\n",
       "         3.71093099e+09,   4.37902730e+09,  -4.55637883e+08,\n",
       "         4.41930555e+09,   3.18776889e+08,  -2.31399828e+09,\n",
       "         2.59007422e+08,  -2.23167237e+09,   6.63280487e-04,\n",
       "        -5.36084175e-04,  -9.98258591e-03,   6.83337450e-03,\n",
       "        -2.18674541e-03,   1.31416023e-02,   3.60983610e-03,\n",
       "        -5.05620241e-03,   8.55237246e-04,   7.71403313e-03,\n",
       "        -2.16168165e-02,   2.07922757e-02,  -9.44674015e-02,\n",
       "        -3.95450592e-02,   1.14764214e-01,  -3.05943489e-02,\n",
       "         1.18082762e-02,  -3.63975763e-03,  -2.21824646e-03,\n",
       "         8.23676586e-03,   1.25827789e-02,  -1.42264366e-02,\n",
       "        -3.89163494e-02,   4.87444401e-02,   3.41129303e-03,\n",
       "        -2.57313251e-02,   2.91347504e-04,  -8.10611248e-03,\n",
       "         5.75184822e-03,   1.25353336e-02,  -7.50803947e-03,\n",
       "         1.51607990e-02,  -5.70249557e-03,   7.09342957e-03,\n",
       "        -2.04228759e-02,  -4.51188087e-02,  -2.43179798e-02,\n",
       "        -1.32870674e-03,   2.81476974e-03,  -1.28116608e-02,\n",
       "         7.72237778e-04,   3.74827854e+09,   2.20883714e+09,\n",
       "         1.82183557e+09,   1.41735900e+09,  -9.32500912e+09,\n",
       "         4.76649802e+08,   1.99695068e+09,  -2.03844309e-02,\n",
       "         1.06172562e-01,  -9.27853584e-03,  -1.14011765e-03,\n",
       "         4.14609909e-03,  -1.61385536e-02,  -2.46527195e-02,\n",
       "        -2.06818581e-02,   4.52876091e-03,  -1.31342411e-02,\n",
       "        -1.56358480e-02,   1.74441338e-02,  -2.95065641e-02,\n",
       "        -2.15468407e-02,   1.46230459e-02,   5.77545166e-03,\n",
       "        -1.62434578e-02,  -4.63313628e+09,  -1.69848829e+10,\n",
       "         3.65333250e+09,   4.08507811e+08,   1.30355358e-03,\n",
       "         1.23656501e+09,   3.36152107e+08,   2.30602005e+09,\n",
       "         9.60130237e+08,   9.36985016e-05,  -8.24540696e+06,\n",
       "        -1.31921587e+09,  -2.01664817e+09,   3.54693614e+08,\n",
       "         4.21524048e-04,   1.01828575e-03,   1.35063380e-03,\n",
       "         1.15237236e-02,   9.08872485e-03,   3.61788273e-03,\n",
       "        -3.72540951e-03,   4.87023592e-03,   1.40918493e-02,\n",
       "         2.41327286e-03,  -2.26569176e-03,  -4.08363342e-03,\n",
       "         2.27272511e-03,   3.98695469e-03,  -4.11391258e-03,\n",
       "         1.98328495e-03,   3.18336487e-03,  -1.29902363e-03,\n",
       "        -2.46810913e-03,  -9.65595245e-04,   1.18052959e-03,\n",
       "         3.37541103e-03,  -1.07014179e-03,   2.71201134e-05,\n",
       "        -3.00681591e-03,  -2.76866555e-03,   1.08933449e-03,\n",
       "         2.09617615e-03,  -1.02925301e-03,  -1.54329538e-02,\n",
       "         1.62373304e-01])"
      ]
     },
     "execution_count": 22,
     "metadata": {},
     "output_type": "execute_result"
    }
   ],
   "source": [
    "from sklearn import metrics as mt\n",
    "import statsmodels.api as sm\n",
    "from sklearn import linear_model\n",
    "reg = linear_model.LinearRegression()\n",
    "\n",
    "result = reg.fit(X,y)\n",
    "result.coef_"
   ]
  },
  {
   "cell_type": "markdown",
   "metadata": {},
   "source": [
    "# Do we really need transform?"
   ]
  },
  {
   "cell_type": "code",
   "execution_count": 17,
   "metadata": {},
   "outputs": [],
   "source": [
    "from sklearn.preprocessing import StandardScaler\n",
    "\n",
    "scaler = StandardScaler()\n",
    "X = scaler.fit_transform(X)\n",
    "#Save as data frames\n",
    "X = pd.DataFrame(X)"
   ]
  },
  {
   "cell_type": "code",
   "execution_count": 26,
   "metadata": {},
   "outputs": [
    {
     "name": "stderr",
     "output_type": "stream",
     "text": [
      "C:\\Users\\bin.yu\\AppData\\Local\\Continuum\\anaconda3\\lib\\site-packages\\statsmodels\\stats\\outliers_influence.py:181: RuntimeWarning: divide by zero encountered in double_scalars\n",
      "  vif = 1. / (1. - r_squared_i)\n",
      "C:\\Users\\bin.yu\\AppData\\Local\\Continuum\\anaconda3\\lib\\site-packages\\statsmodels\\regression\\linear_model.py:1543: RuntimeWarning: invalid value encountered in double_scalars\n",
      "  return 1 - self.ssr/self.centered_tss\n"
     ]
    },
    {
     "name": "stdout",
     "output_type": "stream",
     "text": [
      "Wall time: 2min 26s\n"
     ]
    }
   ],
   "source": [
    "%%time\n",
    "from statsmodels.stats.outliers_influence import variance_inflation_factor as vif\n",
    "df2_vif = pd.DataFrame()\n",
    "df2_vif[\"VIF Factor\"] = [vif(X.values, i) for i in range(X.shape[1])]\n",
    "df2_vif[\"ABSVIFFactor\"] = abs(df2_vif[\"VIF Factor\"])\n",
    "df2_vif[\"features\"] = X.columns\n",
    "\n"
   ]
  },
  {
   "cell_type": "code",
   "execution_count": 18,
   "metadata": {},
   "outputs": [],
   "source": [
    "from sklearn.model_selection import GridSearchCV"
   ]
  },
  {
   "cell_type": "code",
   "execution_count": 19,
   "metadata": {},
   "outputs": [],
   "source": [
    "\n",
    "from sklearn.model_selection import StratifiedKFold, StratifiedShuffleSplit\n",
    "from sklearn import metrics as mt\n",
    "from sklearn.model_selection import ShuffleSplit\n",
    "# Create Cross Validation Object with 10 folds with 80/20 train - test split\n",
    "cv = ShuffleSplit(n_splits = 10, test_size=0.20, random_state=0)"
   ]
  },
  {
   "cell_type": "code",
   "execution_count": 52,
   "metadata": {},
   "outputs": [
    {
     "data": {
      "text/plain": [
       "dict_keys(['memory', 'steps', 'verbose', 'standardscaler', 'linearregression', 'standardscaler__copy', 'standardscaler__with_mean', 'standardscaler__with_std', 'linearregression__copy_X', 'linearregression__fit_intercept', 'linearregression__n_jobs', 'linearregression__normalize'])"
      ]
     },
     "execution_count": 52,
     "metadata": {},
     "output_type": "execute_result"
    }
   ],
   "source": [
    "pipe.get_params().keys()"
   ]
  },
  {
   "cell_type": "code",
   "execution_count": 37,
   "metadata": {},
   "outputs": [],
   "source": [
    "from sklearn.model_selection import cross_validate"
   ]
  },
  {
   "cell_type": "code",
   "execution_count": 47,
   "metadata": {},
   "outputs": [
    {
     "name": "stdout",
     "output_type": "stream",
     "text": [
      "RFE CV Linear Regression 1st Pass\n"
     ]
    },
    {
     "name": "stderr",
     "output_type": "stream",
     "text": [
      "C:\\Users\\bin.yu\\AppData\\Local\\Continuum\\anaconda3\\lib\\site-packages\\sklearn\\model_selection\\_split.py:1978: FutureWarning: The default value of cv will change from 3 to 5 in version 0.22. Specify it explicitly to silence this warning.\n",
      "  warnings.warn(CV_WARNING, FutureWarning)\n"
     ]
    },
    {
     "name": "stdout",
     "output_type": "stream",
     "text": [
      "r2 / variance :  -1360.68585401\n",
      "Residual sum of squares: 121.12\n",
      "Wall time: 845 ms\n"
     ]
    },
    {
     "name": "stderr",
     "output_type": "stream",
     "text": [
      "C:\\Users\\bin.yu\\AppData\\Local\\Continuum\\anaconda3\\lib\\site-packages\\sklearn\\model_selection\\_search.py:813: DeprecationWarning: The default of the `iid` parameter will change from True to False in version 0.22 and will be removed in 0.24. This will change numeric results when test-set sizes are unequal.\n",
      "  DeprecationWarning)\n"
     ]
    }
   ],
   "source": [
    "%%time\n",
    "\n",
    "from sklearn.pipeline import make_pipeline\n",
    "from sklearn.model_selection import GridSearchCV\n",
    "from sklearn.feature_selection import RFECV\n",
    "from sklearn.linear_model import LinearRegression\n",
    "from sklearn.preprocessing import StandardScaler\n",
    "from sklearn.model_selection import ShuffleSplit\n",
    "from sklearn.model_selection import train_test_split\n",
    "\n",
    "\n",
    "X_train, X_test, y_train, y_test = train_test_split(X, y, \n",
    "    test_size=0.3,random_state =1 )\n",
    "\n",
    "print(\"RFE CV Linear Regression 1st Pass\")\n",
    "rfecvEstimator = LinearRegression()\n",
    "\n",
    "parameters = { 'fit_intercept':[True,False], 'normalize':[True,False], 'copy_X':[True, False]}\n",
    "\n",
    "#Create a grid search object  \n",
    "\n",
    "grid = GridSearchCV(estimator=rfecvEstimator\n",
    "                   #, n_jobs=8 # jobs to run in parallel\n",
    "                   #, verbose=0 # low verbosity\n",
    "                   , param_grid=parameters\n",
    "                  )\n",
    "\n",
    "#Perform hyperparameter search to find the best combination of parameters for our data using RFECV\n",
    "grid.fit(X_train, y_train)\n",
    "print(\"r2 / variance : \", grid.best_score_)\n",
    "print(\"Residual sum of squares: %.2f\"\n",
    "              % np.mean((grid.predict(X_test) - y_test) ** 2))"
   ]
  },
  {
   "cell_type": "code",
   "execution_count": null,
   "metadata": {},
   "outputs": [
    {
     "name": "stdout",
     "output_type": "stream",
     "text": [
      "RFE CV Linear Regression 1st Pass\n",
      "Fitting estimator with 394 features.\n",
      "Fitting estimator with 393 features.\n",
      "Fitting estimator with 392 features.\n",
      "Fitting estimator with 391 features.\n",
      "Fitting estimator with 390 features.\n",
      "Fitting estimator with 389 features.\n",
      "Fitting estimator with 388 features.\n",
      "Fitting estimator with 387 features.\n",
      "Fitting estimator with 386 features.\n",
      "Fitting estimator with 385 features.\n",
      "Fitting estimator with 384 features.\n",
      "Fitting estimator with 383 features.\n",
      "Fitting estimator with 382 features.\n",
      "Fitting estimator with 381 features.\n",
      "Fitting estimator with 380 features.\n",
      "Fitting estimator with 379 features.\n",
      "Fitting estimator with 378 features.\n",
      "Fitting estimator with 377 features.\n",
      "Fitting estimator with 376 features.\n",
      "Fitting estimator with 375 features.\n",
      "Fitting estimator with 374 features.\n",
      "Fitting estimator with 373 features.\n",
      "Fitting estimator with 372 features.\n",
      "Fitting estimator with 371 features.\n"
     ]
    }
   ],
   "source": [
    "%%time\n",
    "\n",
    "from sklearn.pipeline import make_pipeline\n",
    "from sklearn.model_selection import GridSearchCV\n",
    "from sklearn.feature_selection import RFECV\n",
    "from sklearn.linear_model import LinearRegression\n",
    "from sklearn.preprocessing import StandardScaler\n",
    "from sklearn.model_selection import ShuffleSplit\n",
    "\n",
    "\n",
    "print(\"RFE CV Linear Regression 1st Pass\")\n",
    "rfecvEstimator = LinearRegression()\n",
    "\n",
    "parameters = { 'fit_intercept':[True,False], 'normalize':[True,False], 'copy_X':[True, False]\n",
    "             }\n",
    "\n",
    "#Create a grid search object  \n",
    "from sklearn.model_selection import GridSearchCV\n",
    "rfecvGridSearch = GridSearchCV(estimator=rfecvEstimator\n",
    "#                    , n_jobs=8 # jobs to run in parallel\n",
    "#                    , verbose=0 # low verbosity\n",
    "                   , param_grid=parameters\n",
    "                   , cv=cv # KFolds = 10\n",
    "                   )\n",
    "\n",
    "#Perform hyperparameter search to find the best combination of parameters for our data using RFECV\n",
    "rfecvGridSearch.fit(X, y)\n",
    "\n",
    "#Use the best parameters for our RFECV Linear Regression object\n",
    "rfecvClassifierEst = rfecvGridSearch.best_estimator_\n",
    "\n",
    "#Recursive Feature Elimination\n",
    "rfecv = RFECV(estimator=rfecvClassifierEst, step=1, cv=cv,  verbose=1)\n",
    "X_BestFeatures = rfecv.fit_transform(X, y)\n",
    "\n",
    "#Print RFECV Details\n",
    "print(\"Ranking\", rfecv.ranking_)\n",
    "print(\"Support\", rfecv.support_)\n",
    "print(\"Number of Features:\", rfecv.n_features_)\n",
    "\n",
    "print(\"Logistic Regression Second Pass\")\n",
    "#create a pipeline to scale all of the data and perform logistic regression during each grid search step.\n",
    "pipe = make_pipeline(StandardScaler(), LinearRegression())\n",
    "\n",
    "#Define a range of hyper parameters for grid search\n",
    "parameters = { 'LinearRegression__fit_intercept':[True,False], 'LinearRegression__normalize':[True,False], 'LinearRegression__copy_X':[True, False]\n",
    "             }\n",
    "\n",
    "#Perform the grid search using accuracy as a metric during cross validation.\n",
    "grid = GridSearchCV(pipe, parameters, cv=cv, scoring='accuracy')\n",
    "\n",
    "#Use the best features from recursive feature elimination during the grid search\n",
    "grid.fit(X, y)"
   ]
  },
  {
   "cell_type": "markdown",
   "metadata": {},
   "source": [
    "## Cross Validation\n",
    "**Cross validation is performed using repeated holdout using ShuffleSplit()**\n",
    "* Ten folds are used\n",
    "* The split is: 90% training data and 10% test data\n",
    "* A random seed is set so the same random test and training splits are used each time cross validation is performed."
   ]
  },
  {
   "cell_type": "code",
   "execution_count": 35,
   "metadata": {},
   "outputs": [],
   "source": [
    "#Divide data into test and training splits\n",
    "from sklearn.model_selection import ShuffleSplit\n",
    "cv = ShuffleSplit(n_splits=10, test_size=0.10, random_state=0)"
   ]
  },
  {
   "cell_type": "markdown",
   "metadata": {},
   "source": [
    "## Custom Scorers for Evaluating Regression Models \n",
    "\n",
    "**All regression models created in this notebook are validated using the following metrics:**\n",
    "* Mean Absolute Error (MAE)\n",
    "* Root Mean Squared Error (RMSE) - https://stackoverflow.com/questions/17197492/root-mean-square-error-in-python\n",
    "* Mean Absolute Percentage Error (MAPE) - https://stackoverflow.com/questions/42250958/how-to-optimize-mape-code-in-python\n",
    "\n",
    "**For details on making scorers to return multiple mean error scores see:**\n",
    "* http://scikit-learn.org/stable/auto_examples/model_selection/plot_multi_metric_evaluation.html\n",
    "* https://github.com/scikit-learn/scikit-learn/pull/7388\n",
    "* https://github.com/drorata/multiscorer"
   ]
  },
  {
   "cell_type": "code",
   "execution_count": 6,
   "metadata": {},
   "outputs": [],
   "source": [
    "#Use mean absolute error (MAE) to score the regression models created \n",
    "#(the scale of MAE is identical to the response variable)\n",
    "from sklearn.metrics import mean_absolute_error, make_scorer, mean_squared_error\n",
    "\n",
    "#Function for Root mean squared error\n",
    "#https://stackoverflow.com/questions/17197492/root-mean-square-error-in-python\n",
    "def rmse(y_actual, y_predicted):\n",
    "    return np.sqrt(mean_squared_error(y_actual, y_predicted))\n",
    "\n",
    "#Function for Mean Absolute Percentage Error (MAPE) - Untested\n",
    "#Adapted from - https://stackoverflow.com/questions/42250958/how-to-optimize-mape-code-in-python\n",
    "def mape(y_actual, y_predicted): \n",
    "    mask = y_actual <> 0\n",
    "    return (np.fabs(y_actual - y_predicted)/y_actual)[mask].mean() * 100\n",
    "\n",
    "#Create scorers for rmse and mape functions\n",
    "mae_scorer = make_scorer(score_func=mean_absolute_error, greater_is_better=False)\n",
    "rmse_scorer = make_scorer(score_func=rmse, greater_is_better=False)\n",
    "mape_scorer = make_scorer(score_func=mape, greater_is_better=False)\n",
    "\n",
    "#Make scorer array to pass into cross_validate() function for producing mutiple scores for each cv fold.\n",
    "errorScoring = {'MAE':  mae_scorer, \n",
    "                'RMSE': rmse_scorer,\n",
    "                'MAPE': mape_scorer\n",
    "               } "
   ]
  },
  {
   "cell_type": "markdown",
   "metadata": {},
   "source": [
    "## Regression Model Evaluation\n",
    "** All regression models are evaluated using the regression model evaluation function below: ** \n",
    "* The following regression evaluation function uses the cross validation object and the custom scorers in the two cells above in combination with sklearn.model_selection's cross_validate function to perform cross validation for regression estimators.\n",
    "* The cross validation object above uses a random seed to ensure that all regression estimators are tested on the same randomly selected records for each cross validation fold.\n",
    "* Custom scorers are created using the three chosen mean error scores and passed into cross_validate(), so all three scores are calcualted using a single call to cross_validate().\n",
    "* All of this functionality is wrapped within the custom EvaluateRegressionEstimator() function below so multiple regression models may be tested using the same test / train cv data and evaluation scores producing a consistent output for each model without the need to re-write the same code over and over. "
   ]
  },
  {
   "cell_type": "code",
   "execution_count": 7,
   "metadata": {
    "collapsed": true
   },
   "outputs": [],
   "source": [
    "from sklearn.model_selection import cross_validate\n",
    "\n",
    "def EvaluateRegressionEstimator(regEstimator, X, y, cv):\n",
    "    \n",
    "    scores = cross_validate(regEstimator, X, y, scoring=errorScoring, cv=cv, return_train_score=True)\n",
    "\n",
    "    #cross val score sign-flips the outputs of MAE\n",
    "    # https://github.com/scikit-learn/scikit-learn/issues/2439\n",
    "    scores['test_MAE'] = scores['test_MAE'] * -1\n",
    "    scores['test_MAPE'] = scores['test_MAPE'] * -1\n",
    "    scores['test_RMSE'] = scores['test_RMSE'] * -1\n",
    "\n",
    "    #print mean MAE for all folds \n",
    "    maeAvg = scores['test_MAE'].mean()\n",
    "    print_str = \"The average MAE for all cv folds is: \\t\\t\\t {maeAvg:.5}\"\n",
    "    print(print_str.format(maeAvg=maeAvg))\n",
    "\n",
    "    #print mean test_MAPE for all folds\n",
    "    scores['test_MAPE'] = scores['test_MAPE']\n",
    "    mape_avg = scores['test_MAPE'].mean()\n",
    "    print_str = \"The average MAE percentage (MAPE) for all cv folds is: \\t {mape_avg:.5}\"\n",
    "    print(print_str.format(mape_avg=mape_avg))\n",
    "\n",
    "    #print mean MAE for all folds \n",
    "    RMSEavg = scores['test_RMSE'].mean()\n",
    "    print_str = \"The average RMSE for all cv folds is: \\t\\t\\t {RMSEavg:.5}\"\n",
    "    print(print_str.format(RMSEavg=RMSEavg))\n",
    "    print('*********************************************************')\n",
    "\n",
    "    print('Cross Validation Fold Mean Error Scores')\n",
    "    scoresResults = pd.DataFrame()\n",
    "    scoresResults['MAE'] = scores['test_MAE']\n",
    "    scoresResults['MAPE'] = scores['test_MAPE']\n",
    "    scoresResults['RMSE'] = scores['test_RMSE']\n",
    "    return scoresResults\n"
   ]
  },
  {
   "cell_type": "markdown",
   "metadata": {},
   "source": [
    "## Baseline Regression Model\n",
    "\n",
    "**Linear Regression is used to create a baseline model.  Since linear regression may predict response variable values outside the range of the training data's response variable, we create a linear regression estimator with graduation rate predictions clipped 0% and 100%. For details see:**\n",
    "* http://scikit-learn.org/stable/developers/contributing.html#rolling-your-own-estimator \n",
    "* https://github.com/scikit-learn/scikit-learn/issues/6950\n",
    "* http://scikit-learn.org/stable/modules/generated/sklearn.linear_model.LinearRegression.html\n",
    "* https://github.com/scikit-learn-contrib/project-template/blob/master/skltemplate/template.py\n",
    "* https://stackoverflow.com/questions/44234682/how-to-use-sklearn-when-target-variable-is-a-proportion"
   ]
  },
  {
   "cell_type": "code",
   "execution_count": 8,
   "metadata": {
    "collapsed": true
   },
   "outputs": [],
   "source": [
    "#Make new estimator compatible for use with GridSearchCV() and cross_validate()\n",
    "# -  Cap predict function for LinearRegression between 0 and 100\n",
    "# -  See: Roll your own estimator links above for details. \n",
    "from sklearn.base import BaseEstimator, RegressorMixin\n",
    "from sklearn.linear_model import LinearRegression\n",
    "\n",
    "class CappedLinearRegression(LinearRegression):\n",
    "\n",
    "    def predict(self, X):\n",
    "        return np.clip(super(CappedLinearRegression, self).predict(X), 0, 100) "
   ]
  },
  {
   "cell_type": "markdown",
   "metadata": {},
   "source": [
    "### Linear Regression Grid Search\n",
    "** Here we perform a grid search testing 40 models to find the best parameters for our Linear Regression model based on Mean Absolute Error.  See more on parameter tuning with grid search here:**\n",
    "* http://scikit-learn.org/stable/modules/grid_search.html"
   ]
  },
  {
   "cell_type": "code",
   "execution_count": 9,
   "metadata": {},
   "outputs": [
    {
     "name": "stdout",
     "output_type": "stream",
     "text": [
      "Fitting 10 folds for each of 4 candidates, totalling 40 fits\n"
     ]
    },
    {
     "name": "stderr",
     "output_type": "stream",
     "text": [
      "[Parallel(n_jobs=1)]: Done  40 out of  40 | elapsed:    1.2s finished\n"
     ]
    },
    {
     "data": {
      "text/plain": [
       "GridSearchCV(cv=ShuffleSplit(n_splits=10, random_state=0, test_size=0.1, train_size=None),\n",
       "       error_score='raise',\n",
       "       estimator=CappedLinearRegression(copy_X=True, fit_intercept=True, n_jobs=1,\n",
       "            normalize=False),\n",
       "       fit_params=None, iid=True, n_jobs=1,\n",
       "       param_grid={'normalize': (True, False), 'fit_intercept': (True, False)},\n",
       "       pre_dispatch='2*n_jobs', refit=True, return_train_score='warn',\n",
       "       scoring=make_scorer(mean_absolute_error, greater_is_better=False),\n",
       "       verbose=1)"
      ]
     },
     "execution_count": 9,
     "metadata": {},
     "output_type": "execute_result"
    }
   ],
   "source": [
    "#Create a Linear Regression object and perform a grid search to find the best parameters\n",
    "linreg = CappedLinearRegression()\n",
    "parameters = {'normalize':(True,False), 'fit_intercept':(True,False)}\n",
    "\n",
    "#Create a grid search object using the  \n",
    "from sklearn.model_selection import GridSearchCV\n",
    "regGridSearch = GridSearchCV(estimator=linreg\n",
    "                   , verbose=1 # low verbosity\n",
    "                   , param_grid=parameters\n",
    "                   , cv=cv # KFolds = 10\n",
    "                   , scoring=mae_scorer)\n",
    "\n",
    "#Perform hyperparameter search to find the best combination of parameters for our data\n",
    "regGridSearch.fit(X_highSchools, Y)"
   ]
  },
  {
   "cell_type": "code",
   "execution_count": 10,
   "metadata": {},
   "outputs": [
    {
     "data": {
      "text/plain": [
       "CappedLinearRegression(copy_X=True, fit_intercept=True, n_jobs=1,\n",
       "            normalize=False)"
      ]
     },
     "execution_count": 10,
     "metadata": {},
     "output_type": "execute_result"
    }
   ],
   "source": [
    "#Print the parameterization of the best estimator\n",
    "regGridSearch.best_estimator_"
   ]
  },
  {
   "cell_type": "markdown",
   "metadata": {},
   "source": [
    "## Baseline Regression Model - Cross Validation\n",
    "**Perform tenfold cross validation using the grid search \"best\" parameters and our Capped Linear Regression estimator**\n",
    "* 10-fold cross-validation using the parameters for the top performing model \n",
    "* CAP predictions between 0 and 100% \n",
    "* Evaluate cross-validation results using MAE, MAPE, and RMSE"
   ]
  },
  {
   "cell_type": "code",
   "execution_count": null,
   "metadata": {},
   "outputs": [
    {
     "name": "stdout",
     "output_type": "stream",
     "text": [
      "The average MAE for all cv folds is: \t\t\t 8.1742\n",
      "The average MAE percentage (MAPE) for all cv folds is: \t 8.1325\n",
      "The average RMSE for all cv folds is: \t\t\t 14.068\n",
      "*********************************************************\n",
      "Cross Validation Fold Mean Error Scores\n"
     ]
    },
    {
     "data": {
      "text/html": [
       "<div>\n",
       "<style scoped>\n",
       "    .dataframe tbody tr th:only-of-type {\n",
       "        vertical-align: middle;\n",
       "    }\n",
       "\n",
       "    .dataframe tbody tr th {\n",
       "        vertical-align: top;\n",
       "    }\n",
       "\n",
       "    .dataframe thead th {\n",
       "        text-align: right;\n",
       "    }\n",
       "</style>\n",
       "<table border=\"1\" class=\"dataframe\">\n",
       "  <thead>\n",
       "    <tr style=\"text-align: right;\">\n",
       "      <th></th>\n",
       "      <th>MAE</th>\n",
       "      <th>MAPE</th>\n",
       "      <th>RMSE</th>\n",
       "    </tr>\n",
       "  </thead>\n",
       "  <tbody>\n",
       "    <tr>\n",
       "      <th>0</th>\n",
       "      <td>7.328782</td>\n",
       "      <td>6.810789</td>\n",
       "      <td>13.430984</td>\n",
       "    </tr>\n",
       "    <tr>\n",
       "      <th>1</th>\n",
       "      <td>5.967847</td>\n",
       "      <td>6.947997</td>\n",
       "      <td>8.147524</td>\n",
       "    </tr>\n",
       "    <tr>\n",
       "      <th>2</th>\n",
       "      <td>11.639733</td>\n",
       "      <td>8.518945</td>\n",
       "      <td>23.495852</td>\n",
       "    </tr>\n",
       "    <tr>\n",
       "      <th>3</th>\n",
       "      <td>9.902346</td>\n",
       "      <td>8.158757</td>\n",
       "      <td>18.456133</td>\n",
       "    </tr>\n",
       "    <tr>\n",
       "      <th>4</th>\n",
       "      <td>9.281098</td>\n",
       "      <td>10.221687</td>\n",
       "      <td>17.478289</td>\n",
       "    </tr>\n",
       "    <tr>\n",
       "      <th>5</th>\n",
       "      <td>7.806504</td>\n",
       "      <td>7.839459</td>\n",
       "      <td>10.766009</td>\n",
       "    </tr>\n",
       "    <tr>\n",
       "      <th>6</th>\n",
       "      <td>5.092824</td>\n",
       "      <td>5.772485</td>\n",
       "      <td>7.449113</td>\n",
       "    </tr>\n",
       "    <tr>\n",
       "      <th>7</th>\n",
       "      <td>9.050337</td>\n",
       "      <td>9.847551</td>\n",
       "      <td>16.973613</td>\n",
       "    </tr>\n",
       "    <tr>\n",
       "      <th>8</th>\n",
       "      <td>9.414880</td>\n",
       "      <td>10.228337</td>\n",
       "      <td>16.402473</td>\n",
       "    </tr>\n",
       "    <tr>\n",
       "      <th>9</th>\n",
       "      <td>6.257779</td>\n",
       "      <td>6.979424</td>\n",
       "      <td>8.084800</td>\n",
       "    </tr>\n",
       "  </tbody>\n",
       "</table>\n",
       "</div>"
      ],
      "text/plain": [
       "         MAE       MAPE       RMSE\n",
       "0   7.328782   6.810789  13.430984\n",
       "1   5.967847   6.947997   8.147524\n",
       "2  11.639733   8.518945  23.495852\n",
       "3   9.902346   8.158757  18.456133\n",
       "4   9.281098  10.221687  17.478289\n",
       "5   7.806504   7.839459  10.766009\n",
       "6   5.092824   5.772485   7.449113\n",
       "7   9.050337   9.847551  16.973613\n",
       "8   9.414880  10.228337  16.402473\n",
       "9   6.257779   6.979424   8.084800"
      ]
     },
     "execution_count": 11,
     "metadata": {},
     "output_type": "execute_result"
    }
   ],
   "source": [
    "#Create CappedLinearRegression predictions between 0 and 100% using the best parameters for our Linear Regression object\n",
    "regEstimator = regGridSearch.best_estimator_\n",
    "\n",
    "#Evaluate the regression estimator above using our pre-defined cross validation and scoring metrics. \n",
    "EvaluateRegressionEstimator(regEstimator, X_highSchools, Y, cv)\n"
   ]
  },
  {
   "cell_type": "markdown",
   "metadata": {
    "collapsed": true
   },
   "source": [
    "## Support Vector Regression\n",
    "**This model uses Support Vector Machines for regression of continuous variables (SVR). Please see documentation here:\"**\n",
    "* http://scikit-learn.org/stable/modules/generated/sklearn.svm.SVR.html\n",
    "* http://scikit-learn.org/stable/modules/svm.html"
   ]
  },
  {
   "cell_type": "code",
   "execution_count": 8,
   "metadata": {},
   "outputs": [
    {
     "name": "stdout",
     "output_type": "stream",
     "text": [
      "Fitting 10 folds for each of 8 candidates, totalling 80 fits\n"
     ]
    },
    {
     "name": "stderr",
     "output_type": "stream",
     "text": [
      "[Parallel(n_jobs=8)]: Done  34 tasks      | elapsed: 37.1min\n",
      "[Parallel(n_jobs=8)]: Done  80 out of  80 | elapsed: 170.9min finished\n"
     ]
    },
    {
     "data": {
      "text/plain": [
       "GridSearchCV(cv=ShuffleSplit(n_splits=10, random_state=0, test_size=0.1, train_size=None),\n",
       "       error_score='raise',\n",
       "       estimator=SVR(C=1.0, cache_size=200, coef0=0.0, degree=3, epsilon=0.1, gamma='auto',\n",
       "  kernel='rbf', max_iter=-1, shrinking=True, tol=0.001, verbose=False),\n",
       "       fit_params=None, iid=True, n_jobs=8,\n",
       "       param_grid={'kernel': ['rbf', 'linear'], 'C': [0.001, 0.1], 'gamma': [0, 0.1]},\n",
       "       pre_dispatch='2*n_jobs', refit=True, return_train_score='warn',\n",
       "       scoring=make_scorer(mean_absolute_error, greater_is_better=False),\n",
       "       verbose=1)"
      ]
     },
     "execution_count": 8,
     "metadata": {},
     "output_type": "execute_result"
    }
   ],
   "source": [
    "#Create a Linear regression object and perform a grid search to find the best parameters\n",
    "from sklearn.svm import SVR\n",
    "reg = SVR()\n",
    "\n",
    "#Set up SVR parameters to test (WARNING: Creates 320 models!!!) \n",
    "costs = [0.001, 0.1]\n",
    "defGamma = 1 / X_highSchools.shape[1]  #This is the default value for the gamma parameter\n",
    "gammas = [defGamma, 0.1]\n",
    "kernels = ['rbf','linear']\n",
    "parameters = {'C': costs, 'gamma' : gammas, 'kernel': kernels}\n",
    "\n",
    "#Create a grid search object using the parameters above\n",
    "from sklearn.model_selection import GridSearchCV\n",
    "regGridSearch = GridSearchCV(estimator=reg\n",
    "                   , n_jobs=8 # jobs to run in parallel\n",
    "                   , verbose=1 # low verbosity\n",
    "                   , param_grid=parameters\n",
    "                   , cv=cv # KFolds = 10\n",
    "                   , scoring=mae_scorer)\n",
    "\n",
    "#Perform hyperparameter search to find the best combination of parameters for our data\n",
    "regGridSearch.fit(X_highSchools, Y)"
   ]
  },
  {
   "cell_type": "code",
   "execution_count": 9,
   "metadata": {},
   "outputs": [
    {
     "data": {
      "text/plain": [
       "SVR(C=0.001, cache_size=200, coef0=0.0, degree=3, epsilon=0.1, gamma=0,\n",
       "  kernel='rbf', max_iter=-1, shrinking=True, tol=0.001, verbose=False)"
      ]
     },
     "execution_count": 9,
     "metadata": {},
     "output_type": "execute_result"
    }
   ],
   "source": [
    "#Display the best estimator parameters\n",
    "regGridSearch.best_estimator_"
   ]
  },
  {
   "cell_type": "code",
   "execution_count": 12,
   "metadata": {},
   "outputs": [
    {
     "name": "stdout",
     "output_type": "stream",
     "text": [
      "The average MAE for all cv folds is: \t\t\t 8.1889\n",
      "The average MAE percentage (MAPE) for all cv folds is: \t 6.7091\n",
      "The average RMSE for all cv folds is: \t\t\t 14.651\n",
      "*********************************************************\n",
      "Cross Validation Fold Mean Error Scores\n"
     ]
    },
    {
     "data": {
      "text/html": [
       "<div>\n",
       "<style scoped>\n",
       "    .dataframe tbody tr th:only-of-type {\n",
       "        vertical-align: middle;\n",
       "    }\n",
       "\n",
       "    .dataframe tbody tr th {\n",
       "        vertical-align: top;\n",
       "    }\n",
       "\n",
       "    .dataframe thead th {\n",
       "        text-align: right;\n",
       "    }\n",
       "</style>\n",
       "<table border=\"1\" class=\"dataframe\">\n",
       "  <thead>\n",
       "    <tr style=\"text-align: right;\">\n",
       "      <th></th>\n",
       "      <th>MAE</th>\n",
       "      <th>MAPE</th>\n",
       "      <th>RMSE</th>\n",
       "    </tr>\n",
       "  </thead>\n",
       "  <tbody>\n",
       "    <tr>\n",
       "      <th>0</th>\n",
       "      <td>11.887309</td>\n",
       "      <td>7.095543</td>\n",
       "      <td>24.075882</td>\n",
       "    </tr>\n",
       "    <tr>\n",
       "      <th>1</th>\n",
       "      <td>10.053245</td>\n",
       "      <td>7.231779</td>\n",
       "      <td>20.190535</td>\n",
       "    </tr>\n",
       "    <tr>\n",
       "      <th>2</th>\n",
       "      <td>11.691543</td>\n",
       "      <td>6.865657</td>\n",
       "      <td>24.012163</td>\n",
       "    </tr>\n",
       "    <tr>\n",
       "      <th>3</th>\n",
       "      <td>9.427670</td>\n",
       "      <td>6.437708</td>\n",
       "      <td>19.953082</td>\n",
       "    </tr>\n",
       "    <tr>\n",
       "      <th>4</th>\n",
       "      <td>6.406394</td>\n",
       "      <td>7.317697</td>\n",
       "      <td>7.682569</td>\n",
       "    </tr>\n",
       "    <tr>\n",
       "      <th>5</th>\n",
       "      <td>8.440394</td>\n",
       "      <td>7.532731</td>\n",
       "      <td>15.323706</td>\n",
       "    </tr>\n",
       "    <tr>\n",
       "      <th>6</th>\n",
       "      <td>7.350904</td>\n",
       "      <td>5.925200</td>\n",
       "      <td>14.788742</td>\n",
       "    </tr>\n",
       "    <tr>\n",
       "      <th>7</th>\n",
       "      <td>5.908479</td>\n",
       "      <td>6.738445</td>\n",
       "      <td>7.151269</td>\n",
       "    </tr>\n",
       "    <tr>\n",
       "      <th>8</th>\n",
       "      <td>5.776649</td>\n",
       "      <td>6.380496</td>\n",
       "      <td>6.964493</td>\n",
       "    </tr>\n",
       "    <tr>\n",
       "      <th>9</th>\n",
       "      <td>4.946862</td>\n",
       "      <td>5.565430</td>\n",
       "      <td>6.364902</td>\n",
       "    </tr>\n",
       "  </tbody>\n",
       "</table>\n",
       "</div>"
      ],
      "text/plain": [
       "         MAE      MAPE       RMSE\n",
       "0  11.887309  7.095543  24.075882\n",
       "1  10.053245  7.231779  20.190535\n",
       "2  11.691543  6.865657  24.012163\n",
       "3   9.427670  6.437708  19.953082\n",
       "4   6.406394  7.317697   7.682569\n",
       "5   8.440394  7.532731  15.323706\n",
       "6   7.350904  5.925200  14.788742\n",
       "7   5.908479  6.738445   7.151269\n",
       "8   5.776649  6.380496   6.964493\n",
       "9   4.946862  5.565430   6.364902"
      ]
     },
     "execution_count": 12,
     "metadata": {},
     "output_type": "execute_result"
    }
   ],
   "source": [
    "from sklearn.svm import SVR\n",
    "\n",
    "#Create a regression estimator with best parameters for cross validation\n",
    "regEstimator = SVR(C=0.001, cache_size=200, coef0=0.0, degree=3, epsilon=0.1,\n",
    "                   kernel='rbf', max_iter=-1, shrinking=True, tol=0.001, verbose=False)\n",
    "\n",
    "#Evaluate the regression estimator above using our pre-defined cross validation and scoring metrics.\n",
    "EvaluateRegressionEstimator(regEstimator, X_highSchools, Y, cv)"
   ]
  },
  {
   "cell_type": "code",
   "execution_count": 13,
   "metadata": {},
   "outputs": [
    {
     "name": "stdout",
     "output_type": "stream",
     "text": [
      "('Yhat Max: ', 90.90050000000001)\n"
     ]
    }
   ],
   "source": [
    "#Do we predict graduation rates greater than 100%?\n",
    "regEstimator = SVR(C=0.001, cache_size=200, coef0=0.0, degree=3, epsilon=0.1,\n",
    "                   kernel='rbf', max_iter=-1, shrinking=True, tol=0.001, verbose=False)\n",
    "\n",
    "regEstimator.fit(X_highSchools, Y)\n",
    "yhat = regEstimator.predict(X_highSchools)\n",
    "print(\"Yhat Max: \", yhat.max())"
   ]
  },
  {
   "cell_type": "markdown",
   "metadata": {},
   "source": [
    "## Graduation Rate - Lasso Regression\n",
    "**This model uses Lasso regression (L1 Norm). Please see documentation here:\"**\n",
    "* **Caution!** - See documentation for fit_intercept, normalize, and copy_X. Lasso can over-write your X data!\n",
    "* Lasso may also perform scaling as well.  Please see docs!\n",
    "* http://scikit-learn.org/stable/modules/generated/sklearn.linear_model.Lasso.html"
   ]
  },
  {
   "cell_type": "code",
   "execution_count": 14,
   "metadata": {},
   "outputs": [
    {
     "name": "stdout",
     "output_type": "stream",
     "text": [
      "Fitting 10 folds for each of 20 candidates, totalling 200 fits\n"
     ]
    },
    {
     "name": "stderr",
     "output_type": "stream",
     "text": [
      "[Parallel(n_jobs=8)]: Done  34 tasks      | elapsed:    6.6s\n",
      "[Parallel(n_jobs=8)]: Done 200 out of 200 | elapsed:    7.8s finished\n"
     ]
    },
    {
     "data": {
      "text/plain": [
       "GridSearchCV(cv=ShuffleSplit(n_splits=10, random_state=0, test_size=0.1, train_size=None),\n",
       "       error_score='raise',\n",
       "       estimator=Lasso(alpha=1.0, copy_X=True, fit_intercept=True, max_iter=10000,\n",
       "   normalize=True, positive=False, precompute=True, random_state=0,\n",
       "   selection='cyclic', tol=0.0001, warm_start=False),\n",
       "       fit_params=None, iid=True, n_jobs=8,\n",
       "       param_grid={'warm_start': [True, False], 'alpha': [0.001, 0.1, 1, 10, 20], 'selection': ['cyclic', 'random']},\n",
       "       pre_dispatch='2*n_jobs', refit=True, return_train_score='warn',\n",
       "       scoring=make_scorer(mean_absolute_error, greater_is_better=False),\n",
       "       verbose=1)"
      ]
     },
     "execution_count": 14,
     "metadata": {},
     "output_type": "execute_result"
    }
   ],
   "source": [
    "#Create a regression object and perform a grid search to find the best parameters\n",
    "from sklearn.linear_model import Lasso\n",
    "\n",
    "reg = Lasso(fit_intercept=True, normalize=True,copy_X=True\n",
    "          , max_iter=10000, precompute=True, tol=0.0001, random_state=0)\n",
    "\n",
    "#Test parameters \n",
    "alpha = [0.001, 0.1, 1, 10, 20]\n",
    "selection = ['cyclic','random']\n",
    "warm_start = [True, False]\n",
    "parameters = {'alpha': alpha, 'selection': selection, 'warm_start': warm_start}\n",
    "\n",
    "#Create a grid search object using the parameters above\n",
    "from sklearn.model_selection import GridSearchCV\n",
    "regGridSearch = GridSearchCV(estimator=reg\n",
    "                   , n_jobs=8 # jobs to run in parallel\n",
    "                   , verbose=1 # low verbosity\n",
    "                   , param_grid=parameters\n",
    "                   , cv=cv # KFolds = 10\n",
    "                   , scoring=mae_scorer)\n",
    "\n",
    "#Perform hyperparameter search to find the best combination of parameters for our data\n",
    "regGridSearch.fit(X_highSchools, Y)"
   ]
  },
  {
   "cell_type": "code",
   "execution_count": 15,
   "metadata": {},
   "outputs": [
    {
     "data": {
      "text/plain": [
       "Lasso(alpha=0.1, copy_X=True, fit_intercept=True, max_iter=10000,\n",
       "   normalize=True, positive=False, precompute=True, random_state=0,\n",
       "   selection='random', tol=0.0001, warm_start=True)"
      ]
     },
     "execution_count": 15,
     "metadata": {},
     "output_type": "execute_result"
    }
   ],
   "source": [
    "#Display the best estimator parameters\n",
    "regGridSearch.best_estimator_"
   ]
  },
  {
   "cell_type": "code",
   "execution_count": 16,
   "metadata": {},
   "outputs": [
    {
     "name": "stdout",
     "output_type": "stream",
     "text": [
      "The average MAE for all cv folds is: \t\t\t 5.5089\n",
      "The average MAE percentage (MAPE) for all cv folds is: \t 5.4442\n",
      "The average RMSE for all cv folds is: \t\t\t 8.407\n",
      "*********************************************************\n",
      "Cross Validation Fold Mean Error Scores\n"
     ]
    },
    {
     "data": {
      "text/html": [
       "<div>\n",
       "<style scoped>\n",
       "    .dataframe tbody tr th:only-of-type {\n",
       "        vertical-align: middle;\n",
       "    }\n",
       "\n",
       "    .dataframe tbody tr th {\n",
       "        vertical-align: top;\n",
       "    }\n",
       "\n",
       "    .dataframe thead th {\n",
       "        text-align: right;\n",
       "    }\n",
       "</style>\n",
       "<table border=\"1\" class=\"dataframe\">\n",
       "  <thead>\n",
       "    <tr style=\"text-align: right;\">\n",
       "      <th></th>\n",
       "      <th>MAE</th>\n",
       "      <th>MAPE</th>\n",
       "      <th>RMSE</th>\n",
       "    </tr>\n",
       "  </thead>\n",
       "  <tbody>\n",
       "    <tr>\n",
       "      <th>0</th>\n",
       "      <td>5.521304</td>\n",
       "      <td>5.363365</td>\n",
       "      <td>6.855087</td>\n",
       "    </tr>\n",
       "    <tr>\n",
       "      <th>1</th>\n",
       "      <td>6.019537</td>\n",
       "      <td>6.079756</td>\n",
       "      <td>7.583468</td>\n",
       "    </tr>\n",
       "    <tr>\n",
       "      <th>2</th>\n",
       "      <td>7.234280</td>\n",
       "      <td>5.238507</td>\n",
       "      <td>15.527922</td>\n",
       "    </tr>\n",
       "    <tr>\n",
       "      <th>3</th>\n",
       "      <td>6.416963</td>\n",
       "      <td>4.829154</td>\n",
       "      <td>14.947939</td>\n",
       "    </tr>\n",
       "    <tr>\n",
       "      <th>4</th>\n",
       "      <td>5.423640</td>\n",
       "      <td>6.182041</td>\n",
       "      <td>6.676239</td>\n",
       "    </tr>\n",
       "    <tr>\n",
       "      <th>5</th>\n",
       "      <td>5.342767</td>\n",
       "      <td>5.932597</td>\n",
       "      <td>6.052528</td>\n",
       "    </tr>\n",
       "    <tr>\n",
       "      <th>6</th>\n",
       "      <td>4.775781</td>\n",
       "      <td>4.914904</td>\n",
       "      <td>5.947452</td>\n",
       "    </tr>\n",
       "    <tr>\n",
       "      <th>7</th>\n",
       "      <td>4.875998</td>\n",
       "      <td>5.569154</td>\n",
       "      <td>5.725385</td>\n",
       "    </tr>\n",
       "    <tr>\n",
       "      <th>8</th>\n",
       "      <td>5.775546</td>\n",
       "      <td>6.233050</td>\n",
       "      <td>9.901857</td>\n",
       "    </tr>\n",
       "    <tr>\n",
       "      <th>9</th>\n",
       "      <td>3.702871</td>\n",
       "      <td>4.099745</td>\n",
       "      <td>4.852326</td>\n",
       "    </tr>\n",
       "  </tbody>\n",
       "</table>\n",
       "</div>"
      ],
      "text/plain": [
       "        MAE      MAPE       RMSE\n",
       "0  5.521304  5.363365   6.855087\n",
       "1  6.019537  6.079756   7.583468\n",
       "2  7.234280  5.238507  15.527922\n",
       "3  6.416963  4.829154  14.947939\n",
       "4  5.423640  6.182041   6.676239\n",
       "5  5.342767  5.932597   6.052528\n",
       "6  4.775781  4.914904   5.947452\n",
       "7  4.875998  5.569154   5.725385\n",
       "8  5.775546  6.233050   9.901857\n",
       "9  3.702871  4.099745   4.852326"
      ]
     },
     "execution_count": 16,
     "metadata": {},
     "output_type": "execute_result"
    }
   ],
   "source": [
    "#Create a regression estimator with best parameters for cross validation\n",
    "regEstimator = regGridSearch.best_estimator_\n",
    "\n",
    "#Evaluate the regression estimator above using our pre-defined cross validation and scoring metrics.\n",
    "EvaluateRegressionEstimator(regEstimator, X_highSchools, Y, cv)"
   ]
  },
  {
   "cell_type": "code",
   "execution_count": 17,
   "metadata": {},
   "outputs": [
    {
     "name": "stdout",
     "output_type": "stream",
     "text": [
      "('Yhat Max: ', 103.05580294555813)\n"
     ]
    }
   ],
   "source": [
    "#Do we predict graduation rates greater than 100%?\n",
    "regEstimator = Lasso(alpha=0.001, copy_X=True, fit_intercept=True, max_iter=10000,\n",
    "   normalize=True, positive=False, precompute=True, random_state=0,\n",
    "   selection='cyclic', tol=0.0001, warm_start=True)\n",
    "\n",
    "regEstimator.fit(X_highSchools, Y)\n",
    "yhat = regEstimator.predict(X_highSchools)\n",
    "print(\"Yhat Max: \", yhat.max())"
   ]
  },
  {
   "cell_type": "markdown",
   "metadata": {},
   "source": [
    "## Ridge Regression\n",
    "**This model uses Ridge regression (L2 Norm). Please see documentation here:\"**\n",
    "* http://scikit-learn.org/stable/modules/generated/sklearn.linear_model.Ridge.html"
   ]
  },
  {
   "cell_type": "code",
   "execution_count": 18,
   "metadata": {},
   "outputs": [
    {
     "name": "stdout",
     "output_type": "stream",
     "text": [
      "Fitting 10 folds for each of 36 candidates, totalling 360 fits\n"
     ]
    },
    {
     "name": "stderr",
     "output_type": "stream",
     "text": [
      "[Parallel(n_jobs=8)]: Done  34 tasks      | elapsed:    6.4s\n",
      "[Parallel(n_jobs=8)]: Done 184 tasks      | elapsed:   24.5s\n",
      "[Parallel(n_jobs=8)]: Done 360 out of 360 | elapsed:   27.4s finished\n"
     ]
    },
    {
     "data": {
      "text/plain": [
       "GridSearchCV(cv=ShuffleSplit(n_splits=10, random_state=0, test_size=0.1, train_size=None),\n",
       "       error_score='raise',\n",
       "       estimator=Ridge(alpha=1.0, copy_X=True, fit_intercept=True, max_iter=1000,\n",
       "   normalize=True, random_state=0, solver='auto', tol=0.0001),\n",
       "       fit_params=None, iid=True, n_jobs=8,\n",
       "       param_grid={'alpha': [0.001, 0.1, 1, 5, 10, 20], 'solver': ['svd', 'cholesky', 'lsqr', 'sparse_cg', 'sag', 'saga']},\n",
       "       pre_dispatch='2*n_jobs', refit=True, return_train_score='warn',\n",
       "       scoring=make_scorer(mean_absolute_error, greater_is_better=False),\n",
       "       verbose=1)"
      ]
     },
     "execution_count": 18,
     "metadata": {},
     "output_type": "execute_result"
    }
   ],
   "source": [
    "#Create a regression object and perform a grid search to find the best parameters\n",
    "from sklearn.linear_model import Ridge\n",
    "\n",
    "reg = Ridge(fit_intercept=True, normalize=True,copy_X=True\n",
    "          , max_iter=1000, tol=0.0001, random_state=0)\n",
    "\n",
    "#Test parameters \n",
    "alpha = [0.001, 0.1, 1, 5, 10, 20]\n",
    "solver = [ 'svd', 'cholesky', 'lsqr', 'sparse_cg', 'sag', 'saga']\n",
    "parameters = {'alpha': alpha, 'solver': solver}\n",
    "\n",
    "#Create a grid search object using the parameters above\n",
    "from sklearn.model_selection import GridSearchCV\n",
    "regGridSearch = GridSearchCV(estimator=reg\n",
    "                   , n_jobs=8 # jobs to run in parallel\n",
    "                   , verbose=1 # low verbosity\n",
    "                   , param_grid=parameters\n",
    "                   , cv=cv # KFolds = 10\n",
    "                   , scoring=mae_scorer)\n",
    "\n",
    "#Perform hyperparameter search to find the best combination of parameters for our data\n",
    "regGridSearch.fit(X_highSchools, Y)"
   ]
  },
  {
   "cell_type": "code",
   "execution_count": 19,
   "metadata": {},
   "outputs": [
    {
     "data": {
      "text/plain": [
       "Ridge(alpha=0.1, copy_X=True, fit_intercept=True, max_iter=1000,\n",
       "   normalize=True, random_state=0, solver='saga', tol=0.0001)"
      ]
     },
     "execution_count": 19,
     "metadata": {},
     "output_type": "execute_result"
    }
   ],
   "source": [
    "#Display the best estimator parameters\n",
    "regGridSearch.best_estimator_"
   ]
  },
  {
   "cell_type": "code",
   "execution_count": 20,
   "metadata": {},
   "outputs": [
    {
     "name": "stdout",
     "output_type": "stream",
     "text": [
      "The average MAE for all cv folds is: \t\t\t 5.5383\n",
      "The average MAE percentage (MAPE) for all cv folds is: \t 5.3371\n",
      "The average RMSE for all cv folds is: \t\t\t 9.28\n",
      "*********************************************************\n",
      "Cross Validation Fold Mean Error Scores\n"
     ]
    },
    {
     "data": {
      "text/html": [
       "<div>\n",
       "<style scoped>\n",
       "    .dataframe tbody tr th:only-of-type {\n",
       "        vertical-align: middle;\n",
       "    }\n",
       "\n",
       "    .dataframe tbody tr th {\n",
       "        vertical-align: top;\n",
       "    }\n",
       "\n",
       "    .dataframe thead th {\n",
       "        text-align: right;\n",
       "    }\n",
       "</style>\n",
       "<table border=\"1\" class=\"dataframe\">\n",
       "  <thead>\n",
       "    <tr style=\"text-align: right;\">\n",
       "      <th></th>\n",
       "      <th>MAE</th>\n",
       "      <th>MAPE</th>\n",
       "      <th>RMSE</th>\n",
       "    </tr>\n",
       "  </thead>\n",
       "  <tbody>\n",
       "    <tr>\n",
       "      <th>0</th>\n",
       "      <td>4.832754</td>\n",
       "      <td>4.402153</td>\n",
       "      <td>7.840223</td>\n",
       "    </tr>\n",
       "    <tr>\n",
       "      <th>1</th>\n",
       "      <td>5.766077</td>\n",
       "      <td>6.262233</td>\n",
       "      <td>7.841753</td>\n",
       "    </tr>\n",
       "    <tr>\n",
       "      <th>2</th>\n",
       "      <td>7.395340</td>\n",
       "      <td>4.841084</td>\n",
       "      <td>16.797762</td>\n",
       "    </tr>\n",
       "    <tr>\n",
       "      <th>3</th>\n",
       "      <td>6.056101</td>\n",
       "      <td>4.189857</td>\n",
       "      <td>14.806115</td>\n",
       "    </tr>\n",
       "    <tr>\n",
       "      <th>4</th>\n",
       "      <td>5.385735</td>\n",
       "      <td>6.022676</td>\n",
       "      <td>7.216930</td>\n",
       "    </tr>\n",
       "    <tr>\n",
       "      <th>5</th>\n",
       "      <td>5.970156</td>\n",
       "      <td>5.844733</td>\n",
       "      <td>9.023836</td>\n",
       "    </tr>\n",
       "    <tr>\n",
       "      <th>6</th>\n",
       "      <td>5.230604</td>\n",
       "      <td>5.725036</td>\n",
       "      <td>7.142343</td>\n",
       "    </tr>\n",
       "    <tr>\n",
       "      <th>7</th>\n",
       "      <td>4.322229</td>\n",
       "      <td>4.846291</td>\n",
       "      <td>5.898935</td>\n",
       "    </tr>\n",
       "    <tr>\n",
       "      <th>8</th>\n",
       "      <td>6.013783</td>\n",
       "      <td>6.415615</td>\n",
       "      <td>10.537526</td>\n",
       "    </tr>\n",
       "    <tr>\n",
       "      <th>9</th>\n",
       "      <td>4.410568</td>\n",
       "      <td>4.821795</td>\n",
       "      <td>5.694604</td>\n",
       "    </tr>\n",
       "  </tbody>\n",
       "</table>\n",
       "</div>"
      ],
      "text/plain": [
       "        MAE      MAPE       RMSE\n",
       "0  4.832754  4.402153   7.840223\n",
       "1  5.766077  6.262233   7.841753\n",
       "2  7.395340  4.841084  16.797762\n",
       "3  6.056101  4.189857  14.806115\n",
       "4  5.385735  6.022676   7.216930\n",
       "5  5.970156  5.844733   9.023836\n",
       "6  5.230604  5.725036   7.142343\n",
       "7  4.322229  4.846291   5.898935\n",
       "8  6.013783  6.415615  10.537526\n",
       "9  4.410568  4.821795   5.694604"
      ]
     },
     "execution_count": 20,
     "metadata": {},
     "output_type": "execute_result"
    }
   ],
   "source": [
    "#Create a regression estimator with best parameters for cross validation\n",
    "regEstimator = regGridSearch.best_estimator_\n",
    "\n",
    "#Evaluate the regression estimator above using our pre-defined cross validation and scoring metrics.\n",
    "EvaluateRegressionEstimator(regEstimator, X_highSchools, Y, cv)"
   ]
  },
  {
   "cell_type": "code",
   "execution_count": 21,
   "metadata": {},
   "outputs": [
    {
     "name": "stdout",
     "output_type": "stream",
     "text": [
      "('Yhat Max: ', 104.47680949213752)\n"
     ]
    }
   ],
   "source": [
    "#Do we predict graduation rates greater than 100%?\n",
    "regEstimator = Ridge(alpha=0.1, copy_X=True, fit_intercept=True, max_iter=1000,\n",
    "   normalize=True, random_state=0, solver='saga', tol=0.0001)\n",
    "\n",
    "regEstimator.fit(X_highSchools, Y)\n",
    "yhat = regEstimator.predict(X_highSchools)\n",
    "print(\"Yhat Max: \", yhat.max())"
   ]
  },
  {
   "cell_type": "markdown",
   "metadata": {},
   "source": [
    "## Elastic Net Regression\n",
    "**This model uses Elastic Net Regression (L1 and L2 Norm mixing). Please see documentation here:\"**\n",
    "* http://scikit-learn.org/stable/modules/generated/sklearn.linear_model.ElasticNet.html"
   ]
  },
  {
   "cell_type": "code",
   "execution_count": 22,
   "metadata": {},
   "outputs": [
    {
     "name": "stdout",
     "output_type": "stream",
     "text": [
      "Fitting 10 folds for each of 96 candidates, totalling 960 fits\n"
     ]
    },
    {
     "name": "stderr",
     "output_type": "stream",
     "text": [
      "[Parallel(n_jobs=8)]: Done  34 tasks      | elapsed:    6.3s\n",
      "[Parallel(n_jobs=8)]: Done 279 tasks      | elapsed:   10.5s\n",
      "[Parallel(n_jobs=8)]: Done 960 out of 960 | elapsed:   14.4s finished\n"
     ]
    },
    {
     "data": {
      "text/plain": [
       "GridSearchCV(cv=ShuffleSplit(n_splits=10, random_state=0, test_size=0.1, train_size=None),\n",
       "       error_score='raise',\n",
       "       estimator=ElasticNet(alpha=1.0, copy_X=True, fit_intercept=True, l1_ratio=0.5,\n",
       "      max_iter=10000, normalize=True, positive=False, precompute=True,\n",
       "      random_state=0, selection='cyclic', tol=0.0001, warm_start=False),\n",
       "       fit_params=None, iid=True, n_jobs=8,\n",
       "       param_grid={'warm_start': [True, False], 'l1_ratio': [0.001, 0.01, 0.1, 0.5, 0.75, 1], 'selection': ['cyclic', 'random'], 'alpha': [0.001, 0.1, 1, 10]},\n",
       "       pre_dispatch='2*n_jobs', refit=True, return_train_score='warn',\n",
       "       scoring=make_scorer(mean_absolute_error, greater_is_better=False),\n",
       "       verbose=1)"
      ]
     },
     "execution_count": 22,
     "metadata": {},
     "output_type": "execute_result"
    }
   ],
   "source": [
    "#Create a regression object and perform a grid search to find the best parameters\n",
    "from sklearn.linear_model import ElasticNet\n",
    "\n",
    "reg = ElasticNet(fit_intercept=True, normalize=True, precompute=True, copy_X=True\n",
    "          , max_iter=10000, tol=0.0001, random_state=0)\n",
    " \n",
    "#Test parameters\n",
    "l1_ratio = [0.001, 0.01, 0.1, 0.5, 0.75, 1]\n",
    "alpha = [0.001, 0.1, 1, 10]\n",
    "selection = ['cyclic','random']\n",
    "warm_start = [True, False]\n",
    "parameters = {'l1_ratio': l1_ratio, 'alpha': alpha, 'selection': selection, 'warm_start': warm_start}\n",
    "\n",
    "#Create a grid search object using the parameters above\n",
    "from sklearn.model_selection import GridSearchCV\n",
    "regGridSearch = GridSearchCV(estimator=reg\n",
    "                   , n_jobs=8 # jobs to run in parallel\n",
    "                   , verbose=1 # low verbosity\n",
    "                   , param_grid=parameters\n",
    "                   , cv=cv # KFolds = 10\n",
    "                   , scoring=mae_scorer)\n",
    "\n",
    "#Perform hyperparameter search to find the best combination of parameters for our data\n",
    "regGridSearch.fit(X_highSchools, Y)"
   ]
  },
  {
   "cell_type": "code",
   "execution_count": 23,
   "metadata": {},
   "outputs": [
    {
     "data": {
      "text/plain": [
       "ElasticNet(alpha=0.001, copy_X=True, fit_intercept=True, l1_ratio=0.75,\n",
       "      max_iter=10000, normalize=True, positive=False, precompute=True,\n",
       "      random_state=0, selection='random', tol=0.0001, warm_start=True)"
      ]
     },
     "execution_count": 23,
     "metadata": {},
     "output_type": "execute_result"
    }
   ],
   "source": [
    "#Display the best estimator parameters\n",
    "regGridSearch.best_estimator_"
   ]
  },
  {
   "cell_type": "code",
   "execution_count": 24,
   "metadata": {},
   "outputs": [
    {
     "name": "stdout",
     "output_type": "stream",
     "text": [
      "The average MAE for all cv folds is: \t\t\t 5.3605\n",
      "The average MAE percentage (MAPE) for all cv folds is: \t 5.1587\n",
      "The average RMSE for all cv folds is: \t\t\t 9.062\n",
      "*********************************************************\n",
      "Cross Validation Fold Mean Error Scores\n"
     ]
    },
    {
     "data": {
      "text/html": [
       "<div>\n",
       "<style scoped>\n",
       "    .dataframe tbody tr th:only-of-type {\n",
       "        vertical-align: middle;\n",
       "    }\n",
       "\n",
       "    .dataframe tbody tr th {\n",
       "        vertical-align: top;\n",
       "    }\n",
       "\n",
       "    .dataframe thead th {\n",
       "        text-align: right;\n",
       "    }\n",
       "</style>\n",
       "<table border=\"1\" class=\"dataframe\">\n",
       "  <thead>\n",
       "    <tr style=\"text-align: right;\">\n",
       "      <th></th>\n",
       "      <th>MAE</th>\n",
       "      <th>MAPE</th>\n",
       "      <th>RMSE</th>\n",
       "    </tr>\n",
       "  </thead>\n",
       "  <tbody>\n",
       "    <tr>\n",
       "      <th>0</th>\n",
       "      <td>4.631497</td>\n",
       "      <td>4.308920</td>\n",
       "      <td>7.184071</td>\n",
       "    </tr>\n",
       "    <tr>\n",
       "      <th>1</th>\n",
       "      <td>5.563905</td>\n",
       "      <td>6.090516</td>\n",
       "      <td>7.616998</td>\n",
       "    </tr>\n",
       "    <tr>\n",
       "      <th>2</th>\n",
       "      <td>7.238524</td>\n",
       "      <td>4.694118</td>\n",
       "      <td>16.529858</td>\n",
       "    </tr>\n",
       "    <tr>\n",
       "      <th>3</th>\n",
       "      <td>5.898968</td>\n",
       "      <td>4.021250</td>\n",
       "      <td>14.804331</td>\n",
       "    </tr>\n",
       "    <tr>\n",
       "      <th>4</th>\n",
       "      <td>5.236163</td>\n",
       "      <td>5.862699</td>\n",
       "      <td>7.038185</td>\n",
       "    </tr>\n",
       "    <tr>\n",
       "      <th>5</th>\n",
       "      <td>5.833430</td>\n",
       "      <td>5.664509</td>\n",
       "      <td>8.947778</td>\n",
       "    </tr>\n",
       "    <tr>\n",
       "      <th>6</th>\n",
       "      <td>4.983528</td>\n",
       "      <td>5.426878</td>\n",
       "      <td>6.842021</td>\n",
       "    </tr>\n",
       "    <tr>\n",
       "      <th>7</th>\n",
       "      <td>4.090280</td>\n",
       "      <td>4.590920</td>\n",
       "      <td>5.657140</td>\n",
       "    </tr>\n",
       "    <tr>\n",
       "      <th>8</th>\n",
       "      <td>5.917891</td>\n",
       "      <td>6.318236</td>\n",
       "      <td>10.554042</td>\n",
       "    </tr>\n",
       "    <tr>\n",
       "      <th>9</th>\n",
       "      <td>4.210876</td>\n",
       "      <td>4.608746</td>\n",
       "      <td>5.445840</td>\n",
       "    </tr>\n",
       "  </tbody>\n",
       "</table>\n",
       "</div>"
      ],
      "text/plain": [
       "        MAE      MAPE       RMSE\n",
       "0  4.631497  4.308920   7.184071\n",
       "1  5.563905  6.090516   7.616998\n",
       "2  7.238524  4.694118  16.529858\n",
       "3  5.898968  4.021250  14.804331\n",
       "4  5.236163  5.862699   7.038185\n",
       "5  5.833430  5.664509   8.947778\n",
       "6  4.983528  5.426878   6.842021\n",
       "7  4.090280  4.590920   5.657140\n",
       "8  5.917891  6.318236  10.554042\n",
       "9  4.210876  4.608746   5.445840"
      ]
     },
     "execution_count": 24,
     "metadata": {},
     "output_type": "execute_result"
    }
   ],
   "source": [
    "#Create a regression estimator with best parameters for cross validation\n",
    "regEstimator = regGridSearch.best_estimator_\n",
    "\n",
    "#Evaluate the regression estimator above using our pre-defined cross validation and scoring metrics.\n",
    "EvaluateRegressionEstimator(regEstimator, X_highSchools, Y, cv)"
   ]
  },
  {
   "cell_type": "code",
   "execution_count": 25,
   "metadata": {},
   "outputs": [
    {
     "name": "stdout",
     "output_type": "stream",
     "text": [
      "('Yhat Max: ', 104.02378602267531)\n"
     ]
    }
   ],
   "source": [
    "#Do we predict graduation rates greater than 100%?\n",
    "regEstimator =  regGridSearch.best_estimator_\n",
    "\n",
    "regEstimator.fit(X_highSchools, Y)\n",
    "yhat = regEstimator.predict(X_highSchools)\n",
    "print(\"Yhat Max: \", yhat.max())"
   ]
  },
  {
   "cell_type": "markdown",
   "metadata": {},
   "source": [
    "## Logit Regression using Python \n",
    "**This model uses a custom Logit model based on transformations of the Linear Regression object. Please see documentation here:\"**\n",
    "* https://stackoverflow.com/questions/33845539/modelling-probabilities-in-a-regularized-logistic-regression-model-in-python\n",
    "* https://stackoverflow.com/questions/44234682/how-to-use-sklearn-when-target-variable-is-a-proportion"
   ]
  },
  {
   "cell_type": "code",
   "execution_count": 26,
   "metadata": {},
   "outputs": [],
   "source": [
    "from sklearn.base import BaseEstimator, RegressorMixin\n",
    "from sklearn.linear_model import LinearRegression\n",
    "\n",
    "class LogitRegression(LinearRegression):\n",
    "\n",
    "    def fit(self, x, p):\n",
    "        p[p==0] = 0.009    #0.1111111111111111 \n",
    "        p[p==1] = 0.991    #0.9999999999999999  big precision seems to kill MAE scores here?\n",
    "        #e = 0.0000000000000001\n",
    "        #p = p * e + 0.5 * e                    This technique was really bad too. \n",
    "        p = np.asarray(p)\n",
    "        y = np.log(p / (1 - p))\n",
    "        return super(LogitRegression, self).fit(x, y)\n",
    "\n",
    "    def predict(self, x):\n",
    "        y = super(LogitRegression, self).predict(x)\n",
    "        yhat = 1 / (np.exp(-y) + 1)\n",
    "        yhat[yhat <= 0.009] = 0\n",
    "        yhat[yhat >= 0.991] = 1\n",
    "        return yhat"
   ]
  },
  {
   "cell_type": "code",
   "execution_count": 27,
   "metadata": {},
   "outputs": [
    {
     "name": "stdout",
     "output_type": "stream",
     "text": [
      "Fitting 10 folds for each of 4 candidates, totalling 40 fits\n"
     ]
    },
    {
     "name": "stderr",
     "output_type": "stream",
     "text": [
      "C:\\Users\\Jake\\Anaconda2\\lib\\site-packages\\ipykernel_launcher.py:17: RuntimeWarning: overflow encountered in exp\n",
      "[Parallel(n_jobs=1)]: Done  40 out of  40 | elapsed:    1.3s finished\n"
     ]
    },
    {
     "data": {
      "text/plain": [
       "GridSearchCV(cv=ShuffleSplit(n_splits=10, random_state=0, test_size=0.1, train_size=None),\n",
       "       error_score='raise',\n",
       "       estimator=LogitRegression(copy_X=True, fit_intercept=True, n_jobs=1, normalize=False),\n",
       "       fit_params=None, iid=True, n_jobs=1,\n",
       "       param_grid={'normalize': (True, False), 'fit_intercept': (True, False)},\n",
       "       pre_dispatch='2*n_jobs', refit=True, return_train_score='warn',\n",
       "       scoring=make_scorer(mean_absolute_error, greater_is_better=False),\n",
       "       verbose=1)"
      ]
     },
     "execution_count": 27,
     "metadata": {},
     "output_type": "execute_result"
    }
   ],
   "source": [
    "#convert y to a proability \n",
    "Y = Y_5yr_Gr / 100\n",
    "\n",
    "#Create a Linear Regression object and perform a grid search to find the best parameters\n",
    "linreg = LogitRegression()\n",
    "parameters = {'normalize':(True,False), 'fit_intercept':(True,False)}\n",
    "\n",
    "#Create a grid search object using the  \n",
    "from sklearn.model_selection import GridSearchCV\n",
    "regGridSearch = GridSearchCV(estimator=linreg\n",
    "                   #, n_jobs=8 # jobs to run in parallel (This breaks the custom estimators for some reason!)\n",
    "                   , verbose=1 # low verbosity\n",
    "                   , param_grid=parameters\n",
    "                   , cv=cv # KFolds = 10\n",
    "                   , scoring=mae_scorer)\n",
    "\n",
    "#Perform hyperparameter search to find the best combination of parameters for our data\n",
    "regGridSearch.fit(X_highSchools, Y)"
   ]
  },
  {
   "cell_type": "code",
   "execution_count": 28,
   "metadata": {},
   "outputs": [
    {
     "data": {
      "text/plain": [
       "LogitRegression(copy_X=True, fit_intercept=True, n_jobs=1, normalize=False)"
      ]
     },
     "execution_count": 28,
     "metadata": {},
     "output_type": "execute_result"
    }
   ],
   "source": [
    "#Display the best estimator parameters\n",
    "regGridSearch.best_estimator_"
   ]
  },
  {
   "cell_type": "markdown",
   "metadata": {},
   "source": [
    "**Since we converted our response variable to a percentile MAE and RMSE results below must be mutiplied by 100.**"
   ]
  },
  {
   "cell_type": "code",
   "execution_count": 29,
   "metadata": {},
   "outputs": [
    {
     "name": "stdout",
     "output_type": "stream",
     "text": [
      "The average MAE for all cv folds is: \t\t\t 0.19093\n",
      "The average MAE percentage (MAPE) for all cv folds is: \t 241.44\n",
      "The average RMSE for all cv folds is: \t\t\t 0.31181\n",
      "*********************************************************\n",
      "Cross Validation Fold Mean Error Scores\n"
     ]
    }
   ],
   "source": [
    "#Create CappedLinearRegression predictions between 0 and 100% using the best parameters for our Linear Regression object\n",
    "regEstimator = regGridSearch.best_estimator_\n",
    "\n",
    "#Evaluate the regression estimator above using our pre-defined cross validation and scoring metrics. \n",
    "EvaluateRegressionEstimator(regEstimator, X_highSchools, Y, cv)\n",
    "\n",
    "#Change Y back to normal\n",
    "Y = Y_5yr_Gr"
   ]
  },
  {
   "cell_type": "markdown",
   "metadata": {},
   "source": [
    "## Regression using the Random Forest Regressor \n",
    "**This model uses a custom Logit model using the Random Forest Regressor. Please see documentation here: **\n",
    "* http://scikit-learn.org/stable/modules/generated/sklearn.ensemble.RandomForestRegressor.html#sklearn.ensemble.RandomForestRegressor\n",
    "* https://www.analyticsvidhya.com/blog/2015/06/tuning-random-forest-model/\n",
    "* https://www.kaggle.com/general/4092"
   ]
  },
  {
   "cell_type": "code",
   "execution_count": 30,
   "metadata": {},
   "outputs": [
    {
     "name": "stdout",
     "output_type": "stream",
     "text": [
      "Fitting 10 folds for each of 12 candidates, totalling 120 fits\n"
     ]
    },
    {
     "name": "stderr",
     "output_type": "stream",
     "text": [
      "[Parallel(n_jobs=8)]: Done  34 tasks      | elapsed: 12.7min\n",
      "[Parallel(n_jobs=8)]: Done 120 out of 120 | elapsed: 26.8min finished\n"
     ]
    },
    {
     "data": {
      "text/plain": [
       "GridSearchCV(cv=ShuffleSplit(n_splits=10, random_state=0, test_size=0.1, train_size=None),\n",
       "       error_score='raise',\n",
       "       estimator=RandomForestRegressor(bootstrap=True, criterion='mse', max_depth=None,\n",
       "           max_features='auto', max_leaf_nodes=None,\n",
       "           min_impurity_decrease=0.0, min_impurity_split=None,\n",
       "           min_samples_leaf=1, min_samples_split=2,\n",
       "           min_weight_fraction_leaf=0.0, n_estimators=10, n_jobs=1,\n",
       "           oob_score=False, random_state=None, verbose=0, warm_start=False),\n",
       "       fit_params=None, iid=True, n_jobs=8,\n",
       "       param_grid={'n_jobs': [8], 'min_samples_leaf': [10, 25, 50], 'n_estimators': [500], 'random_state': [0], 'criterion': ['mae'], 'min_samples_split': [2, 3, 4, 5]},\n",
       "       pre_dispatch='2*n_jobs', refit=True, return_train_score='warn',\n",
       "       scoring=make_scorer(mean_absolute_error, greater_is_better=False),\n",
       "       verbose=1)"
      ]
     },
     "execution_count": 30,
     "metadata": {},
     "output_type": "execute_result"
    }
   ],
   "source": [
    "#Create a Linear Regression object and perform a grid search to find the best parameters\n",
    "from sklearn.ensemble import RandomForestRegressor\n",
    "\n",
    "linreg = RandomForestRegressor()\n",
    "parameters = { 'min_samples_split':[2,3,4,5]\n",
    "              ,'n_estimators' : [500]\n",
    "              ,'min_samples_leaf': [10, 25, 50]\n",
    "              ,'criterion': ['mae']\n",
    "              ,'n_jobs':[8] \n",
    "              ,'random_state': [0]\n",
    "             }\n",
    "\n",
    "#Create a grid search object using the  \n",
    "from sklearn.model_selection import GridSearchCV\n",
    "regGridSearch = GridSearchCV(estimator=linreg\n",
    "                   , n_jobs=8 \n",
    "                   , verbose=1 # low verbosity\n",
    "                   , param_grid=parameters\n",
    "                   , cv=cv # KFolds = 10\n",
    "                   , scoring=mae_scorer)\n",
    "\n",
    "#Perform hyperparameter search to find the best combination of parameters for our data\n",
    "regGridSearch.fit(X_highSchools, Y)"
   ]
  },
  {
   "cell_type": "code",
   "execution_count": 31,
   "metadata": {},
   "outputs": [
    {
     "data": {
      "text/plain": [
       "RandomForestRegressor(bootstrap=True, criterion='mae', max_depth=None,\n",
       "           max_features='auto', max_leaf_nodes=None,\n",
       "           min_impurity_decrease=0.0, min_impurity_split=None,\n",
       "           min_samples_leaf=10, min_samples_split=2,\n",
       "           min_weight_fraction_leaf=0.0, n_estimators=500, n_jobs=8,\n",
       "           oob_score=False, random_state=0, verbose=0, warm_start=False)"
      ]
     },
     "execution_count": 31,
     "metadata": {},
     "output_type": "execute_result"
    }
   ],
   "source": [
    "#Display the best estimator parameters\n",
    "regGridSearch.best_estimator_"
   ]
  },
  {
   "cell_type": "code",
   "execution_count": 32,
   "metadata": {},
   "outputs": [
    {
     "name": "stdout",
     "output_type": "stream",
     "text": [
      "The average MAE for all cv folds is: \t\t\t 3.6642\n",
      "The average MAE percentage (MAPE) for all cv folds is: \t 4.012\n",
      "The average RMSE for all cv folds is: \t\t\t 6.7271\n",
      "*********************************************************\n",
      "Cross Validation Fold Mean Error Scores\n"
     ]
    },
    {
     "data": {
      "text/html": [
       "<div>\n",
       "<style scoped>\n",
       "    .dataframe tbody tr th:only-of-type {\n",
       "        vertical-align: middle;\n",
       "    }\n",
       "\n",
       "    .dataframe tbody tr th {\n",
       "        vertical-align: top;\n",
       "    }\n",
       "\n",
       "    .dataframe thead th {\n",
       "        text-align: right;\n",
       "    }\n",
       "</style>\n",
       "<table border=\"1\" class=\"dataframe\">\n",
       "  <thead>\n",
       "    <tr style=\"text-align: right;\">\n",
       "      <th></th>\n",
       "      <th>MAE</th>\n",
       "      <th>MAPE</th>\n",
       "      <th>RMSE</th>\n",
       "    </tr>\n",
       "  </thead>\n",
       "  <tbody>\n",
       "    <tr>\n",
       "      <th>0</th>\n",
       "      <td>2.629609</td>\n",
       "      <td>3.225937</td>\n",
       "      <td>3.853312</td>\n",
       "    </tr>\n",
       "    <tr>\n",
       "      <th>1</th>\n",
       "      <td>5.901400</td>\n",
       "      <td>6.682363</td>\n",
       "      <td>15.507512</td>\n",
       "    </tr>\n",
       "    <tr>\n",
       "      <th>2</th>\n",
       "      <td>3.557464</td>\n",
       "      <td>4.130883</td>\n",
       "      <td>7.859096</td>\n",
       "    </tr>\n",
       "    <tr>\n",
       "      <th>3</th>\n",
       "      <td>2.615868</td>\n",
       "      <td>3.185217</td>\n",
       "      <td>3.944613</td>\n",
       "    </tr>\n",
       "    <tr>\n",
       "      <th>4</th>\n",
       "      <td>6.071498</td>\n",
       "      <td>5.030097</td>\n",
       "      <td>15.424836</td>\n",
       "    </tr>\n",
       "    <tr>\n",
       "      <th>5</th>\n",
       "      <td>3.122717</td>\n",
       "      <td>3.564342</td>\n",
       "      <td>3.778177</td>\n",
       "    </tr>\n",
       "    <tr>\n",
       "      <th>6</th>\n",
       "      <td>2.896613</td>\n",
       "      <td>3.235872</td>\n",
       "      <td>4.061071</td>\n",
       "    </tr>\n",
       "    <tr>\n",
       "      <th>7</th>\n",
       "      <td>2.942896</td>\n",
       "      <td>3.483569</td>\n",
       "      <td>3.874830</td>\n",
       "    </tr>\n",
       "    <tr>\n",
       "      <th>8</th>\n",
       "      <td>3.696181</td>\n",
       "      <td>4.069399</td>\n",
       "      <td>4.688403</td>\n",
       "    </tr>\n",
       "    <tr>\n",
       "      <th>9</th>\n",
       "      <td>3.207806</td>\n",
       "      <td>3.512571</td>\n",
       "      <td>4.278672</td>\n",
       "    </tr>\n",
       "  </tbody>\n",
       "</table>\n",
       "</div>"
      ],
      "text/plain": [
       "        MAE      MAPE       RMSE\n",
       "0  2.629609  3.225937   3.853312\n",
       "1  5.901400  6.682363  15.507512\n",
       "2  3.557464  4.130883   7.859096\n",
       "3  2.615868  3.185217   3.944613\n",
       "4  6.071498  5.030097  15.424836\n",
       "5  3.122717  3.564342   3.778177\n",
       "6  2.896613  3.235872   4.061071\n",
       "7  2.942896  3.483569   3.874830\n",
       "8  3.696181  4.069399   4.688403\n",
       "9  3.207806  3.512571   4.278672"
      ]
     },
     "execution_count": 32,
     "metadata": {},
     "output_type": "execute_result"
    }
   ],
   "source": [
    "#Create CappedLinearRegression predictions between 0 and 100% using the best parameters for our Linear Regression object\n",
    "regEstimator = regGridSearch.best_estimator_\n",
    "\n",
    "#Evaluate the regression estimator above using our pre-defined cross validation and scoring metrics. \n",
    "EvaluateRegressionEstimator(regEstimator, X_highSchools, Y, cv)"
   ]
  },
  {
   "cell_type": "code",
   "execution_count": 33,
   "metadata": {},
   "outputs": [
    {
     "name": "stdout",
     "output_type": "stream",
     "text": [
      "('Yhat Max: ', 100.0)\n"
     ]
    }
   ],
   "source": [
    "#Do we predict graduation rates greater than 100%?\n",
    "regEstimator = regGridSearch.best_estimator_\n",
    "\n",
    "regEstimator.fit(X_highSchools, Y)\n",
    "yhat = regEstimator.predict(X_highSchools)\n",
    "print(\"Yhat Max: \", yhat.max())"
   ]
  },
  {
   "cell_type": "markdown",
   "metadata": {},
   "source": [
    "## Regression using the Extra Trees Regressor \n",
    "**This model uses a custom Logit model using the Random Forest Regressor. Please see documentation here: **\n",
    "* http://scikit-learn.org/stable/modules/generated/sklearn.ensemble.ExtraTreesRegressor.html"
   ]
  },
  {
   "cell_type": "code",
   "execution_count": 34,
   "metadata": {},
   "outputs": [
    {
     "name": "stdout",
     "output_type": "stream",
     "text": [
      "Fitting 10 folds for each of 12 candidates, totalling 120 fits\n"
     ]
    },
    {
     "name": "stderr",
     "output_type": "stream",
     "text": [
      "[Parallel(n_jobs=8)]: Done  34 tasks      | elapsed:  8.5min\n",
      "[Parallel(n_jobs=8)]: Done 120 out of 120 | elapsed: 17.0min finished\n"
     ]
    },
    {
     "data": {
      "text/plain": [
       "GridSearchCV(cv=ShuffleSplit(n_splits=10, random_state=0, test_size=0.1, train_size=None),\n",
       "       error_score='raise',\n",
       "       estimator=ExtraTreesRegressor(bootstrap=False, criterion='mse', max_depth=None,\n",
       "          max_features='auto', max_leaf_nodes=None,\n",
       "          min_impurity_decrease=0.0, min_impurity_split=None,\n",
       "          min_samples_leaf=1, min_samples_split=2,\n",
       "          min_weight_fraction_leaf=0.0, n_estimators=10, n_jobs=1,\n",
       "          oob_score=False, random_state=None, verbose=0, warm_start=False),\n",
       "       fit_params=None, iid=True, n_jobs=8,\n",
       "       param_grid={'n_jobs': [8], 'min_samples_leaf': [10, 25, 50], 'n_estimators': [500], 'random_state': [0], 'criterion': ['mae'], 'min_samples_split': [2, 3, 4, 5]},\n",
       "       pre_dispatch='2*n_jobs', refit=True, return_train_score='warn',\n",
       "       scoring=make_scorer(mean_absolute_error, greater_is_better=False),\n",
       "       verbose=1)"
      ]
     },
     "execution_count": 34,
     "metadata": {},
     "output_type": "execute_result"
    }
   ],
   "source": [
    "#Create a Linear Regression object and perform a grid search to find the best parameters\n",
    "from sklearn.ensemble import ExtraTreesRegressor\n",
    "\n",
    "linreg = ExtraTreesRegressor()\n",
    "parameters = { 'min_samples_split':[2,3,4,5]\n",
    "              ,'n_estimators' : [500]\n",
    "              ,'min_samples_leaf': [10, 25, 50]\n",
    "              ,'criterion': ['mae']\n",
    "              ,'n_jobs':[8] \n",
    "              ,'random_state': [0]\n",
    "             }\n",
    "\n",
    "#Create a grid search object using the  \n",
    "from sklearn.model_selection import GridSearchCV\n",
    "regGridSearch = GridSearchCV(estimator=linreg\n",
    "                   , n_jobs=8 # jobs to run in parallel\n",
    "                   , verbose=1 # low verbosity\n",
    "                   , param_grid=parameters\n",
    "                   , cv=cv # KFolds = 10\n",
    "                   , scoring=mae_scorer)\n",
    "\n",
    "#Perform hyperparameter search to find the best combination of parameters for our data\n",
    "regGridSearch.fit(X_highSchools, Y)"
   ]
  },
  {
   "cell_type": "code",
   "execution_count": 35,
   "metadata": {},
   "outputs": [
    {
     "data": {
      "text/plain": [
       "ExtraTreesRegressor(bootstrap=False, criterion='mae', max_depth=None,\n",
       "          max_features='auto', max_leaf_nodes=None,\n",
       "          min_impurity_decrease=0.0, min_impurity_split=None,\n",
       "          min_samples_leaf=10, min_samples_split=2,\n",
       "          min_weight_fraction_leaf=0.0, n_estimators=500, n_jobs=8,\n",
       "          oob_score=False, random_state=0, verbose=0, warm_start=False)"
      ]
     },
     "execution_count": 35,
     "metadata": {},
     "output_type": "execute_result"
    }
   ],
   "source": [
    "#Display the best estimator parameters\n",
    "regGridSearch.best_estimator_"
   ]
  },
  {
   "cell_type": "code",
   "execution_count": 36,
   "metadata": {},
   "outputs": [
    {
     "name": "stdout",
     "output_type": "stream",
     "text": [
      "The average MAE for all cv folds is: \t\t\t 4.9008\n",
      "The average MAE percentage (MAPE) for all cv folds is: \t 3.9867\n",
      "The average RMSE for all cv folds is: \t\t\t 9.6545\n",
      "*********************************************************\n",
      "Cross Validation Fold Mean Error Scores\n"
     ]
    },
    {
     "data": {
      "text/html": [
       "<div>\n",
       "<style scoped>\n",
       "    .dataframe tbody tr th:only-of-type {\n",
       "        vertical-align: middle;\n",
       "    }\n",
       "\n",
       "    .dataframe tbody tr th {\n",
       "        vertical-align: top;\n",
       "    }\n",
       "\n",
       "    .dataframe thead th {\n",
       "        text-align: right;\n",
       "    }\n",
       "</style>\n",
       "<table border=\"1\" class=\"dataframe\">\n",
       "  <thead>\n",
       "    <tr style=\"text-align: right;\">\n",
       "      <th></th>\n",
       "      <th>MAE</th>\n",
       "      <th>MAPE</th>\n",
       "      <th>RMSE</th>\n",
       "    </tr>\n",
       "  </thead>\n",
       "  <tbody>\n",
       "    <tr>\n",
       "      <th>0</th>\n",
       "      <td>3.624747</td>\n",
       "      <td>3.229604</td>\n",
       "      <td>7.454258</td>\n",
       "    </tr>\n",
       "    <tr>\n",
       "      <th>1</th>\n",
       "      <td>5.170447</td>\n",
       "      <td>5.725557</td>\n",
       "      <td>10.879990</td>\n",
       "    </tr>\n",
       "    <tr>\n",
       "      <th>2</th>\n",
       "      <td>4.658534</td>\n",
       "      <td>4.229527</td>\n",
       "      <td>8.218614</td>\n",
       "    </tr>\n",
       "    <tr>\n",
       "      <th>3</th>\n",
       "      <td>4.525079</td>\n",
       "      <td>3.475231</td>\n",
       "      <td>9.447993</td>\n",
       "    </tr>\n",
       "    <tr>\n",
       "      <th>4</th>\n",
       "      <td>9.146609</td>\n",
       "      <td>4.817242</td>\n",
       "      <td>20.458666</td>\n",
       "    </tr>\n",
       "    <tr>\n",
       "      <th>5</th>\n",
       "      <td>3.918791</td>\n",
       "      <td>3.650936</td>\n",
       "      <td>6.169818</td>\n",
       "    </tr>\n",
       "    <tr>\n",
       "      <th>6</th>\n",
       "      <td>4.189943</td>\n",
       "      <td>3.493703</td>\n",
       "      <td>8.263302</td>\n",
       "    </tr>\n",
       "    <tr>\n",
       "      <th>7</th>\n",
       "      <td>4.043019</td>\n",
       "      <td>3.372730</td>\n",
       "      <td>9.177872</td>\n",
       "    </tr>\n",
       "    <tr>\n",
       "      <th>8</th>\n",
       "      <td>6.331119</td>\n",
       "      <td>4.178314</td>\n",
       "      <td>11.909818</td>\n",
       "    </tr>\n",
       "    <tr>\n",
       "      <th>9</th>\n",
       "      <td>3.400106</td>\n",
       "      <td>3.694502</td>\n",
       "      <td>4.564676</td>\n",
       "    </tr>\n",
       "  </tbody>\n",
       "</table>\n",
       "</div>"
      ],
      "text/plain": [
       "        MAE      MAPE       RMSE\n",
       "0  3.624747  3.229604   7.454258\n",
       "1  5.170447  5.725557  10.879990\n",
       "2  4.658534  4.229527   8.218614\n",
       "3  4.525079  3.475231   9.447993\n",
       "4  9.146609  4.817242  20.458666\n",
       "5  3.918791  3.650936   6.169818\n",
       "6  4.189943  3.493703   8.263302\n",
       "7  4.043019  3.372730   9.177872\n",
       "8  6.331119  4.178314  11.909818\n",
       "9  3.400106  3.694502   4.564676"
      ]
     },
     "execution_count": 36,
     "metadata": {},
     "output_type": "execute_result"
    }
   ],
   "source": [
    "#Create CappedLinearRegression predictions between 0 and 100% using the best parameters for our Linear Regression object\n",
    "regEstimator = regGridSearch.best_estimator_\n",
    "\n",
    "#Evaluate the regression estimator above using our pre-defined cross validation and scoring metrics. \n",
    "EvaluateRegressionEstimator(regEstimator, X_highSchools, Y, cv)"
   ]
  },
  {
   "cell_type": "code",
   "execution_count": 37,
   "metadata": {},
   "outputs": [
    {
     "name": "stdout",
     "output_type": "stream",
     "text": [
      "('Yhat Max: ', 100.0)\n"
     ]
    }
   ],
   "source": [
    "#Do we predict graduation rates greater than 100%?\n",
    "regEstimator = regGridSearch.best_estimator_\n",
    "\n",
    "regEstimator.fit(X_highSchools, Y)\n",
    "yhat = regEstimator.predict(X_highSchools)\n",
    "print(\"Yhat Max: \", yhat.max())"
   ]
  },
  {
   "cell_type": "markdown",
   "metadata": {
    "collapsed": true
   },
   "source": [
    "## Multilayer Perceptron Regression \n",
    "**This model uses a neural network for regression. Please see documentation here: **\n",
    "* http://scikit-learn.org/stable/modules/generated/sklearn.neural_network.MLPRegressor.html\n",
    "* https://stackoverflow.com/questions/41069905/trouble-fitting-simple-data-with-mlpregressor"
   ]
  },
  {
   "cell_type": "code",
   "execution_count": 38,
   "metadata": {},
   "outputs": [
    {
     "name": "stdout",
     "output_type": "stream",
     "text": [
      "Fitting 10 folds for each of 6 candidates, totalling 60 fits\n"
     ]
    },
    {
     "name": "stderr",
     "output_type": "stream",
     "text": [
      "[Parallel(n_jobs=8)]: Done  34 tasks      | elapsed:   57.0s\n",
      "[Parallel(n_jobs=8)]: Done  60 out of  60 | elapsed:  1.7min finished\n"
     ]
    },
    {
     "data": {
      "text/plain": [
       "GridSearchCV(cv=ShuffleSplit(n_splits=10, random_state=0, test_size=0.1, train_size=None),\n",
       "       error_score='raise',\n",
       "       estimator=MLPRegressor(activation='relu', alpha=0.0001, batch_size='auto', beta_1=0.9,\n",
       "       beta_2=0.999, early_stopping=False, epsilon=1e-08,\n",
       "       hidden_layer_sizes=(100,), learning_rate='constant',\n",
       "       learning_rate_init=0.001, max_iter=200, momentum=0.9,\n",
       "       nesterovs_momentum=True, power_t=0.5, random_state=None,\n",
       "       shuffle=True, solver='adam', tol=0.0001, validation_fraction=0.1,\n",
       "       verbose=False, warm_start=False),\n",
       "       fit_params=None, iid=True, n_jobs=8,\n",
       "       param_grid={'power_t': [0.5], 'random_state': [0], 'learning_rate_init': [0.001], 'max_iter': [1000], 'hidden_layer_sizes': [200], 'alpha': [0.001], 'activation': ['logistic'], 'solver': ['sgd', 'adam'], 'learning_rate': ['constant', 'invscaling', 'adaptive'], 'batch_size': ['auto']},\n",
       "       pre_dispatch='2*n_jobs', refit=True, return_train_score='warn',\n",
       "       scoring=make_scorer(mean_absolute_error, greater_is_better=False),\n",
       "       verbose=1)"
      ]
     },
     "execution_count": 38,
     "metadata": {},
     "output_type": "execute_result"
    }
   ],
   "source": [
    "#Create a Linear Regression object and perform a grid search to find the best parameters\n",
    "from sklearn.neural_network import MLPRegressor\n",
    "\n",
    "linreg = MLPRegressor()\n",
    "parameters = { 'activation':['logistic']\n",
    "              ,'hidden_layer_sizes' : [200]\n",
    "              ,'solver': ['sgd','adam']\n",
    "              ,'alpha': [0.001]\n",
    "              ,'batch_size':['auto'] \n",
    "              ,'random_state': [0]\n",
    "              ,'learning_rate': ['constant', 'invscaling', 'adaptive']\n",
    "              ,'learning_rate_init':[0.001]\n",
    "              ,'power_t':[0.5]\n",
    "              ,'max_iter':[1000]\n",
    "             }\n",
    "\n",
    "#Create a grid search object using the  \n",
    "from sklearn.model_selection import GridSearchCV\n",
    "regGridSearch = GridSearchCV(estimator=linreg\n",
    "                   , n_jobs=8 # jobs to run in parallel\n",
    "                   , verbose=1 # low verbosity\n",
    "                   , param_grid=parameters\n",
    "                   , cv=cv # KFolds = 10\n",
    "                   , scoring=mae_scorer)\n",
    "\n",
    "#Perform hyperparameter search to find the best combination of parameters for our data\n",
    "regGridSearch.fit(X_highSchools, Y)"
   ]
  },
  {
   "cell_type": "code",
   "execution_count": 39,
   "metadata": {},
   "outputs": [
    {
     "data": {
      "text/plain": [
       "MLPRegressor(activation='logistic', alpha=0.001, batch_size='auto',\n",
       "       beta_1=0.9, beta_2=0.999, early_stopping=False, epsilon=1e-08,\n",
       "       hidden_layer_sizes=200, learning_rate='adaptive',\n",
       "       learning_rate_init=0.001, max_iter=1000, momentum=0.9,\n",
       "       nesterovs_momentum=True, power_t=0.5, random_state=0, shuffle=True,\n",
       "       solver='sgd', tol=0.0001, validation_fraction=0.1, verbose=False,\n",
       "       warm_start=False)"
      ]
     },
     "execution_count": 39,
     "metadata": {},
     "output_type": "execute_result"
    }
   ],
   "source": [
    "#Display the best estimator parameters\n",
    "regGridSearch.best_estimator_"
   ]
  },
  {
   "cell_type": "code",
   "execution_count": 40,
   "metadata": {},
   "outputs": [
    {
     "name": "stdout",
     "output_type": "stream",
     "text": [
      "The average MAE for all cv folds is: \t\t\t 11.206\n",
      "The average MAE percentage (MAPE) for all cv folds is: \t 7.6331\n",
      "The average RMSE for all cv folds is: \t\t\t 20.776\n",
      "*********************************************************\n",
      "Cross Validation Fold Mean Error Scores\n"
     ]
    },
    {
     "data": {
      "text/html": [
       "<div>\n",
       "<style scoped>\n",
       "    .dataframe tbody tr th:only-of-type {\n",
       "        vertical-align: middle;\n",
       "    }\n",
       "\n",
       "    .dataframe tbody tr th {\n",
       "        vertical-align: top;\n",
       "    }\n",
       "\n",
       "    .dataframe thead th {\n",
       "        text-align: right;\n",
       "    }\n",
       "</style>\n",
       "<table border=\"1\" class=\"dataframe\">\n",
       "  <thead>\n",
       "    <tr style=\"text-align: right;\">\n",
       "      <th></th>\n",
       "      <th>MAE</th>\n",
       "      <th>MAPE</th>\n",
       "      <th>RMSE</th>\n",
       "    </tr>\n",
       "  </thead>\n",
       "  <tbody>\n",
       "    <tr>\n",
       "      <th>0</th>\n",
       "      <td>13.976425</td>\n",
       "      <td>7.544351</td>\n",
       "      <td>26.991679</td>\n",
       "    </tr>\n",
       "    <tr>\n",
       "      <th>1</th>\n",
       "      <td>12.510269</td>\n",
       "      <td>9.885761</td>\n",
       "      <td>20.422062</td>\n",
       "    </tr>\n",
       "    <tr>\n",
       "      <th>2</th>\n",
       "      <td>12.777785</td>\n",
       "      <td>8.238480</td>\n",
       "      <td>23.453151</td>\n",
       "    </tr>\n",
       "    <tr>\n",
       "      <th>3</th>\n",
       "      <td>11.863805</td>\n",
       "      <td>7.218099</td>\n",
       "      <td>23.997857</td>\n",
       "    </tr>\n",
       "    <tr>\n",
       "      <th>4</th>\n",
       "      <td>13.372125</td>\n",
       "      <td>7.393450</td>\n",
       "      <td>26.735217</td>\n",
       "    </tr>\n",
       "    <tr>\n",
       "      <th>5</th>\n",
       "      <td>10.052310</td>\n",
       "      <td>7.024744</td>\n",
       "      <td>19.575205</td>\n",
       "    </tr>\n",
       "    <tr>\n",
       "      <th>6</th>\n",
       "      <td>11.323383</td>\n",
       "      <td>8.265414</td>\n",
       "      <td>20.022261</td>\n",
       "    </tr>\n",
       "    <tr>\n",
       "      <th>7</th>\n",
       "      <td>6.886584</td>\n",
       "      <td>5.691769</td>\n",
       "      <td>14.414597</td>\n",
       "    </tr>\n",
       "    <tr>\n",
       "      <th>8</th>\n",
       "      <td>12.549032</td>\n",
       "      <td>7.903303</td>\n",
       "      <td>23.447124</td>\n",
       "    </tr>\n",
       "    <tr>\n",
       "      <th>9</th>\n",
       "      <td>6.750175</td>\n",
       "      <td>7.165598</td>\n",
       "      <td>8.703539</td>\n",
       "    </tr>\n",
       "  </tbody>\n",
       "</table>\n",
       "</div>"
      ],
      "text/plain": [
       "         MAE      MAPE       RMSE\n",
       "0  13.976425  7.544351  26.991679\n",
       "1  12.510269  9.885761  20.422062\n",
       "2  12.777785  8.238480  23.453151\n",
       "3  11.863805  7.218099  23.997857\n",
       "4  13.372125  7.393450  26.735217\n",
       "5  10.052310  7.024744  19.575205\n",
       "6  11.323383  8.265414  20.022261\n",
       "7   6.886584  5.691769  14.414597\n",
       "8  12.549032  7.903303  23.447124\n",
       "9   6.750175  7.165598   8.703539"
      ]
     },
     "execution_count": 40,
     "metadata": {},
     "output_type": "execute_result"
    }
   ],
   "source": [
    "#Create CappedLinearRegression predictions between 0 and 100% using the best parameters for our Linear Regression object\n",
    "regEstimator = regGridSearch.best_estimator_\n",
    "\n",
    "#Evaluate the regression estimator above using our pre-defined cross validation and scoring metrics. \n",
    "EvaluateRegressionEstimator(regEstimator, X_highSchools, Y, cv)"
   ]
  },
  {
   "cell_type": "code",
   "execution_count": 41,
   "metadata": {},
   "outputs": [
    {
     "name": "stdout",
     "output_type": "stream",
     "text": [
      "('Yhat Max: ', 86.20240493061681)\n"
     ]
    }
   ],
   "source": [
    "#Do we predict graduation rates greater than 100%?\n",
    "regEstimator = regGridSearch.best_estimator_\n",
    "\n",
    "regEstimator.fit(X_highSchools, Y)\n",
    "yhat = regEstimator.predict(X_highSchools)\n",
    "print(\"Yhat Max: \", yhat.max())"
   ]
  },
  {
   "cell_type": "markdown",
   "metadata": {
    "collapsed": true
   },
   "source": [
    "# Top Performing Model Analisys\n",
    "## Testing Scaled vs. Unscaled Training Data\n",
    "**Cross validation is performed using both scaled and unscaled training data.**\n",
    "* A grid search is also performed on the scaled training data to determine the best parameters to use with the scaled training data."
   ]
  },
  {
   "cell_type": "code",
   "execution_count": 42,
   "metadata": {},
   "outputs": [
    {
     "name": "stdout",
     "output_type": "stream",
     "text": [
      "The average MAE for all cv folds is: \t\t\t 3.6642\n",
      "The average MAE percentage (MAPE) for all cv folds is: \t 4.012\n",
      "The average RMSE for all cv folds is: \t\t\t 6.7271\n",
      "*********************************************************\n",
      "Cross Validation Fold Mean Error Scores\n"
     ]
    },
    {
     "data": {
      "text/html": [
       "<div>\n",
       "<style scoped>\n",
       "    .dataframe tbody tr th:only-of-type {\n",
       "        vertical-align: middle;\n",
       "    }\n",
       "\n",
       "    .dataframe tbody tr th {\n",
       "        vertical-align: top;\n",
       "    }\n",
       "\n",
       "    .dataframe thead th {\n",
       "        text-align: right;\n",
       "    }\n",
       "</style>\n",
       "<table border=\"1\" class=\"dataframe\">\n",
       "  <thead>\n",
       "    <tr style=\"text-align: right;\">\n",
       "      <th></th>\n",
       "      <th>MAE</th>\n",
       "      <th>MAPE</th>\n",
       "      <th>RMSE</th>\n",
       "    </tr>\n",
       "  </thead>\n",
       "  <tbody>\n",
       "    <tr>\n",
       "      <th>0</th>\n",
       "      <td>2.629609</td>\n",
       "      <td>3.225937</td>\n",
       "      <td>3.853312</td>\n",
       "    </tr>\n",
       "    <tr>\n",
       "      <th>1</th>\n",
       "      <td>5.901400</td>\n",
       "      <td>6.682363</td>\n",
       "      <td>15.507512</td>\n",
       "    </tr>\n",
       "    <tr>\n",
       "      <th>2</th>\n",
       "      <td>3.557464</td>\n",
       "      <td>4.130883</td>\n",
       "      <td>7.859096</td>\n",
       "    </tr>\n",
       "    <tr>\n",
       "      <th>3</th>\n",
       "      <td>2.615868</td>\n",
       "      <td>3.185217</td>\n",
       "      <td>3.944613</td>\n",
       "    </tr>\n",
       "    <tr>\n",
       "      <th>4</th>\n",
       "      <td>6.071498</td>\n",
       "      <td>5.030097</td>\n",
       "      <td>15.424836</td>\n",
       "    </tr>\n",
       "    <tr>\n",
       "      <th>5</th>\n",
       "      <td>3.122717</td>\n",
       "      <td>3.564342</td>\n",
       "      <td>3.778177</td>\n",
       "    </tr>\n",
       "    <tr>\n",
       "      <th>6</th>\n",
       "      <td>2.896613</td>\n",
       "      <td>3.235872</td>\n",
       "      <td>4.061071</td>\n",
       "    </tr>\n",
       "    <tr>\n",
       "      <th>7</th>\n",
       "      <td>2.942896</td>\n",
       "      <td>3.483569</td>\n",
       "      <td>3.874830</td>\n",
       "    </tr>\n",
       "    <tr>\n",
       "      <th>8</th>\n",
       "      <td>3.696181</td>\n",
       "      <td>4.069399</td>\n",
       "      <td>4.688403</td>\n",
       "    </tr>\n",
       "    <tr>\n",
       "      <th>9</th>\n",
       "      <td>3.207806</td>\n",
       "      <td>3.512571</td>\n",
       "      <td>4.278672</td>\n",
       "    </tr>\n",
       "  </tbody>\n",
       "</table>\n",
       "</div>"
      ],
      "text/plain": [
       "        MAE      MAPE       RMSE\n",
       "0  2.629609  3.225937   3.853312\n",
       "1  5.901400  6.682363  15.507512\n",
       "2  3.557464  4.130883   7.859096\n",
       "3  2.615868  3.185217   3.944613\n",
       "4  6.071498  5.030097  15.424836\n",
       "5  3.122717  3.564342   3.778177\n",
       "6  2.896613  3.235872   4.061071\n",
       "7  2.942896  3.483569   3.874830\n",
       "8  3.696181  4.069399   4.688403\n",
       "9  3.207806  3.512571   4.278672"
      ]
     },
     "execution_count": 42,
     "metadata": {},
     "output_type": "execute_result"
    }
   ],
   "source": [
    "from sklearn.ensemble import RandomForestRegressor\n",
    "\n",
    "#Create a regression estimator with best parameters for cross validation\n",
    "regEstimator = RandomForestRegressor(bootstrap=True, criterion='mae', max_depth=None,\n",
    "                                       max_features='auto', max_leaf_nodes=None,\n",
    "                                       min_impurity_decrease=0.0, min_impurity_split=None,\n",
    "                                       min_samples_leaf=10, min_samples_split=2,\n",
    "                                       min_weight_fraction_leaf=0.0, n_estimators=500, n_jobs=8,\n",
    "                                       oob_score=False, random_state=0, verbose=0, warm_start=False)\n",
    "\n",
    "#Evaluate the regression estimator above using our pre-defined cross validation and scoring metrics.\n",
    "EvaluateRegressionEstimator(regEstimator, X_highSchools, Y, cv)"
   ]
  },
  {
   "cell_type": "markdown",
   "metadata": {},
   "source": [
    "* **We scale the data prior to looking at feature importances.  Since the raw features have different dynamic ranges, scaling the data first allows us to compare the model's coefficients accurately.** \n",
    "* **The scaled data makes more accurate predictions in many cases but not always!**"
   ]
  },
  {
   "cell_type": "code",
   "execution_count": 9,
   "metadata": {},
   "outputs": [],
   "source": [
    "#Scale dataset converting to standard normally distributed data \n",
    "# (e.g. Gaussian with 0 mean and unit variance).\n",
    "from sklearn.preprocessing import StandardScaler\n",
    "\n",
    "#Fit to data for scaling\n",
    "scaler = StandardScaler()\n",
    "scaler.fit(X_highSchools)\n",
    "\n",
    "#Transform training data to z-scores\n",
    "#This makes our model's coefficients take on the same scale for accurate feature importance analisys \n",
    "X_highSchools_Scl = scaler.transform(X_highSchools)"
   ]
  },
  {
   "cell_type": "markdown",
   "metadata": {},
   "source": [
    "**In this case, I tested scaling the data before cross validation as well.  However, the model's MAE increased to 2.33%.**"
   ]
  },
  {
   "cell_type": "code",
   "execution_count": 44,
   "metadata": {},
   "outputs": [
    {
     "name": "stdout",
     "output_type": "stream",
     "text": [
      "Fitting 10 folds for each of 12 candidates, totalling 120 fits\n"
     ]
    },
    {
     "name": "stderr",
     "output_type": "stream",
     "text": [
      "[Parallel(n_jobs=8)]: Done  34 tasks      | elapsed: 12.9min\n",
      "[Parallel(n_jobs=8)]: Done 120 out of 120 | elapsed: 26.9min finished\n"
     ]
    },
    {
     "data": {
      "text/plain": [
       "GridSearchCV(cv=ShuffleSplit(n_splits=10, random_state=0, test_size=0.1, train_size=None),\n",
       "       error_score='raise',\n",
       "       estimator=RandomForestRegressor(bootstrap=True, criterion='mse', max_depth=None,\n",
       "           max_features='auto', max_leaf_nodes=None,\n",
       "           min_impurity_decrease=0.0, min_impurity_split=None,\n",
       "           min_samples_leaf=1, min_samples_split=2,\n",
       "           min_weight_fraction_leaf=0.0, n_estimators=10, n_jobs=1,\n",
       "           oob_score=False, random_state=None, verbose=0, warm_start=False),\n",
       "       fit_params=None, iid=True, n_jobs=8,\n",
       "       param_grid={'n_jobs': [8], 'min_samples_leaf': [10, 25, 50], 'n_estimators': [500], 'random_state': [0], 'criterion': ['mae'], 'min_samples_split': [2, 3, 4, 5]},\n",
       "       pre_dispatch='2*n_jobs', refit=True, return_train_score='warn',\n",
       "       scoring=make_scorer(mean_absolute_error, greater_is_better=False),\n",
       "       verbose=1)"
      ]
     },
     "execution_count": 44,
     "metadata": {},
     "output_type": "execute_result"
    }
   ],
   "source": [
    "from sklearn.ensemble import RandomForestRegressor\n",
    "\n",
    "linreg = RandomForestRegressor()\n",
    "parameters = { 'min_samples_split':[2,3,4,5]\n",
    "              ,'n_estimators' : [500]\n",
    "              ,'min_samples_leaf': [10, 25, 50]\n",
    "              ,'criterion': ['mae']\n",
    "              ,'n_jobs':[8] \n",
    "              ,'random_state': [0]\n",
    "             }\n",
    "\n",
    "#Create a grid search object using the  \n",
    "from sklearn.model_selection import GridSearchCV\n",
    "regGridSearch = GridSearchCV(estimator=linreg\n",
    "                   , n_jobs=8 \n",
    "                   , verbose=1 # low verbosity\n",
    "                   , param_grid=parameters\n",
    "                   , cv=cv # KFolds = 10\n",
    "                   , scoring=mae_scorer)\n",
    "\n",
    "#Perform hyperparameter search to find the best combination of parameters for our data\n",
    "regGridSearch.fit(X_highSchools, Y)"
   ]
  },
  {
   "cell_type": "code",
   "execution_count": 45,
   "metadata": {},
   "outputs": [
    {
     "data": {
      "text/plain": [
       "RandomForestRegressor(bootstrap=True, criterion='mae', max_depth=None,\n",
       "           max_features='auto', max_leaf_nodes=None,\n",
       "           min_impurity_decrease=0.0, min_impurity_split=None,\n",
       "           min_samples_leaf=10, min_samples_split=2,\n",
       "           min_weight_fraction_leaf=0.0, n_estimators=500, n_jobs=8,\n",
       "           oob_score=False, random_state=0, verbose=0, warm_start=False)"
      ]
     },
     "execution_count": 45,
     "metadata": {},
     "output_type": "execute_result"
    }
   ],
   "source": [
    "#Display the best estimator parameters\n",
    "regGridSearch.best_estimator_"
   ]
  },
  {
   "cell_type": "code",
   "execution_count": 46,
   "metadata": {},
   "outputs": [
    {
     "name": "stdout",
     "output_type": "stream",
     "text": [
      "The average MAE for all cv folds is: \t\t\t 3.6639\n",
      "The average MAE percentage (MAPE) for all cv folds is: \t 4.0117\n",
      "The average RMSE for all cv folds is: \t\t\t 6.7264\n",
      "*********************************************************\n",
      "Cross Validation Fold Mean Error Scores\n"
     ]
    },
    {
     "data": {
      "text/html": [
       "<div>\n",
       "<style scoped>\n",
       "    .dataframe tbody tr th:only-of-type {\n",
       "        vertical-align: middle;\n",
       "    }\n",
       "\n",
       "    .dataframe tbody tr th {\n",
       "        vertical-align: top;\n",
       "    }\n",
       "\n",
       "    .dataframe thead th {\n",
       "        text-align: right;\n",
       "    }\n",
       "</style>\n",
       "<table border=\"1\" class=\"dataframe\">\n",
       "  <thead>\n",
       "    <tr style=\"text-align: right;\">\n",
       "      <th></th>\n",
       "      <th>MAE</th>\n",
       "      <th>MAPE</th>\n",
       "      <th>RMSE</th>\n",
       "    </tr>\n",
       "  </thead>\n",
       "  <tbody>\n",
       "    <tr>\n",
       "      <th>0</th>\n",
       "      <td>2.628626</td>\n",
       "      <td>3.224763</td>\n",
       "      <td>3.852002</td>\n",
       "    </tr>\n",
       "    <tr>\n",
       "      <th>1</th>\n",
       "      <td>5.899711</td>\n",
       "      <td>6.680415</td>\n",
       "      <td>15.507217</td>\n",
       "    </tr>\n",
       "    <tr>\n",
       "      <th>2</th>\n",
       "      <td>3.557345</td>\n",
       "      <td>4.130702</td>\n",
       "      <td>7.859074</td>\n",
       "    </tr>\n",
       "    <tr>\n",
       "      <th>3</th>\n",
       "      <td>2.615304</td>\n",
       "      <td>3.184447</td>\n",
       "      <td>3.943083</td>\n",
       "    </tr>\n",
       "    <tr>\n",
       "      <th>4</th>\n",
       "      <td>6.071791</td>\n",
       "      <td>5.030548</td>\n",
       "      <td>15.424889</td>\n",
       "    </tr>\n",
       "    <tr>\n",
       "      <th>5</th>\n",
       "      <td>3.122523</td>\n",
       "      <td>3.564135</td>\n",
       "      <td>3.776829</td>\n",
       "    </tr>\n",
       "    <tr>\n",
       "      <th>6</th>\n",
       "      <td>2.897700</td>\n",
       "      <td>3.237157</td>\n",
       "      <td>4.061939</td>\n",
       "    </tr>\n",
       "    <tr>\n",
       "      <th>7</th>\n",
       "      <td>2.943951</td>\n",
       "      <td>3.484792</td>\n",
       "      <td>3.876614</td>\n",
       "    </tr>\n",
       "    <tr>\n",
       "      <th>8</th>\n",
       "      <td>3.694966</td>\n",
       "      <td>4.067752</td>\n",
       "      <td>4.685569</td>\n",
       "    </tr>\n",
       "    <tr>\n",
       "      <th>9</th>\n",
       "      <td>3.207538</td>\n",
       "      <td>3.512383</td>\n",
       "      <td>4.276527</td>\n",
       "    </tr>\n",
       "  </tbody>\n",
       "</table>\n",
       "</div>"
      ],
      "text/plain": [
       "        MAE      MAPE       RMSE\n",
       "0  2.628626  3.224763   3.852002\n",
       "1  5.899711  6.680415  15.507217\n",
       "2  3.557345  4.130702   7.859074\n",
       "3  2.615304  3.184447   3.943083\n",
       "4  6.071791  5.030548  15.424889\n",
       "5  3.122523  3.564135   3.776829\n",
       "6  2.897700  3.237157   4.061939\n",
       "7  2.943951  3.484792   3.876614\n",
       "8  3.694966  4.067752   4.685569\n",
       "9  3.207538  3.512383   4.276527"
      ]
     },
     "execution_count": 46,
     "metadata": {},
     "output_type": "execute_result"
    }
   ],
   "source": [
    "#Create a regression estimator with best parameters for cross validation\n",
    "regEstimator = regGridSearch.best_estimator_\n",
    "\n",
    "#Evaluate the regression estimator above using our pre-defined cross validation and scoring metrics.\n",
    "EvaluateRegressionEstimator(regEstimator, X_highSchools_Scl, Y, cv)"
   ]
  },
  {
   "cell_type": "markdown",
   "metadata": {},
   "source": [
    "## Feature Importance for the Top Performing Model\n",
    "**Here we look at the features driving the top performing model's decisions.**\n",
    "* The top performing model uses Support Vector Regression and performs at +-1.88% Mean Absolute Error during Cross Validation.\n",
    "* All training data is scaled to remove differences in coefficient scales since many features have different dynamic ranges.\n",
    "* A final model is created using all the scaled training data.  \n",
    "* All model coefficients are sotred by absolute value in descending order.\n",
    "* Sorted coefficient values are plotted showing the top 75 features with the strongest positive and negative correlations to the graduation rate.  "
   ]
  },
  {
   "cell_type": "markdown",
   "metadata": {
    "collapsed": true
   },
   "source": [
    "**Next, we create one final model using all of the scaled training data for evaluating feature importance.**  "
   ]
  },
  {
   "cell_type": "code",
   "execution_count": 49,
   "metadata": {},
   "outputs": [
    {
     "data": {
      "text/plain": [
       "RandomForestRegressor(bootstrap=True, criterion='mae', max_depth=None,\n",
       "           max_features='auto', max_leaf_nodes=None,\n",
       "           min_impurity_decrease=0.0, min_impurity_split=None,\n",
       "           min_samples_leaf=10, min_samples_split=2,\n",
       "           min_weight_fraction_leaf=0.0, n_estimators=500, n_jobs=8,\n",
       "           oob_score=False, random_state=0, verbose=0, warm_start=False)"
      ]
     },
     "execution_count": 49,
     "metadata": {},
     "output_type": "execute_result"
    }
   ],
   "source": [
    "from sklearn.ensemble import RandomForestRegressor\n",
    "\n",
    "#Create a regression estimator with best parameters for cross validation\n",
    "regEstimator = RandomForestRegressor(bootstrap=True, criterion='mae', max_depth=None,\n",
    "                                       max_features='auto', max_leaf_nodes=None,\n",
    "                                       min_impurity_decrease=0.0, min_impurity_split=None,\n",
    "                                       min_samples_leaf=10, min_samples_split=2,\n",
    "                                       min_weight_fraction_leaf=0.0, n_estimators=500, n_jobs=8,\n",
    "                                       oob_score=False, random_state=0, verbose=0, warm_start=False)\n",
    "\n",
    "#Fit the model using all of the scaled training data\n",
    "regEstimator.fit(X_highSchools_Scl, Y)"
   ]
  },
  {
   "cell_type": "code",
   "execution_count": 51,
   "metadata": {},
   "outputs": [],
   "source": [
    "#Load the model's coefficient weights and feature names into a dataframe sorted by weights\n",
    "weights = regEstimator.feature_importances_.ravel()\n",
    "feature_names = X_highSchools.columns.values\n",
    "linreg_ft_imp_df = pd.DataFrame({'feature_names':feature_names, 'weights':weights, 'absolute_weights': np.abs(weights)})\n",
    "linreg_ft_imp_df.sort_values(by='absolute_weights', inplace=True, ascending=False )"
   ]
  },
  {
   "cell_type": "code",
   "execution_count": 52,
   "metadata": {},
   "outputs": [
    {
     "data": {
      "image/png": "[encoded data removed]",
      "text/plain": [
       "<matplotlib.figure.Figure at 0x132eb9e8>"
      ]
     },
     "metadata": {},
     "output_type": "display_data"
    }
   ],
   "source": [
    "# Examine categorical variables of interest  \n",
    "import matplotlib.pyplot as plt\n",
    "%matplotlib inline\n",
    "\n",
    "#Plot the model's feature importances\n",
    "# REFERENCE:  Eric Larson, https://github.com/eclarson/DataMiningNotebooks\n",
    "plt.style.use('ggplot')\n",
    "\n",
    "wt_plt_df = linreg_ft_imp_df.head(75)\n",
    "\n",
    "weights = pd.Series(wt_plt_df['weights'].values,index=wt_plt_df['feature_names'])\n",
    "ax = weights.plot(kind='bar', figsize=(20,8))\n",
    "\n",
    "ax.set_title(\"Top Feature Correlations\")\n",
    "ax.set_ylabel(\"Coefficient Magnitude\\n(z-score)\")\n",
    "ax.set_xlabel(\"Feature Names\")\n",
    "plt.show()"
   ]
  },
  {
   "cell_type": "code",
   "execution_count": null,
   "metadata": {
    "collapsed": true
   },
   "outputs": [],
   "source": []
  }
 ],
 "metadata": {
  "kernelspec": {
   "display_name": "Python 3",
   "language": "python",
   "name": "python3"
  },
  "language_info": {
   "codemirror_mode": {
    "name": "ipython",
    "version": 3
   },
   "file_extension": ".py",
   "mimetype": "text/x-python",
   "name": "python",
   "nbconvert_exporter": "python",
   "pygments_lexer": "ipython3",
   "version": "3.6.5"
  }
 },
 "nbformat": 4,
 "nbformat_minor": 1
}
