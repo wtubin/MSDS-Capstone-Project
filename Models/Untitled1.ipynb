{
 "cells": [
  {
   "cell_type": "code",
   "execution_count": 4,
   "metadata": {},
   "outputs": [
    {
     "name": "stdout",
     "output_type": "stream",
     "text": [
      "What is your name? It is Bin Yu.\n",
      "What is your quest? It is Better Algorithm.\n",
      "What is your favorite color? It is Red.\n"
     ]
    }
   ],
   "source": [
    "# Classic example of zipping from the official\n",
    "# Python tutorial\n",
    "questions = ['name', 'quest', 'favorite color']\n",
    "answers = ['Bin Yu', 'Better Algorithm', 'Red']\n",
    "for q, a in zip(questions,answers):\n",
    "    print ('What is your %s? It is %s.'% (q,a))"
   ]
  },
  {
   "cell_type": "code",
   "execution_count": null,
   "metadata": {},
   "outputs": [],
   "source": []
  }
 ],
 "metadata": {
  "kernelspec": {
   "display_name": "Python 3",
   "language": "python",
   "name": "python3"
  },
  "language_info": {
   "codemirror_mode": {
    "name": "ipython",
    "version": 3
   },
   "file_extension": ".py",
   "mimetype": "text/x-python",
   "name": "python",
   "nbconvert_exporter": "python",
   "pygments_lexer": "ipython3",
   "version": "3.7.1"
  }
 },
 "nbformat": 4,
 "nbformat_minor": 2
}
