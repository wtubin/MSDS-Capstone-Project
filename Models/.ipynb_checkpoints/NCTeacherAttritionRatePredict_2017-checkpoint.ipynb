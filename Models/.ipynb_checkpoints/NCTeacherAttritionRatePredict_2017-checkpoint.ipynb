{
 "cells": [
  {
   "cell_type": "markdown",
   "metadata": {},
   "source": [
    "## Predicting Teacher Attrition Rates for Public Schools\n",
    "**This notebook explores predicting teacher attrition rates for public schools in North Carolina.** \n",
    "* Public school racial compositions are also considered when making predictions in this notebook.\n",
    "* The North Carolina Educational Attainment Data Repository for Machine Learning is located on Github at: https://github.com/wtubin/TeacherRetentionofNC\n",
    "\n",
    "**For documentation on various Generalized Linear Models in Sklearn see:**\n",
    "* http://scikit-learn.org/stable/modules/linear_model.html\n",
    "* https://stackoverflow.com/questions/33845539/modelling-probabilities-in-a-regularized-logistic-regression-model-in-python"
   ]
  },
  {
   "cell_type": "code",
   "execution_count": 1,
   "metadata": {},
   "outputs": [],
   "source": [
    "#!pip install xgboost\n",
    "#!pip install pyshp"
   ]
  },
  {
   "cell_type": "code",
   "execution_count": 2,
   "metadata": {},
   "outputs": [],
   "source": [
    "#import required Libraries\n",
    "from __future__ import division\n",
    "import pandas as pd\n",
    "import numpy as np\n",
    "import seaborn as sns; sns.set()\n",
    "import matplotlib.pyplot as plt\n",
    "import math\n",
    "from sklearn.preprocessing import StandardScaler\n",
    "\n",
    "from sklearn import metrics as mt\n",
    "from sklearn.pipeline import make_pipeline\n",
    "from sklearn.feature_selection import RFECV\n",
    "from sklearn.linear_model import LinearRegression\n",
    "from sklearn.model_selection import ShuffleSplit\n",
    "from sklearn.model_selection import train_test_split\n",
    "from sklearn.model_selection import GridSearchCV    \n",
    "from sklearn.model_selection import StratifiedKFold, StratifiedShuffleSplit\n",
    "from sklearn.model_selection import cross_validate\n",
    "\n",
    "from statsmodels.stats.outliers_influence import variance_inflation_factor as vif\n",
    "from yellowbrick.features import JointPlotVisualizer\n",
    "from scipy.stats import pearsonr\n",
    "from sklearn.metrics import explained_variance_score\n",
    "import xgboost\n",
    "#import shapefile as shp\n",
    "\n",
    "import warnings\n",
    "warnings.simplefilter('ignore', DeprecationWarning)\n",
    "\n",
    "%matplotlib inline\n"
   ]
  },
  {
   "cell_type": "code",
   "execution_count": 3,
   "metadata": {},
   "outputs": [
    {
     "name": "stdout",
     "output_type": "stream",
     "text": [
      "*********************************2017 ML Data*************************************\n",
      "<class 'pandas.core.frame.DataFrame'>\n",
      "RangeIndex: 2468 entries, 0 to 2467\n",
      "Columns: 396 entries, student_num to unit_code\n",
      "dtypes: float64(352), int64(44)\n",
      "memory usage: 7.5 MB\n"
     ]
    }
   ],
   "source": [
    "#The 'path' variable may also be a URL pointing to the proper raw file path on github: \n",
    "\n",
    "ML2017 = '../2017/Machine Learning Datasets/PublicSchools2017_ML.csv'\n",
    "# ML2016 = '../2016/Machine Learning Datasets/PublicSchools2016_ML.csv'\n",
    "# ML2015 =  '../2015/Machine Learning Datasets/PublicSchools2015_ML.csv'\n",
    "# ML2014 =  '../2014/Machine Learning Datasets/PublicSchools2014_ML.csv'\n",
    "\n",
    "schData2017=pd.read_csv(ML2017, low_memory=False)\n",
    "print('*********************************2017 ML Data*************************************')\n",
    "schData2017.info()\n",
    "# schData2016=pd.read_csv(ML2016, low_memory=False)\n",
    "# print('*********************************2016 ML Data*************************************')\n",
    "# schData2016.info()\n",
    "\n",
    "# schData2015=pd.read_csv(ML2015, low_memory=False)\n",
    "# print('*********************************2015 ML Data*************************************')\n",
    "# schData2015.info()\n",
    "\n",
    "# schData2014=pd.read_csv(ML2014, low_memory=False)\n",
    "# print('*********************************2014 ML Data*************************************')\n",
    "# schData2014.info()"
   ]
  },
  {
   "cell_type": "markdown",
   "metadata": {},
   "source": [
    "## Fix Year"
   ]
  },
  {
   "cell_type": "code",
   "execution_count": 4,
   "metadata": {},
   "outputs": [],
   "source": [
    "# schData2014[\"Year\"]=2014\n",
    "# schData2015[\"Year\"]=2015\n",
    "# schData2016[\"Year\"]=2016\n",
    "schData2017[\"Year\"]=2017"
   ]
  },
  {
   "cell_type": "code",
   "execution_count": 5,
   "metadata": {},
   "outputs": [],
   "source": [
    "# Combine the data sets\n",
    "#schData = pd.concat([schData2017,schData2016,schData2015,schData2014], axis=0, ignore_index=True, sort = True)\n",
    "schData = schData2017"
   ]
  },
  {
   "cell_type": "code",
   "execution_count": 6,
   "metadata": {},
   "outputs": [
    {
     "data": {
      "text/plain": [
       "count    2468.000000\n",
       "mean      586.091977\n",
       "std       150.067705\n",
       "min       278.000000\n",
       "25%       490.000000\n",
       "50%       490.000000\n",
       "75%       629.000000\n",
       "max       853.000000\n",
       "Name: st_avg_student_num, dtype: float64"
      ]
     },
     "execution_count": 6,
     "metadata": {},
     "output_type": "execute_result"
    }
   ],
   "source": [
    "schData['st_avg_student_num'].describe()\n",
    "# 'Number of farm returns All',\n",
    "# 'Number of farm returns 100KLT200K'\n",
    "# 'Number of farm returns LT25K',\n",
    "# 'Number of farm returns 25KLT50K',\n",
    "# 'Number of farm returns 50KLT75K',\n",
    "# 'Number of farm returns 75KLT100K',\n",
    "# 'Number of farm returns GE200K'"
   ]
  },
  {
   "cell_type": "markdown",
   "metadata": {},
   "source": [
    "### we are not remove the 0 1 year percentage for now."
   ]
  },
  {
   "cell_type": "code",
   "execution_count": 7,
   "metadata": {},
   "outputs": [
    {
     "name": "stdout",
     "output_type": "stream",
     "text": [
      "*********After: Removing rows with first year turn over percentage =0.00******\n",
      "<class 'pandas.core.frame.DataFrame'>\n",
      "Int64Index: 2325 entries, 1 to 2467\n",
      "Columns: 396 entries, student_num to unit_code\n",
      "dtypes: float64(351), int64(45)\n",
      "memory usage: 7.0 MB\n",
      "\r\n",
      "Rows Deleted:  143\n"
     ]
    }
   ],
   "source": [
    "zeroAttrition = schData[schData['_1yr_tchr_trnovr_pct']==0.0].index\n",
    "schData = schData.drop(zeroAttrition,axis=0)\n",
    "print('*********After: Removing rows with first year turn over percentage =0.00******')\n",
    "schData.info(verbose=False)\n",
    "print ('\\r\\nRows Deleted: ', len(zeroAttrition))"
   ]
  },
  {
   "cell_type": "markdown",
   "metadata": {},
   "source": [
    "## Visulization"
   ]
  },
  {
   "cell_type": "markdown",
   "metadata": {},
   "source": [
    "### Heat map"
   ]
  },
  {
   "cell_type": "code",
   "execution_count": 8,
   "metadata": {},
   "outputs": [],
   "source": [
    "# #Credit: https://towardsdatascience.com/mapping-geograph-data-in-python-610a963d2d7f\n",
    "# # https://catalog.data.gov/dataset/tiger-line-shapefile-2016-state-north-carolina-current-county-subdivision-state-based\n",
    "\n",
    "# # set seaborn style\n",
    "# sns.set(style=\"whitegrid\", palette=\"pastel\", color_codes=True)\n",
    "# sns.mpl.rc(\"figure\", figsize=(10,6))\n",
    "# # import the North Carolina Map\n",
    "# shp_path = \"./tl_2016_37_cousub/tl_2016_37_cousub.shp\"\n",
    "# sf = shp.Reader(shp_path)\n"
   ]
  },
  {
   "cell_type": "code",
   "execution_count": 9,
   "metadata": {},
   "outputs": [],
   "source": [
    "# def plot_map_fill_multiples_ids_tone(sf, title, county,  \n",
    "#                                      print_id, color_ton, \n",
    "#                                      bins, \n",
    "#                                      x_lim = None, \n",
    "#                                      y_lim = None, \n",
    "#                                      figsize = (11,9)):\n",
    "#     '''\n",
    "#     Plot map with lim coordinates\n",
    "#     '''\n",
    "        \n",
    "#     plt.figure(figsize = figsize)\n",
    "#     fig, ax = plt.subplots(figsize = figsize)\n",
    "#     fig.suptitle(title, fontsize=16)\n",
    "#     for shape in sf.shapeRecords():\n",
    "#         x = [i[0] for i in shape.shape.points[:]]\n",
    "#         y = [i[1] for i in shape.shape.points[:]]\n",
    "#         ax.plot(x, y, 'k')\n",
    "#         for id in mapdf.index:\n",
    "#             shape_ex = sf.shape(id)\n",
    "#             x_lon = np.zeros((len(shape_ex.points),1))\n",
    "#             y_lat = np.zeros((len(shape_ex.points),1))\n",
    "#             for ip in range(len(shape_ex.points)):\n",
    "#                 x_lon[ip] = shape_ex.points[ip][0]\n",
    "#                 y_lat[ip] = shape_ex.points[ip][1]\n",
    "#                 ax.fill(x_lon,y_lat, color_ton[4])\n",
    "#             if print_id != False:\n",
    "#                 x0 = np.mean(x_lon)\n",
    "#                 y0 = np.mean(y_lat)\n",
    "#                 plt.text(x0, y0, id, fontsize=10)\n",
    "#         if (x_lim != None) & (y_lim != None):     \n",
    "#                 plt.xlim(x_lim)\n",
    "#                 plt.ylim(y_lim)"
   ]
  },
  {
   "cell_type": "code",
   "execution_count": 10,
   "metadata": {},
   "outputs": [],
   "source": [
    "# # function to read shape file into panda data frame\n",
    "# def read_shapefile(sf):\n",
    "#     \"\"\"\n",
    "#     Read a shapefile into a Pandas dataframe with a 'coords' \n",
    "#     column holding the geometry information. This uses the pyshp\n",
    "#     package\n",
    "#     \"\"\"\n",
    "#     fields = [x[0] for x in sf.fields][1:]\n",
    "#     records = sf.records()\n",
    "#     shps = [s.points for s in sf.shapes()]\n",
    "#     df = pd.DataFrame(columns=fields, data=records)\n",
    "#     df = df.assign(coords=shps)\n",
    "#     return df\n"
   ]
  },
  {
   "cell_type": "code",
   "execution_count": 11,
   "metadata": {},
   "outputs": [],
   "source": [
    "# def plot_countys_data(sf, title, countys, data=None, \n",
    "#                       color=None, print_id=False):\n",
    "#     '''\n",
    "#     Plot map with selected comunes, using specific color\n",
    "#     '''\n",
    "    \n",
    "#     color_ton, bins = calc_color(data, color)\n",
    "#     #print(color_ton)\n",
    "#     mapdf = read_shapefile(sf)\n",
    "#     county_id = []\n",
    "#     for county in countys:\n",
    "#         #i = conv_comuna(i).upper()\n",
    "#         county_id.append(mapdf[mapdf.NAME ==county].index.get_values()[0])\n",
    "#     #print(county_id)\n",
    "#     plot_map_fill_multiples_ids_tone(sf, title, county_id, \n",
    "#                                      print_id, \n",
    "#                                      color_ton, \n",
    "#                                      bins, \n",
    "#                                      x_lim = None, \n",
    "#                                      y_lim = None, \n",
    "#                                      figsize = (60,25));"
   ]
  },
  {
   "cell_type": "code",
   "execution_count": 12,
   "metadata": {},
   "outputs": [],
   "source": [
    "# mapdf = read_shapefile(sf)\n",
    "# mapdf.to_csv('North Carolina Map.csv',sep=',', index=False)"
   ]
  },
  {
   "cell_type": "code",
   "execution_count": 13,
   "metadata": {},
   "outputs": [],
   "source": [
    "# teacher2017=pd.read_csv(\"2017_Teach_Attrition_Map.csv\", low_memory=False)\n",
    "# print('*********************************2017 Teacher Map Data*************************************')\n",
    "# teacher2017.info()"
   ]
  },
  {
   "cell_type": "code",
   "execution_count": 14,
   "metadata": {},
   "outputs": [],
   "source": [
    "\n",
    "# teacher2017= teacher2017[['County','FIPS_Code','_1yr_tchr_trnovr_pct']]\n",
    "# teacher2017['COUNTYFP'] =teacher2017['FIPS_Code'] .apply(lambda x: '{0:0>3}'.format(x))\n"
   ]
  },
  {
   "cell_type": "code",
   "execution_count": 15,
   "metadata": {},
   "outputs": [],
   "source": [
    "# #Merge accDrillDownFemale data\n",
    "# census_17 = mapdf.merge(teacher2017,how='left',on='COUNTYFP', suffixes=('', '_Drop'))\n",
    "\n",
    "# print('*********************************After: teacher2017 Data**********************')\n",
    "# census_17.info(verbose=False)"
   ]
  },
  {
   "cell_type": "code",
   "execution_count": 16,
   "metadata": {},
   "outputs": [],
   "source": [
    "# # function to calculate the colors on the map\n",
    "# def calc_color(data, color=None):\n",
    "#         if color   == 1: \n",
    "#             color_sq =['#dadaebFF','#bcbddcF0','#9e9ac8F0','#807dbaF0','#6a51a3F0','#54278fF0']; \n",
    "#             colors = 'Purples';\n",
    "#         elif color == 2: \n",
    "#             color_sq = ['#c7e9b4','#7fcdbb','#41b6c4','#1d91c0','#225ea8','#253494']; \n",
    "#             colors = 'YlGnBu';\n",
    "#         elif color == 3: \n",
    "#             color_sq = ['#f7f7f7','#d9d9d9','#bdbdbd','#969696','#636363','#252525']; \n",
    "#             colors = 'Greys';\n",
    "#         elif color == 9: \n",
    "#             color_sq = ['#ff0000','#ff0000','#ff0000','#ff0000','#ff0000','#ff0000']\n",
    "#         else:            \n",
    "#             color_sq = ['#ffffd4','#fee391','#fec44f','#fe9929','#d95f0e','#993404']; \n",
    "#             colors = 'YlOrBr';\n",
    "#         new_data, bins = pd.qcut(data, 6, retbins=True,labels=list(range(6)))\n",
    "#         color_ton = []\n",
    "#         for val in new_data:\n",
    "#             color_ton.append(color_sq[val]) \n",
    "#         if color != 9:\n",
    "#             colors = sns.color_palette(colors, n_colors=6)\n",
    "#             sns.palplot(colors, 0.6);\n",
    "#             for i in range(6):\n",
    "#                 print (\"\\n\"+str(i+1)+': '+str(int(bins[i]))+\n",
    "#                        \" => \"+str(int(bins[i+1])-1), end =\" \")\n",
    "#             print(\"\\n\\n   1   2   3   4   5   6\")    \n",
    "#         return color_ton, bins;"
   ]
  },
  {
   "cell_type": "code",
   "execution_count": 17,
   "metadata": {},
   "outputs": [],
   "source": [
    "# title = '1 Year Teacher Attrition Distrubution on North Carolina'\n",
    "# data = []#census_17[census_17['COUNTYFP']=='073']._1yr_tchr_trnovr_pct\n",
    "# names = census_17[census_17['COUNTYFP']=='073'].NAME\n"
   ]
  },
  {
   "cell_type": "code",
   "execution_count": 18,
   "metadata": {},
   "outputs": [],
   "source": [
    "#plot_countys_data(sf, title, names, data, 4, True)"
   ]
  },
  {
   "cell_type": "markdown",
   "metadata": {},
   "source": [
    "### Histogram"
   ]
  },
  {
   "cell_type": "code",
   "execution_count": 19,
   "metadata": {},
   "outputs": [],
   "source": [
    "# plt.figure(figsize=(13,10))\n",
    "# _1yr_tchr_trnovr_pct = schData[\"_1yr_tchr_trnovr_pct\"]\n",
    "# ax = sns.distplot(_1yr_tchr_trnovr_pct);\n",
    "# plt.title(\"Figure 1. North Carolina Public School First Year Teacher Turnover Percentage (2014-2017)\")\n",
    "# plt.show()"
   ]
  },
  {
   "cell_type": "code",
   "execution_count": 20,
   "metadata": {},
   "outputs": [],
   "source": [
    "# schData['lea_salary'] = schData['lea_total_expense_num']*schData['lea_salary_expense_pct']\n",
    "\n",
    "# plt.figure(figsize=(13,10))\n",
    "# lea_salary_expense_pct=schData.lea_salary_expense_pct\n",
    "# ax = sns.distplot(schData['lea_salary']);\n",
    "# plt.title(\"Figure 2. North Carolina Public School Lea Salary Expense (2014-2017)\")\n",
    "# plt.show()"
   ]
  },
  {
   "cell_type": "code",
   "execution_count": 21,
   "metadata": {},
   "outputs": [
    {
     "data": {
      "text/plain": [
       "count    2325.000000\n",
       "mean        0.143850\n",
       "std         0.081357\n",
       "min         0.005000\n",
       "25%         0.086000\n",
       "50%         0.129000\n",
       "75%         0.186000\n",
       "max         0.667000\n",
       "Name: _1yr_tchr_trnovr_pct, dtype: float64"
      ]
     },
     "execution_count": 21,
     "metadata": {},
     "output_type": "execute_result"
    }
   ],
   "source": [
    "# responseible variabl distribution\n",
    "schData['_1yr_tchr_trnovr_pct'].describe()"
   ]
  },
  {
   "cell_type": "markdown",
   "metadata": {},
   "source": [
    "## we may want to check the outliers"
   ]
  },
  {
   "cell_type": "code",
   "execution_count": 22,
   "metadata": {
    "scrolled": false
   },
   "outputs": [],
   "source": [
    "# #sns.set_style(\"darkgrid\")\n",
    "# data = schData\n",
    "# sns.lmplot(x=\"lea_salary\", y=\"_1yr_tchr_trnovr_pct\", hue = \"Year\",  data=data,height=8.27, aspect=11.7/8.27)\n",
    "# sns.despine()\n",
    "\n",
    "# #plt.title(\"Figure 3. North Carolina Public School One Year Teacher Attrition Rate vs. LEA Salary Expenditure (2014-2017)\")\n",
    "# plt.ylabel('1st Year Teacher Attrition Rate')\n",
    "# plt.xlabel('Lea Salary')\n",
    "# #plt.show()\n",
    "# plt.savefig('Figure1.png')"
   ]
  },
  {
   "cell_type": "code",
   "execution_count": 23,
   "metadata": {},
   "outputs": [],
   "source": [
    "# #sns.set_style(\"darkgrid\")\n",
    "# data = schData\n",
    "# sns.lmplot(x=\"Number of farm returns All\", y=\"_1yr_tchr_trnovr_pct\", hue=\"Year\",  data=data,height=8.27, aspect=11.7/8.27)\n",
    "# sns.despine()\n",
    "\n",
    "# #plt.title(\"Figure 3. North Carolina Public School One Year Teacher Attrition Rate vs. LEA Salary Expenditure (2014-2017)\")\n",
    "# plt.ylabel('1st Year Teacher Attrition Rate')\n",
    "# plt.xlabel('Number of farm returns All')\n",
    "# #plt.show()\n",
    "# plt.savefig('Figure1.png')\n"
   ]
  },
  {
   "cell_type": "code",
   "execution_count": 24,
   "metadata": {},
   "outputs": [],
   "source": [
    "# sns.lmplot(x=\"lea_total_expense_num\", y=\"_1yr_tchr_trnovr_pct\", hue=\"Year\", data=schData,height=8.27, aspect=11.7/8.27)\n",
    "# sns.despine()\n",
    "\n",
    "# #plt.title(\"Figure 4. North Coralina Public School One Year Teacher Attrition Rate vs. LEA Total School Expenditure (2014-2017)\")\n",
    "# plt.ylabel('1st Year Attrition Rate')\n",
    "# plt.xlabel('Lea Total Expense Num')\n",
    "# plt.savefig('Figure2.png')"
   ]
  },
  {
   "cell_type": "code",
   "execution_count": 25,
   "metadata": {},
   "outputs": [
    {
     "data": {
      "image/png": "[encoded data removed]",
      "text/plain": [
       "<Figure size 1008x576 with 1 Axes>"
      ]
     },
     "metadata": {
      "needs_background": "light"
     },
     "output_type": "display_data"
    }
   ],
   "source": [
    "plt.figure(figsize=(14, 8))\n",
    "ax = sns.boxplot(x=\"Year\", y=\"_1yr_tchr_trnovr_pct\", data=schData)\n",
    "ax = sns.swarmplot(x=\"Year\", y=\"_1yr_tchr_trnovr_pct\", data=schData, color=\".25\")\n",
    "plt.ylabel('1st Year Teacher Attrition Rate')\n",
    "plt.xlabel('Year')\n",
    "plt.savefig('Figure3.png')"
   ]
  },
  {
   "cell_type": "code",
   "execution_count": 26,
   "metadata": {},
   "outputs": [
    {
     "data": {
      "image/png": "[encoded data removed]",
      "text/plain": [
       "<Figure size 600x600 with 3 Axes>"
      ]
     },
     "metadata": {
      "needs_background": "light"
     },
     "output_type": "display_data"
    }
   ],
   "source": [
    "feature = \"st_avg_student_num\"\n",
    "target = \"_1yr_tchr_trnovr_pct\"\n",
    "\n",
    "# Get the X and y data from the DataFrame\n",
    "X_feature = schData[feature]\n",
    "y_feature = schData[target]\n",
    "\n",
    "\n",
    "\n",
    "visualizer = JointPlotVisualizer(feature=feature, target=target)\n",
    "\n",
    "visualizer.fit(X_feature, y_feature)\n",
    "visualizer.poof()\n"
   ]
  },
  {
   "cell_type": "code",
   "execution_count": 27,
   "metadata": {},
   "outputs": [],
   "source": [
    "#schData.info(verbose=True)"
   ]
  },
  {
   "cell_type": "markdown",
   "metadata": {},
   "source": [
    "## Feature Selection\n",
    "* set max features we want to select"
   ]
  },
  {
   "cell_type": "markdown",
   "metadata": {},
   "source": [
    "### Manually remove columns\n",
    "\n",
    "* there columns is not what we are interested in, so we remove them manaually from data set"
   ]
  },
  {
   "cell_type": "code",
   "execution_count": 28,
   "metadata": {},
   "outputs": [
    {
     "name": "stdout",
     "output_type": "stream",
     "text": [
      "*********After: Removing fetures we are not interested in ******\n",
      "<class 'pandas.core.frame.DataFrame'>\n",
      "Int64Index: 2325 entries, 1 to 2467\n",
      "Columns: 379 entries, student_num to unit_code\n",
      "dtypes: float64(334), int64(45)\n",
      "memory usage: 6.8 MB\n",
      "\r\n",
      "Features Deleted:  17\n"
     ]
    }
   ],
   "source": [
    "# manually remove the columns\n",
    "\n",
    "ManualDropFeatures = ['st_1yr_tchr_trnovr_pct','lea_1yr_tchr_trnovr_pct','PacificIslandPct','PacificIslandMalePct','PacificIslandFemalePct','HispanicPct'\n",
    "                      ,'BlackPct','AsianPct','IndianPct','WhitePct','TwoOrMorePct','TwoOrMoreMalePct','TwoOrMoreFemalePct'\n",
    "\n",
    "                      ,'lea_supplies_expense_pct'\n",
    "                      ,'lea_services_expense_pct','lea_salary_expense_pct','lea_total_expense_num'\n",
    "                      #,'lea_benefits_expense_pct'                    \n",
    "                     ]\n",
    "\n",
    "schData = schData.drop(ManualDropFeatures,axis=1)\n",
    "print('*********After: Removing fetures we are not interested in ******')\n",
    "schData.info(verbose=False)\n",
    "print ('\\r\\nFeatures Deleted: ', len(ManualDropFeatures))"
   ]
  },
  {
   "cell_type": "markdown",
   "metadata": {},
   "source": [
    "## These features have big number of the weight in feature selection, trying to remove them and see if it will be better"
   ]
  },
  {
   "cell_type": "code",
   "execution_count": 29,
   "metadata": {},
   "outputs": [],
   "source": [
    "# schData = schData.drop(['Number of farm returns All','Number of farm returns 100KLT200K',\n",
    "# 'Number of farm returns LT25K',\n",
    "# 'Number of farm returns 25KLT50K',\n",
    "# 'Number of farm returns 50KLT75K',\n",
    "# 'Number of farm returns 75KLT100K',\n",
    "# 'Number of farm returns GE200K'],axis=1)"
   ]
  },
  {
   "cell_type": "code",
   "execution_count": 30,
   "metadata": {},
   "outputs": [
    {
     "name": "stdout",
     "output_type": "stream",
     "text": [
      "<class 'pandas.core.frame.DataFrame'>\n",
      "Int64Index: 2325 entries, 1 to 2467\n",
      "Columns: 379 entries, student_num to unit_code\n",
      "dtypes: float64(334), int64(45)\n",
      "memory usage: 6.8 MB\n"
     ]
    }
   ],
   "source": [
    "# backup the data set\n",
    "schData_bak = schData\n",
    "schData.info()"
   ]
  },
  {
   "cell_type": "markdown",
   "metadata": {},
   "source": [
    "## random shuffle the data"
   ]
  },
  {
   "cell_type": "code",
   "execution_count": 31,
   "metadata": {},
   "outputs": [],
   "source": [
    "from sklearn.utils import shuffle\n",
    "schData = shuffle(schData)"
   ]
  },
  {
   "cell_type": "markdown",
   "metadata": {},
   "source": [
    "## Transformation"
   ]
  },
  {
   "cell_type": "code",
   "execution_count": 32,
   "metadata": {},
   "outputs": [],
   "source": [
    "# Get the X and y\n",
    "y= schData['_1yr_tchr_trnovr_pct']\n",
    "X = schData.drop(['_1yr_tchr_trnovr_pct'],axis=1)"
   ]
  },
  {
   "cell_type": "code",
   "execution_count": 33,
   "metadata": {},
   "outputs": [
    {
     "name": "stdout",
     "output_type": "stream",
     "text": [
      "<class 'pandas.core.frame.DataFrame'>\n",
      "Int64Index: 2325 entries, 1580 to 650\n",
      "Columns: 378 entries, student_num to unit_code\n",
      "dtypes: float64(333), int64(45)\n",
      "memory usage: 6.7 MB\n"
     ]
    }
   ],
   "source": [
    "X.info()"
   ]
  },
  {
   "cell_type": "code",
   "execution_count": 34,
   "metadata": {},
   "outputs": [
    {
     "name": "stderr",
     "output_type": "stream",
     "text": [
      "C:\\Users\\yubin\\Anaconda3\\envs\\tensorflow\\lib\\site-packages\\sklearn\\preprocessing\\data.py:645: DataConversionWarning: Data with input dtype int64, float64 were all converted to float64 by StandardScaler.\n",
      "  return self.partial_fit(X, y)\n",
      "C:\\Users\\yubin\\Anaconda3\\envs\\tensorflow\\lib\\site-packages\\sklearn\\base.py:464: DataConversionWarning: Data with input dtype int64, float64 were all converted to float64 by StandardScaler.\n",
      "  return self.fit(X, **fit_params).transform(X)\n"
     ]
    }
   ],
   "source": [
    "# Transform\n",
    "\n",
    "saved_cols = X.columns\n",
    "\n",
    "scaler = StandardScaler()\n",
    "X = scaler.fit_transform(X)\n",
    "#Save as data frames\n",
    "X = pd.DataFrame(X)\n",
    "X.columns = saved_cols\n"
   ]
  },
  {
   "cell_type": "code",
   "execution_count": 35,
   "metadata": {},
   "outputs": [],
   "source": [
    "# threthold for the feature selection\n",
    "max_features =200\n",
    "\n",
    "#schData = schData_bak"
   ]
  },
  {
   "cell_type": "markdown",
   "metadata": {},
   "source": [
    "## Pearson Correlation"
   ]
  },
  {
   "cell_type": "code",
   "execution_count": 36,
   "metadata": {},
   "outputs": [
    {
     "name": "stderr",
     "output_type": "stream",
     "text": [
      "C:\\Users\\yubin\\Anaconda3\\envs\\tensorflow\\lib\\site-packages\\numpy\\lib\\function_base.py:2400: RuntimeWarning: invalid value encountered in true_divide\n",
      "  c /= stddev[:, None]\n",
      "C:\\Users\\yubin\\Anaconda3\\envs\\tensorflow\\lib\\site-packages\\numpy\\lib\\function_base.py:2401: RuntimeWarning: invalid value encountered in true_divide\n",
      "  c /= stddev[None, :]\n"
     ]
    },
    {
     "name": "stdout",
     "output_type": "stream",
     "text": [
      "200 selected features\n",
      "                                                     0\n",
      "0                    Add child tax credit Amt 25KLT50K\n",
      "1                                   tchyrs_4thru10_pct\n",
      "2                                        category_cd_H\n",
      "3                  (TCE) prepared returns Ct 75KLT100K\n",
      "4                          EOGReadingGr5_CACR_Hispanic\n",
      "5                               SBE District_Northwest\n",
      "6                           Deductible points Ct LT25K\n",
      "7             Tuition and fees deduction Amt 75KLT100K\n",
      "8                           10+ Years_LEA_Exp_Pct_Prin\n",
      "9                              lea_long_susp_per_c_num\n",
      "10                                   EOGGr3_CACR_Black\n",
      "11                                   EOGGr5_CACR_Asian\n",
      "12   Domestic production activities deduction Ct 25...\n",
      "13   Partnership/S-corp net income (less loss) Amt ...\n",
      "14                               st_expelled_per_c_num\n",
      "15       Other non-limited misc deduction Amt 50KLT75K\n",
      "16               Investment interest paid Amt 25KLT50K\n",
      "17                                  st_avg_student_num\n",
      "18                            EOGReadingGr3-8_CACR_LEP\n",
      "19                            Crime_Rate_Burglary_Rate\n",
      "20                                 long_susp_per_c_num\n",
      "21                                   EOGGr5_CACR_Black\n",
      "22                                   EOGGr4_CACR_Black\n",
      "23                            MathGr3-8_pTarget_PctMet\n",
      "24                          EOGReadingGr3-8_CACR_Black\n",
      "25                          EOG/EOCSubjects_CACR_Black\n",
      "26                              SBE District_Northeast\n",
      "27                  Add child tax credit Amt 75KLT100K\n",
      "28                                   EOGGr4_CACR_Asian\n",
      "29                               Grad_project_status_Y\n",
      "..                                                 ...\n",
      "170                                    EOGGr4_CACR_All\n",
      "171                     Developing_TCHR_Standard 1_Pct\n",
      "172                                    EOGGr3_CACR_All\n",
      "173                         EOG/EOCSubjects_CACR_White\n",
      "174                              EOGMathGr3-8_CACR_EDS\n",
      "175                            EOGMathGr3-8_CACR_White\n",
      "176                                          nbpts_num\n",
      "177                                          SPG Score\n",
      "178                           lea_federal_perpupil_num\n",
      "179                     Proficient_TCHR_Standard 5_Pct\n",
      "180                           EOG/EOCSubjects_CACR_EDS\n",
      "181                              EOGMathGr3_CACR_White\n",
      "182                              lea_ap_pct_3_or_above\n",
      "183                     Proficient_TCHR_Standard 3_Pct\n",
      "184                   Accomplished_TCHR_Standard 5_Pct\n",
      "185                     Developing_TCHR_Standard 4_Pct\n",
      "186                   Accomplished_TCHR_Standard 3_Pct\n",
      "187                   Accomplished_TCHR_Standard 2_Pct\n",
      "188                     Proficient_TCHR_Standard 2_Pct\n",
      "189                           EOG/EOCSubjects_CACR_All\n",
      "190                     Proficient_TCHR_Standard 4_Pct\n",
      "191                   Accomplished_TCHR_Standard 1_Pct\n",
      "192                   Accomplished_TCHR_Standard 4_Pct\n",
      "193                     Proficient_TCHR_Standard 1_Pct\n",
      "194                              lea_tchyrs_0thru3_pct\n",
      "195                                  tchyrs_11plus_pct\n",
      "196                            lea_flicensed_teach_pct\n",
      "197                                  lateral_teach_pct\n",
      "198                                flicensed_teach_pct\n",
      "199                                  tchyrs_0thru3_pct\n",
      "\n",
      "[200 rows x 1 columns]\n"
     ]
    }
   ],
   "source": [
    "# Pearson Correlation\n",
    "feature_name = X.columns.tolist()\n",
    "def cor_selector(X, y):\n",
    "    cor_list = []\n",
    "    # calculate the correlation with y for each feature\n",
    "    for i in X.columns.tolist():\n",
    "        cor = np.corrcoef(X[i], y)[0, 1]\n",
    "        cor_list.append(cor)\n",
    "        # replace NaN with 0\n",
    "        cor_list = [0 if np.isnan(i) else i for i in cor_list]\n",
    "        # feature name\n",
    "        cor_feature = X.iloc[:,np.argsort(np.abs(cor_list))[-max_features:]].columns.tolist()\n",
    "        # feature selection? 0 for not select, 1 for select\n",
    "        cor_support = [True if i in cor_feature else False for i in feature_name]\n",
    "    return cor_support, cor_feature\n",
    "cor_support, cor_feature = cor_selector(X, y)\n",
    "print(str(len(cor_feature)), 'selected features')\n",
    "print(pd.DataFrame( cor_feature))"
   ]
  },
  {
   "cell_type": "markdown",
   "metadata": {},
   "source": [
    "## Linear Reggesion RFE"
   ]
  },
  {
   "cell_type": "code",
   "execution_count": 37,
   "metadata": {},
   "outputs": [
    {
     "name": "stdout",
     "output_type": "stream",
     "text": [
      "Fitting estimator with 378 features.\n",
      "Fitting estimator with 368 features.\n",
      "Fitting estimator with 358 features.\n",
      "Fitting estimator with 348 features.\n",
      "Fitting estimator with 338 features.\n",
      "Fitting estimator with 328 features.\n",
      "Fitting estimator with 318 features.\n",
      "Fitting estimator with 308 features.\n",
      "Fitting estimator with 298 features.\n",
      "Fitting estimator with 288 features.\n",
      "Fitting estimator with 278 features.\n",
      "Fitting estimator with 268 features.\n",
      "Fitting estimator with 258 features.\n",
      "Fitting estimator with 248 features.\n",
      "Fitting estimator with 238 features.\n",
      "Fitting estimator with 228 features.\n",
      "Fitting estimator with 218 features.\n",
      "Fitting estimator with 208 features.\n",
      "200 selected features\n",
      "                                                     0\n",
      "0                                          student_num\n",
      "1                                  lea_avg_student_num\n",
      "2                                   st_avg_student_num\n",
      "3                                              03_Size\n",
      "4                                              04_Size\n",
      "5                           lea_instruct_equip_exp_pct\n",
      "6                               lea_local_perpupil_num\n",
      "7                               lea_state_perpupil_num\n",
      "8                                            SPG Score\n",
      "9                                    Reading SPG Score\n",
      "10                                  EVAAS Growth Score\n",
      "11                                       Science Score\n",
      "12                                     NC Math 1 Score\n",
      "13                            EOG/EOCSubjects_CACR_All\n",
      "14                                     EOGGr3_CACR_All\n",
      "15                                     EOGGr4_CACR_All\n",
      "16                                EOCMathI_CACR_Female\n",
      "17                      EOGMathGr4_CACR_AmericanIndian\n",
      "18                   EOGReadingGr4_CACR_AmericanIndian\n",
      "19                              EOCSubjects_CACR_Asian\n",
      "20                          EOG/EOCSubjects_CACR_Asian\n",
      "21                              EOGSubjects_CACR_Asian\n",
      "22                                 EOCMathI_CACR_Black\n",
      "23                              EOCSubjects_CACR_Black\n",
      "24                                   EOGGr4_CACR_Black\n",
      "25                               EOGMathGr3_CACR_Black\n",
      "26                             EOGMathGr3-8_CACR_Black\n",
      "27                               EOGMathGr5_CACR_Black\n",
      "28                            EOGReadingGr3_CACR_Black\n",
      "29                            EOGReadingGr4_CACR_Black\n",
      "..                                                 ...\n",
      "170      Other non-limited misc deduction Ct 75KLT100K\n",
      "171          Other non-limited misc deduction Ct LT25K\n",
      "172  Partnership/S-corp net income (less loss) Amt ...\n",
      "173            Residential energy tax credit Amt LT25K\n",
      "174             Residential energy tax credit Ct LT25K\n",
      "175   Self-employed (Keogh) retirement plans Amt LT25K\n",
      "176    Self-employed (Keogh) retirement plans Ct LT25K\n",
      "177           Tuition and fees deduction Amt 75KLT100K\n",
      "178                                            LEACode\n",
      "179                       Attrtion_Reason_OtherReasons\n",
      "180                                      category_cd_E\n",
      "181                                      category_cd_H\n",
      "182                                      category_cd_I\n",
      "183                                      category_cd_M\n",
      "184  calendar_type_txt_Magnet School, Traditional C...\n",
      "185  calendar_type_txt_Magnet School, Year-Round Ca...\n",
      "186  calendar_type_txt_Regular School, Traditional ...\n",
      "187  calendar_type_txt_Regular School, Year-Round C...\n",
      "188                      school_type_txt_Magnet School\n",
      "189                     school_type_txt_Regular School\n",
      "190              calendar_only_txt_Year-Round Calendar\n",
      "191                                      esea_status_P\n",
      "192                             SBE District_Sandhills\n",
      "193                             SBE District_Southeast\n",
      "194                               SBE District_Western\n",
      "195                                        SPG Grade_B\n",
      "196                                        SPG Grade_C\n",
      "197                                        SPG Grade_I\n",
      "198                                   Math SPG Grade_F\n",
      "199                                          unit_code\n",
      "\n",
      "[200 rows x 1 columns]\n"
     ]
    }
   ],
   "source": [
    "from sklearn.feature_selection import RFE\n",
    "from sklearn.linear_model import LinearRegression\n",
    "rfe_selector = RFE(estimator=LinearRegression(), n_features_to_select=max_features, step=10, verbose=5)\n",
    "rfe_selector.fit(X, y)\n",
    "rfe_support = rfe_selector.get_support()\n",
    "rfe_feature = X.loc[:,rfe_support].columns.tolist()\n",
    "print(str(len(rfe_feature)), 'selected features')\n",
    "print(pd.DataFrame(rfe_feature))"
   ]
  },
  {
   "cell_type": "markdown",
   "metadata": {},
   "source": [
    "## Linear Regression"
   ]
  },
  {
   "cell_type": "code",
   "execution_count": 38,
   "metadata": {},
   "outputs": [
    {
     "ename": "NameError",
     "evalue": "name 'y_fs' is not defined",
     "output_type": "error",
     "traceback": [
      "\u001b[1;31m---------------------------------------------------------------------------\u001b[0m",
      "\u001b[1;31mNameError\u001b[0m                                 Traceback (most recent call last)",
      "\u001b[1;32m<ipython-input-38-ec29de3165c9>\u001b[0m in \u001b[0;36m<module>\u001b[1;34m\u001b[0m\n\u001b[0;32m      6\u001b[0m \u001b[1;33m\u001b[0m\u001b[0m\n\u001b[0;32m      7\u001b[0m \u001b[0mLinear_selector\u001b[0m \u001b[1;33m=\u001b[0m \u001b[0mSelectFromModel\u001b[0m\u001b[1;33m(\u001b[0m\u001b[0mLinear\u001b[0m\u001b[1;33m,\u001b[0m \u001b[0mthreshold\u001b[0m\u001b[1;33m=\u001b[0m\u001b[1;34m'1.25*median'\u001b[0m\u001b[1;33m,\u001b[0m \u001b[0mmax_features\u001b[0m\u001b[1;33m=\u001b[0m\u001b[0mmax_features\u001b[0m\u001b[1;33m)\u001b[0m\u001b[1;33m\u001b[0m\u001b[1;33m\u001b[0m\u001b[0m\n\u001b[1;32m----> 8\u001b[1;33m \u001b[0mLinear_selector\u001b[0m\u001b[1;33m.\u001b[0m\u001b[0mfit\u001b[0m\u001b[1;33m(\u001b[0m\u001b[0mX\u001b[0m\u001b[1;33m,\u001b[0m \u001b[0my_fs\u001b[0m\u001b[1;33m)\u001b[0m\u001b[1;33m\u001b[0m\u001b[1;33m\u001b[0m\u001b[0m\n\u001b[0m\u001b[0;32m      9\u001b[0m \u001b[0mLinear_support\u001b[0m \u001b[1;33m=\u001b[0m \u001b[0mLinear_selector\u001b[0m\u001b[1;33m.\u001b[0m\u001b[0mget_support\u001b[0m\u001b[1;33m(\u001b[0m\u001b[1;33m)\u001b[0m\u001b[1;33m\u001b[0m\u001b[1;33m\u001b[0m\u001b[0m\n\u001b[0;32m     10\u001b[0m \u001b[0mLinear_feature\u001b[0m \u001b[1;33m=\u001b[0m \u001b[0mX\u001b[0m\u001b[1;33m.\u001b[0m\u001b[0mloc\u001b[0m\u001b[1;33m[\u001b[0m\u001b[1;33m:\u001b[0m\u001b[1;33m,\u001b[0m\u001b[0mLinear_support\u001b[0m\u001b[1;33m]\u001b[0m\u001b[1;33m.\u001b[0m\u001b[0mcolumns\u001b[0m\u001b[1;33m.\u001b[0m\u001b[0mtolist\u001b[0m\u001b[1;33m(\u001b[0m\u001b[1;33m)\u001b[0m\u001b[1;33m\u001b[0m\u001b[1;33m\u001b[0m\u001b[0m\n",
      "\u001b[1;31mNameError\u001b[0m: name 'y_fs' is not defined"
     ]
    }
   ],
   "source": [
    "from sklearn.feature_selection import SelectFromModel\n",
    "from sklearn.svm import LinearSVC\n",
    "from sklearn.linear_model import LinearRegression\n",
    "\n",
    "Linear = LinearRegression()\n",
    "\n",
    "Linear_selector = SelectFromModel(Linear, threshold='1.25*median', max_features=max_features)\n",
    "Linear_selector.fit(X, y)\n",
    "Linear_support = Linear_selector.get_support()\n",
    "Linear_feature = X.loc[:,Linear_support].columns.tolist()\n",
    "print(str(len(Linear_feature)), 'selected features')\n",
    "print(pd.DataFrame(Linear_feature))"
   ]
  },
  {
   "cell_type": "markdown",
   "metadata": {},
   "source": [
    "## Lasso"
   ]
  },
  {
   "cell_type": "code",
   "execution_count": null,
   "metadata": {},
   "outputs": [],
   "source": [
    "\n",
    "from sklearn.feature_selection import SelectFromModel\n",
    "from sklearn.linear_model import LassoCV\n",
    "\n",
    "from sklearn.linear_model import Ridge\n",
    "\n",
    "LassoCV = LassoCV(cv = 10,tol=0.1)\n",
    "\n",
    "LassoCV_selector = SelectFromModel(LassoCV, threshold='1.25*median', max_features=max_features)\n",
    "LassoCV_selector.fit(X, y)\n",
    "LassoCV_support = LassoCV_selector.get_support()\n",
    "LassoCV_feature = X.loc[:,LassoCV_support].columns.tolist()\n",
    "print(str(len(LassoCV_feature)), 'selected features')\n",
    "print(pd.DataFrame(LassoCV_feature))"
   ]
  },
  {
   "cell_type": "markdown",
   "metadata": {},
   "source": [
    "## Ridge Regression"
   ]
  },
  {
   "cell_type": "code",
   "execution_count": null,
   "metadata": {},
   "outputs": [],
   "source": [
    "from sklearn.feature_selection import SelectFromModel\n",
    "from sklearn.linear_model import Ridge\n",
    "\n",
    "reg = Ridge()\n",
    "\n",
    "reg_selector = SelectFromModel(reg, threshold='1.25*median', max_features=max_features)\n",
    "reg_selector.fit(X, y)\n",
    "reg_support = reg_selector.get_support()\n",
    "reg_feature = X.loc[:,reg_support].columns.tolist()\n",
    "print(str(len(reg_feature)), 'selected features')\n",
    "print(pd.DataFrame(reg_feature))"
   ]
  },
  {
   "cell_type": "markdown",
   "metadata": {},
   "source": [
    "## Elastic Net Regression"
   ]
  },
  {
   "cell_type": "code",
   "execution_count": null,
   "metadata": {},
   "outputs": [],
   "source": [
    "from sklearn.linear_model import ElasticNet\n",
    "\n",
    "ELN = ElasticNet()\n",
    "\n",
    "ELN_selector = SelectFromModel(ELN, threshold='1.25*median', max_features=max_features)\n",
    "ELN_selector.fit(X, y)\n",
    "ELN_support = ELN_selector.get_support()\n",
    "ELN_feature = X.loc[:,ELN_support].columns.tolist()\n",
    "print(str(len(ELN_feature)), 'selected features')\n",
    "print(pd.DataFrame(ELN_feature))\n"
   ]
  },
  {
   "cell_type": "code",
   "execution_count": null,
   "metadata": {},
   "outputs": [],
   "source": [
    "## Summary\n",
    "pd.set_option('display.max_rows', None)\n",
    "# put all selection together\n",
    "feature_selection_df = pd.DataFrame({'Feature':feature_name\n",
    "                                     , 'Pearson':cor_support\n",
    "                                     , 'Linear Regression':Linear_support\n",
    "                                     , 'RFE':rfe_support\n",
    "                                     , 'Lasso':LassoCV_support\n",
    "                                     ,'Ridge':reg_support\n",
    "                                     , 'Elastic Net':ELN_support\n",
    "                                     \n",
    "                                    })\n",
    "# count the selected times for each feature\n",
    "feature_selection_df['Total'] = np.sum(feature_selection_df, axis=1)\n",
    "# display the top 100\n",
    "feature_selection_df = feature_selection_df.sort_values(['Total','Feature'] ,\n",
    "ascending=False)\n",
    "feature_selection_df.index = range(1, len(feature_selection_df)+1)\n",
    "feature_selection_df"
   ]
  },
  {
   "cell_type": "code",
   "execution_count": null,
   "metadata": {},
   "outputs": [],
   "source": [
    "# export feature selection to csv file\n",
    "feature_selection_df.to_csv('Feature_Selection_Results_2017.csv', sep=',', index=False)"
   ]
  },
  {
   "cell_type": "code",
   "execution_count": null,
   "metadata": {},
   "outputs": [],
   "source": [
    "feature_to_remove = feature_selection_df[feature_selection_df['Total']<3]['Feature']\n",
    "X = X.drop(feature_to_remove, axis=1)\n",
    "\n",
    "#feature_to_remove\n",
    "print ('\\r\\nFeatures Deleted: ', len(feature_to_remove))"
   ]
  },
  {
   "cell_type": "code",
   "execution_count": null,
   "metadata": {},
   "outputs": [],
   "source": [
    "X.info()"
   ]
  },
  {
   "cell_type": "markdown",
   "metadata": {},
   "source": [
    "## RFE Feature Importance"
   ]
  },
  {
   "cell_type": "code",
   "execution_count": null,
   "metadata": {},
   "outputs": [],
   "source": [
    "# %%time\n",
    "\n",
    "# df2_vif = pd.DataFrame()\n",
    "# df2_vif[\"VIF Factor\"] = [vif(X.values, i) for i in range(X.shape[1])]\n",
    "# df2_vif[\"ABSVIFFactor\"] = abs(df2_vif[\"VIF Factor\"])\n",
    "# df2_vif[\"features\"] = X.columns\n",
    "# df2_vif[\"indexes\"] = range(0, len(X.columns))"
   ]
  },
  {
   "cell_type": "code",
   "execution_count": null,
   "metadata": {},
   "outputs": [],
   "source": [
    "# df2_vif = df2_vif.sort_values('ABSVIFFactor', ascending=True)\n",
    "# df2_vif.to_csv('VIF_Result_ML.csv', sep=',', index=False)"
   ]
  },
  {
   "cell_type": "code",
   "execution_count": null,
   "metadata": {},
   "outputs": [],
   "source": [
    "\n",
    "#Create Cross Validation Object with 10 folds with 80/20 train - test split\n",
    "cv = ShuffleSplit(n_splits = 10, test_size=0.20, random_state=0)"
   ]
  },
  {
   "cell_type": "code",
   "execution_count": null,
   "metadata": {},
   "outputs": [],
   "source": [
    "#Use mean absolute error (MAE) to score the regression models created \n",
    "#(the scale of MAE is identical to the response variable)\n",
    "from sklearn.metrics import mean_absolute_error, make_scorer, mean_squared_error, r2_score \n",
    "#from sklearn.metrics import mean_absolute_error, make_scorer, mean_squared_error, r2_scorer \n",
    "\n",
    "#Function for Root mean squared error\n",
    "#https://stackoverflow.com/questions/17197492/root-mean-square-error-in-python\n",
    "def rmse(y_actual, y_predicted):\n",
    "    return np.sqrt(mean_squared_error(y_actual, y_predicted))\n",
    "\n",
    "#Function for Mean Absolute Percentage Error (MAPE) - Untested\n",
    "#Adapted from - https://stackoverflow.com/questions/42250958/how-to-optimize-mape-code-in-python\n",
    "# revised from - https://stats.stackexchange.com/questions/58391/mean-absolute-percentage-error-mape-in-scikit-learn\n",
    "# still not working\n",
    "def mape(y_actual, y_predicted): \n",
    "    mask = y_actual != 0           \n",
    "    return (np.fabs(y_actual - y_predicted)/y_actual)[mask].mean() * 100\n",
    "# Credit: https://alex.miller.im/posts/linear-model-custom-loss-function-regularization-python/\n",
    "def mean_absolute_percentage_error(y_true, y_pred, sample_weights=None):\n",
    "    y_true = np.array(y_true)\n",
    "    y_pred = np.array(y_pred)\n",
    "    assert len(y_true) == len(y_pred)\n",
    "    \n",
    "    if np.any(y_true==0):\n",
    "        print(\"Found zeroes in y_true. MAPE undefined. Removing from set...\")\n",
    "        idx = np.where(y_true==0)\n",
    "        y_true = np.delete(y_true, idx)\n",
    "        y_pred = np.delete(y_pred, idx)\n",
    "        if type(sample_weights) != type(None):\n",
    "            sample_weights = np.array(sample_weights)\n",
    "            sample_weights = np.delete(sample_weights, idx)\n",
    "        \n",
    "    if type(sample_weights) == type(None):\n",
    "        return(np.mean(np.abs((y_true - y_pred) / y_true)))\n",
    "    else:\n",
    "        sample_weights = np.array(sample_weights)\n",
    "        assert len(sample_weights) == len(y_true)\n",
    "        return(100/sum(sample_weights)*np.dot(\n",
    "                sample_weights, (np.abs((y_true - y_pred) / y_true))\n",
    "        ))\n",
    "    \n",
    "#Create scorers for rmse and mape functions\n",
    "mae_scorer = make_scorer(score_func=mean_absolute_error, greater_is_better=False)\n",
    "mse_scorer = make_scorer(score_func=mean_squared_error, greater_is_better=False)\n",
    "rmse_scorer = make_scorer(score_func=rmse, greater_is_better=False)\n",
    "#mape_scorer = make_scorer(score_func=mape, greater_is_better=False)\n",
    "r2_scorer = make_scorer(score_func=r2_score, greater_is_better=True) \n",
    "\n",
    "#Make scorer array to pass into cross_validate() function for producing mutiple scores for each cv fold.\n",
    "errorScoring = {'MAE':  mae_scorer, \n",
    "                'MSE':  mse_scorer, \n",
    "                'RMSE': rmse_scorer,\n",
    "                #'MAPE': mape_scorer,\n",
    "                'R2': r2_scorer       \n",
    "               } "
   ]
  },
  {
   "cell_type": "code",
   "execution_count": null,
   "metadata": {},
   "outputs": [],
   "source": [
    "from sklearn.model_selection import cross_validate\n",
    "\n",
    "def EvaluateRegressionEstimator(regEstimator, X, y, cv):\n",
    "    \n",
    "    scores = cross_validate(regEstimator, X, y, scoring=errorScoring, cv=cv, return_train_score=True)\n",
    "\n",
    "    #cross val score sign-flips the outputs of MAE\n",
    "    # https://github.com/scikit-learn/scikit-learn/issues/2439\n",
    "    scores['test_MAE'] = scores['test_MAE'] * -1\n",
    "    scores['test_MSE'] = scores['test_MSE'] * -1\n",
    "    #scores['test_MAPE'] = scores['test_MAPE'] * -1\n",
    "    scores['test_RMSE'] = scores['test_RMSE'] * -1\n",
    "\n",
    "    #print mean MAE for all folds \n",
    "    maeAvg = scores['test_MAE'].mean()\n",
    "    print_str = \"The average MAE for all cv folds is: \\t\\t\\t {maeAvg:.5}\"\n",
    "    print(print_str.format(maeAvg=maeAvg))\n",
    "\n",
    "     #print mean MAE for all folds \n",
    "    mseAvg = scores['test_MSE'].mean()\n",
    "    print_str = \"The average MSE for all cv folds is: \\t\\t\\t {mseAvg:.5}\"\n",
    "    print(print_str.format(mseAvg=mseAvg))\n",
    "    \n",
    "    #print mean test_MAPE for all folds\n",
    "#     scores['test_MAPE'] = scores['test_MAPE']\n",
    "#     mape_avg = scores['test_MAPE'].mean()\n",
    "#     print_str = \"The average MAE percentage (MAPE) for all cv folds is: \\t {mape_avg:.5}\"\n",
    "#     print(print_str.format(mape_avg=mape_avg))\n",
    "\n",
    "    #print mean MAE for all folds \n",
    "    RMSEavg = scores['test_RMSE'].mean()\n",
    "    print_str = \"The average RMSE for all cv folds is: \\t\\t\\t {RMSEavg:.5}\"\n",
    "    print(print_str.format(RMSEavg=RMSEavg))\n",
    "    print('*********************************************************')\n",
    "    \n",
    "    #print mean R-squared for all folds \n",
    "    R2avg = scores['test_R2'].mean()\n",
    "    print_str = \"The average R-Squared for all cv folds is: \\t\\t {R2avg:.5}\"\n",
    "    print(print_str.format(R2avg=R2avg))\n",
    "    print('*********************************************************')\n",
    "\n",
    "\n",
    "    print('Cross Validation Fold Mean Error Scores')\n",
    "    scoresResults = pd.DataFrame()\n",
    "    scoresResults['MAE'] = scores['test_MAE']\n",
    "    scoresResults['MSE'] = scores['test_MSE']\n",
    "   # scoresResults['MAPE'] = scores['test_MAPE']\n",
    "    scoresResults['RMSE'] = scores['test_RMSE']\n",
    "    scoresResults['R2'] = scores['test_R2']\n",
    "    return scoresResults\n"
   ]
  },
  {
   "cell_type": "code",
   "execution_count": null,
   "metadata": {},
   "outputs": [],
   "source": [
    "%%time\n",
    "\n",
    "\n",
    "print(\"RFE CV Linear Regression 1st Pass\")\n",
    "rfecvEstimator = LinearRegression()\n",
    "\n",
    "parameters = { 'fit_intercept':[True,False], 'normalize':[True,False], 'copy_X':[True, False]\n",
    "             }\n",
    "\n",
    "#Create a grid search object  \n",
    "#from sklearn.model_selection import GridSearchCV\n",
    "rfecvGridSearch = GridSearchCV(estimator=rfecvEstimator\n",
    "                   , n_jobs=8 # jobs to run in parallel\n",
    "                  , verbose=0 # low verbosity\n",
    "                   , param_grid=parameters\n",
    "                   , cv=cv # KFolds = 10\n",
    "                   )\n",
    "\n",
    "#Perform hyperparameter search to find the best combination of parameters for our data using RFECV\n",
    "rfecvGridSearch.fit(X, y)\n",
    "\n",
    "#Use the best parameters for our RFECV Linear Regression object\n",
    "rfecvLinearEst = rfecvGridSearch.best_estimator_\n",
    "\n",
    "#Recursive Feature Elimination\n",
    "rfecv = RFECV(estimator=rfecvLinearEst, step=1, cv=cv,  verbose=1)\n",
    "X_BestFeatures = rfecv.fit_transform(X, y)\n",
    "\n",
    "#Print RFECV Details\n",
    "print(\"Ranking\", rfecv.ranking_)\n",
    "print(\"Support\", rfecv.support_)\n",
    "print(\"Number of Features:\", rfecv.n_features_)\n",
    "\n",
    "print(\"Linear Regression Second Pass\")\n",
    "#create a pipeline to scale all of the data and perform logistic regression during each grid search step.\n",
    "pipe = make_pipeline(StandardScaler(), LinearRegression())\n",
    "\n",
    "#Define a range of hyper parameters for grid search\n",
    "parameters = { 'linearregression__fit_intercept':[True,False], 'linearregression__normalize':[True,False]\n",
    "              , 'linearregression__copy_X':[True, False]\n",
    "              , 'linearregression__n_jobs':[None]\n",
    "             }\n",
    "\n",
    "#Perform the grid search using accuracy as a metric during cross validation.\n",
    "grid = GridSearchCV(estimator=pipe, param_grid=parameters, cv=cv)\n",
    "\n",
    "#Use the best features from recursive feature elimination during the grid search\n",
    "grid.fit(X, y)\n"
   ]
  },
  {
   "cell_type": "code",
   "execution_count": null,
   "metadata": {},
   "outputs": [],
   "source": [
    "#Print the parameterization of the best estimator\n",
    "regEstimator = grid.best_estimator_\n",
    "\n",
    "RFE_Results = EvaluateRegressionEstimator(regEstimator, X_BestFeatures, y, cv)"
   ]
  },
  {
   "cell_type": "code",
   "execution_count": null,
   "metadata": {},
   "outputs": [],
   "source": [
    "#Load the model's coefficient weights and feature names into a dataframe sorted by weights\n",
    "weights = regEstimator.named_steps['linearregression'].coef_.ravel()#[rfecv.get_support(indices=True)]\n",
    "feature_names = X.columns#.values[rfecv.get_support(indices=True)]\n",
    "#print(weights)"
   ]
  },
  {
   "cell_type": "code",
   "execution_count": null,
   "metadata": {},
   "outputs": [],
   "source": [
    "#Load the model's coefficient weights and feature names into a dataframe sorted by weights\n",
    "#weights = grid.best_estimator_.named_steps['linearregression'].coef_.ravel()\n",
    "#feature_names = X.columns#.values[rfecv.get_support(indices=True)]\n",
    "\n",
    "linreg_ft_imp_df = pd.DataFrame({'feature_names':feature_names, 'weights':weights,\n",
    "                                 'absolute_weights': np.abs(weights)})\n",
    "linreg_ft_imp_df.sort_values(by='absolute_weights', inplace=True, ascending=False )\n",
    "\n",
    "#Print out all the missing value rows\n",
    "pd.set_option('display.max_rows', 1000)\n",
    "\n",
    "#linreg_ft_imp_df = linreg_ft_imp_df[linreg_ft_imp_df.feature_names != 'SchoolYear']\n",
    "\n",
    "model_features = len(linreg_ft_imp_df.index)\n",
    "print('Total Model Features: ' + str(model_features))\n",
    "\n",
    "#Print all of the features selected by the model \n",
    "linreg_ft_imp_df\n"
   ]
  },
  {
   "cell_type": "code",
   "execution_count": null,
   "metadata": {},
   "outputs": [],
   "source": [
    "#Get the top 75 coefficients\n",
    "wt_plt_df = linreg_ft_imp_df.head(50)\n",
    "\n",
    "model_features = len(wt_plt_df.index)\n",
    "print('Total Model Features: ' + str(model_features))\n",
    "\n",
    "# Examine categorical variables of interest  \n",
    "# import matplotlib.pyplot as plt\n",
    "# %matplotlib inline\n",
    "\n",
    "#Plot the model's feature importances\n",
    "# REFERENCE:  Eric Larson, https://github.com/eclarson/DataMiningNotebooks\n",
    "plt.style.use('ggplot')\n",
    "\n",
    "weights = pd.Series(wt_plt_df['weights'].values,index=wt_plt_df['feature_names'])\n",
    "ax = weights.plot(kind='bar', figsize=(20,8))\n",
    "\n",
    "ax.set_title(\"Top Feature Correlations\")\n",
    "ax.set_ylabel(\"Coefficient Magnitude\\n(z-score)\")\n",
    "ax.set_xlabel(\"Feature Names\")\n",
    "plt.show()"
   ]
  },
  {
   "cell_type": "code",
   "execution_count": null,
   "metadata": {},
   "outputs": [],
   "source": [
    "# export feature selection to csv file\n",
    "linreg_ft_imp_df.to_csv('RFE_Feature_Importance_Results_2017.csv', sep=',', index=False)"
   ]
  },
  {
   "cell_type": "code",
   "execution_count": null,
   "metadata": {},
   "outputs": [],
   "source": [
    "linreg_ft_imp_df50 = linreg_ft_imp_df.head(50)\n",
    "linreg_ft_imp_df50.columns"
   ]
  },
  {
   "cell_type": "code",
   "execution_count": null,
   "metadata": {},
   "outputs": [],
   "source": [
    "from yellowbrick.target import FeatureCorrelation\n",
    "\n",
    "# Load the regression data set\n",
    "\n",
    "feature_names = np.array(linreg_ft_imp_df50.feature_names)\n",
    "\n",
    "X_feature = X[linreg_ft_imp_df50.feature_names]\n",
    "\n",
    "fig = plt.figure(figsize=(14, 20))\n",
    "ax = fig.add_subplot()\n",
    "\n",
    "visualizer = FeatureCorrelation(labels=feature_names,sort=True)\n",
    "visualizer.fit(X_feature, y)\n",
    "visualizer.poof()"
   ]
  },
  {
   "cell_type": "markdown",
   "metadata": {},
   "source": [
    "## Cross Validation\n",
    "**Cross validation is performed using repeated holdout using ShuffleSplit()**\n",
    "* Ten folds are used\n",
    "* The split is: 90% training data and 10% test data\n",
    "* A random seed is set so the same random test and training splits are used each time cross validation is performed."
   ]
  },
  {
   "cell_type": "code",
   "execution_count": null,
   "metadata": {},
   "outputs": [],
   "source": [
    "#Divide data into test and training splits\n",
    "from sklearn.model_selection import ShuffleSplit\n",
    "cv = ShuffleSplit(n_splits=10, test_size=0.20, random_state=0)\n",
    "\n",
    "X_train, X_test, y_train, y_test = train_test_split(X, y, test_size=0.2,random_state =1 )"
   ]
  },
  {
   "cell_type": "markdown",
   "metadata": {},
   "source": [
    "## Custom Scorers for Evaluating Regression Models \n",
    "\n",
    "**All regression models created in this notebook are validated using the following metrics:**\n",
    "* Mean Absolute Error (MAE)\n",
    "* Root Mean Squared Error (RMSE) - https://stackoverflow.com/questions/17197492/root-mean-square-error-in-python\n",
    "* Mean Absolute Percentage Error (MAPE) - https://stackoverflow.com/questions/42250958/how-to-optimize-mape-code-in-python\n",
    "\n",
    "**For details on making scorers to return multiple mean error scores see:**\n",
    "* http://scikit-learn.org/stable/auto_examples/model_selection/plot_multi_metric_evaluation.html\n",
    "* https://github.com/scikit-learn/scikit-learn/pull/7388\n",
    "* https://github.com/drorata/multiscorer"
   ]
  },
  {
   "cell_type": "code",
   "execution_count": null,
   "metadata": {},
   "outputs": [],
   "source": [
    "# it may not make sense to use MAPE in our project based on below articles:\n",
    "# http://www.catchbull.com/catchblogs/why-mape-doesnt-work\n"
   ]
  },
  {
   "cell_type": "markdown",
   "metadata": {},
   "source": [
    "## Regression Model Evaluation\n",
    "** All regression models are evaluated using the regression model evaluation function below: ** \n",
    "* The following regression evaluation function uses the cross validation object and the custom scorers in the two cells above in combination with sklearn.model_selection's cross_validate function to perform cross validation for regression estimators.\n",
    "* The cross validation object above uses a random seed to ensure that all regression estimators are tested on the same randomly selected records for each cross validation fold.\n",
    "* Custom scorers are created using the three chosen mean error scores and passed into cross_validate(), so all three scores are calcualted using a single call to cross_validate().\n",
    "* All of this functionality is wrapped within the custom EvaluateRegressionEstimator() function below so multiple regression models may be tested using the same test / train cv data and evaluation scores producing a consistent output for each model without the need to re-write the same code over and over. "
   ]
  },
  {
   "cell_type": "markdown",
   "metadata": {},
   "source": [
    "## Baseline Regression Model\n",
    "\n",
    "**Linear Regression is used to create a baseline model.  Since linear regression may predict response variable values outside the range of the training data's response variable, we create a linear regression estimator with graduation rate predictions clipped 0% and 100%. For details see:**\n",
    "* http://scikit-learn.org/stable/developers/contributing.html#rolling-your-own-estimator \n",
    "* https://github.com/scikit-learn/scikit-learn/issues/6950\n",
    "* http://scikit-learn.org/stable/modules/generated/sklearn.linear_model.LinearRegression.html\n",
    "* https://github.com/scikit-learn-contrib/project-template/blob/master/skltemplate/template.py\n",
    "* https://stackoverflow.com/questions/44234682/how-to-use-sklearn-when-target-variable-is-a-proportion"
   ]
  },
  {
   "cell_type": "code",
   "execution_count": null,
   "metadata": {},
   "outputs": [],
   "source": [
    "#Make new estimator compatible for use with GridSearchCV() and cross_validate()\n",
    "# -  Cap predict function for LinearRegression between 0 and 100\n",
    "# -  See: Roll your own estimator links above for details. \n",
    "from sklearn.base import BaseEstimator, RegressorMixin\n",
    "from sklearn.linear_model import LinearRegression\n",
    "\n",
    "class CappedLinearRegression(LinearRegression):\n",
    "\n",
    "    def predict(self, X):\n",
    "        return np.clip(super(CappedLinearRegression, self).predict(X), 0, 100) "
   ]
  },
  {
   "cell_type": "markdown",
   "metadata": {},
   "source": [
    "### Linear Regression Grid Search\n",
    "** Here we perform a grid search testing 40 models to find the best parameters for our Linear Regression model based on Mean Absolute Error.  See more on parameter tuning with grid search here:**\n",
    "* http://scikit-learn.org/stable/modules/grid_search.html"
   ]
  },
  {
   "cell_type": "code",
   "execution_count": null,
   "metadata": {},
   "outputs": [],
   "source": [
    "#Create a Linear Regression object and perform a grid search to find the best parameters\n",
    "linreg = CappedLinearRegression()\n",
    "parameters = {'normalize':(True,False), 'fit_intercept':(True,False),'normalize': (True, False),}\n",
    "\n",
    "#Create a grid search object using the  \n",
    "linregGridSearch = GridSearchCV(estimator=linreg\n",
    "                   , verbose=1 # low verbosity\n",
    "                   , param_grid=parameters\n",
    "                   , cv=cv # KFolds = 10\n",
    "                   , scoring=mae_scorer)\n",
    "\n",
    "#linregGridSearch hyperparameter search to find the best combination of parameters for our data\n",
    "linregGridSearch.fit(X, y)"
   ]
  },
  {
   "cell_type": "code",
   "execution_count": null,
   "metadata": {},
   "outputs": [],
   "source": [
    "#Print the parameterization of the best estimator\n",
    "linregEstimator = linregGridSearch.best_estimator_\n",
    "#Evaluate the regression estimator above using our pre-defined cross validation and scoring metrics. \n",
    "CappedLinear_Results = EvaluateRegressionEstimator(linregEstimator, X, y, cv)"
   ]
  },
  {
   "cell_type": "code",
   "execution_count": null,
   "metadata": {},
   "outputs": [],
   "source": [
    "linregEstimator = linregGridSearch.best_estimator_\n",
    "\n",
    "linregEstimator.fit(X_train, y_train)\n",
    "linregyhat = linregEstimator.predict(X_test)\n",
    "print(\"Yhat Max: \", linregyhat.max())\n",
    "print(explained_variance_score(y_test,linregyhat, multioutput='uniform_average'))"
   ]
  },
  {
   "cell_type": "markdown",
   "metadata": {
    "collapsed": true
   },
   "source": [
    "## Support Vector Regression\n",
    "**This model uses Support Vector Machines for regression of continuous variables (SVR). Please see documentation here:\"**\n",
    "* http://scikit-learn.org/stable/modules/generated/sklearn.svm.SVR.html\n",
    "* http://scikit-learn.org/stable/modules/svm.html"
   ]
  },
  {
   "cell_type": "code",
   "execution_count": null,
   "metadata": {},
   "outputs": [],
   "source": [
    "#Create a Linear regression object and perform a grid search to find the best parameters\n",
    "from sklearn.svm import SVR\n",
    "svr = SVR()\n",
    "\n",
    "#Set up SVR parameters to test (WARNING: Creates 320 models!!!) \n",
    "costs = [0.001, 0.1]\n",
    "defGamma = 1 / X.shape[1]  #This is the default value for the gamma parameter\n",
    "gammas = [defGamma, 0.1]\n",
    "kernels = ['rbf','linear']\n",
    "parameters = {'C': costs, 'gamma' : gammas, 'kernel': kernels}\n",
    "\n",
    "#Create a grid search object using the parameters above\n",
    "#from sklearn.model_selection import GridSearchCV\n",
    "svrGridSearch = GridSearchCV(estimator=svr\n",
    "                   , n_jobs=8 # jobs to run in parallel\n",
    "                   , verbose=1 # low verbosity\n",
    "                   , param_grid=parameters\n",
    "                   , cv=cv # KFolds = 10\n",
    "                   , scoring=mae_scorer)\n",
    "\n",
    "#Perform hyperparameter search to find the best combination of parameters for our data\n",
    "svrGridSearch.fit(X, y)"
   ]
  },
  {
   "cell_type": "code",
   "execution_count": null,
   "metadata": {},
   "outputs": [],
   "source": [
    "#Display the best estimator parameters\n",
    "svrGridSearch.best_estimator_"
   ]
  },
  {
   "cell_type": "code",
   "execution_count": null,
   "metadata": {},
   "outputs": [],
   "source": [
    "# from sklearn.svm import SVR\n",
    "\n",
    "#Create a regression estimator with best parameters for cross validation\n",
    "# regEstimator = SVR(C=0.001, cache_size=200, coef0=0.0, degree=3, epsilon=0.1,\n",
    "#                    kernel='rbf', max_iter=-1, shrinking=True, tol=0.001, verbose=False)\n",
    "svrEstimator = svrGridSearch.best_estimator_\n",
    "\n",
    "#Evaluate the regression estimator above using our pre-defined cross validation and scoring metrics.\n",
    "SVR_Results=EvaluateRegressionEstimator(svrEstimator, X, y, cv)"
   ]
  },
  {
   "cell_type": "code",
   "execution_count": null,
   "metadata": {},
   "outputs": [],
   "source": [
    "#Do we predict graduation rates greater than 100%?\n",
    "# regEstimator = SVR(C=0.001, cache_size=200, coef0=0.0, degree=3, epsilon=0.1,\n",
    "#                    kernel='rbf', max_iter=-1, shrinking=True, tol=0.001, verbose=False)\n",
    "\n",
    "svrEstimator.fit(X_train, y_train)\n",
    "svr_yhat = svrEstimator.predict(X_test)\n",
    "print(\"Yhat Max: \", svr_yhat.max())\n",
    "print(explained_variance_score(y_test,svr_yhat, multioutput='uniform_average'))"
   ]
  },
  {
   "cell_type": "markdown",
   "metadata": {},
   "source": [
    "## Teacher Attrition Rate - Lasso Regression\n",
    "**This model uses Lasso regression (L1 Norm). Please see documentation here:\"**\n",
    "* **Caution!** - See documentation for fit_intercept, normalize, and copy_X. Lasso can over-write your X data!\n",
    "* Lasso may also perform scaling as well.  Please see docs!\n",
    "* http://scikit-learn.org/stable/modules/generated/sklearn.linear_model.Lasso.html"
   ]
  },
  {
   "cell_type": "code",
   "execution_count": null,
   "metadata": {},
   "outputs": [],
   "source": [
    "#Create a regression object and perform a grid search to find the best parameters\n",
    "from sklearn.linear_model import Lasso\n",
    "\n",
    "lasso = Lasso()\n",
    "\n",
    "#Test parameters \n",
    "alpha = [0.001, 0.1, 1, 10, 20]\n",
    "selection = ['cyclic','random']\n",
    "warm_start = [True, False]\n",
    "parameters = {'alpha': alpha, 'selection': selection, 'warm_start': warm_start}\n",
    "\n",
    "#Create a grid search object using the parameters above\n",
    "lassoGridSearch = GridSearchCV(estimator=lasso\n",
    "                   , n_jobs=8 # jobs to run in parallel\n",
    "                   , verbose=1 # low verbosity\n",
    "                   , param_grid=parameters\n",
    "                   , cv=cv # KFolds = 10\n",
    "                   , scoring=mae_scorer)\n",
    "\n",
    "#Perform hyperparameter search to find the best combination of parameters for our data\n",
    "lassoGridSearch.fit(X, y)"
   ]
  },
  {
   "cell_type": "code",
   "execution_count": null,
   "metadata": {},
   "outputs": [],
   "source": [
    "#Display the best estimator parameters\n",
    "lassoGridSearch.best_estimator_"
   ]
  },
  {
   "cell_type": "code",
   "execution_count": null,
   "metadata": {},
   "outputs": [],
   "source": [
    "#Create a regression estimator with best parameters for cross validation\n",
    "lassoEstimator =lassoGridSearch.best_estimator_\n",
    "\n",
    "#Evaluate the regression estimator above using our pre-defined cross validation and scoring metrics.\n",
    "Lasso_Results = EvaluateRegressionEstimator(lassoEstimator, X, y, cv)"
   ]
  },
  {
   "cell_type": "code",
   "execution_count": null,
   "metadata": {},
   "outputs": [],
   "source": [
    "#Do we predict graduation rates greater than 100%?\n",
    "# regEstimator = Lasso(alpha=0.001, copy_X=True, fit_intercept=True, max_iter=10000,\n",
    "#    normalize=True, positive=False, precompute=True, random_state=0,\n",
    "#    selection='cyclic', tol=0.0001, warm_start=True)\n",
    "lassoEstimator = lassoGridSearch.best_estimator_\n",
    "\n",
    "lassoEstimator.fit(X_train, y_train)\n",
    "Lasso_yhat = lassoEstimator.predict(X_test)\n",
    "print(\"Yhat Max: \", Lasso_yhat.max())\n",
    "print(explained_variance_score(y_test,Lasso_yhat, multioutput='uniform_average'))"
   ]
  },
  {
   "cell_type": "markdown",
   "metadata": {},
   "source": [
    "## Ridge Regression\n",
    "**This model uses Ridge regression (L2 Norm). Please see documentation here:\"**\n",
    "* http://scikit-learn.org/stable/modules/generated/sklearn.linear_model.Ridge.html"
   ]
  },
  {
   "cell_type": "code",
   "execution_count": null,
   "metadata": {},
   "outputs": [],
   "source": [
    "#Create a regression object and perform a grid search to find the best parameters\n",
    "from sklearn.linear_model import Ridge\n",
    "\n",
    "ridge = Ridge(fit_intercept=True, normalize=True,copy_X=True\n",
    "          , max_iter=10000, tol=0.0001, random_state=0)\n",
    "\n",
    "#Test parameters \n",
    "alpha = [0.001, 0.1, 1, 5, 10, 20]\n",
    "solver = [ 'svd', 'cholesky', 'lsqr', 'sparse_cg', 'sag', 'saga']\n",
    "parameters = {'alpha': alpha, 'solver': solver}\n",
    "\n",
    "#Create a grid search object using the parameters above\n",
    "#from sklearn.model_selection import GridSearchCV\n",
    "ridgeGridSearch = GridSearchCV(estimator=ridge\n",
    "                   , n_jobs=10 # jobs to run in parallel\n",
    "                   , verbose=1 # low verbosity\n",
    "                   , param_grid=parameters\n",
    "                   , cv=cv # KFolds = 10\n",
    "                   , scoring=mae_scorer)\n",
    "\n",
    "#Perform hyperparameter search to find the best combination of parameters for our data\n",
    "ridgeGridSearch.fit(X, y)"
   ]
  },
  {
   "cell_type": "code",
   "execution_count": null,
   "metadata": {},
   "outputs": [],
   "source": [
    "#Display the best estimator parameters\n",
    "ridgeGridSearch.best_estimator_"
   ]
  },
  {
   "cell_type": "code",
   "execution_count": null,
   "metadata": {},
   "outputs": [],
   "source": [
    "%%time\n",
    "#Create a regression estimator with best parameters for cross validation\n",
    "ridgeEstimator = ridgeGridSearch.best_estimator_\n",
    "\n",
    "#Evaluate the regression estimator above using our pre-defined cross validation and scoring metrics.\n",
    "Ridge_Results = EvaluateRegressionEstimator(ridgeEstimator, X, y, cv)"
   ]
  },
  {
   "cell_type": "code",
   "execution_count": null,
   "metadata": {},
   "outputs": [],
   "source": [
    "#Do we predict graduation rates greater than 100%?\n",
    "# regEstimator = Ridge(alpha=0.1, copy_X=True, fit_intercept=True, max_iter=10000,\n",
    "#    normalize=True, random_state=0, solver='saga', tol=0.0001)\n",
    "ridgeEstimator = ridgeGridSearch.best_estimator_\n",
    "\n",
    "ridgeEstimator.fit(X_train, y_train)\n",
    "ridge_yhat = ridgeEstimator.predict(X_test)\n",
    "print(\"Yhat Max: \", ridge_yhat.max())\n",
    "print(explained_variance_score(y_test,ridge_yhat))"
   ]
  },
  {
   "cell_type": "markdown",
   "metadata": {},
   "source": [
    "## Elastic Net Regression\n",
    "**This model uses Elastic Net Regression (L1 and L2 Norm mixing). Please see documentation here:\"**\n",
    "* http://scikit-learn.org/stable/modules/generated/sklearn.linear_model.ElasticNet.html"
   ]
  },
  {
   "cell_type": "code",
   "execution_count": null,
   "metadata": {},
   "outputs": [],
   "source": [
    "#Create a regression object and perform a grid search to find the best parameters\n",
    "from sklearn.linear_model import ElasticNet\n",
    "\n",
    "elasticNet = ElasticNet(fit_intercept=True, normalize=True, precompute=True, copy_X=True\n",
    "          , max_iter=10000, tol=0.0001, random_state=0)\n",
    " \n",
    "#Test parameters\n",
    "l1_ratio = [0.001, 0.01, 0.1, 0.5, 0.75, 1]\n",
    "alpha = [0.001, 0.1, 1, 10]\n",
    "selection = ['cyclic','random']\n",
    "warm_start = [True, False]\n",
    "parameters = {'l1_ratio': l1_ratio, 'alpha': alpha, 'selection': selection, 'warm_start': warm_start}\n",
    "\n",
    "#Create a grid search object using the parameters above\n",
    "from sklearn.model_selection import GridSearchCV\n",
    "elasticNetGridSearch = GridSearchCV(estimator=elasticNet\n",
    "                   , n_jobs=8 # jobs to run in parallel\n",
    "                   , verbose=1 # low verbosity\n",
    "                   , param_grid=parameters\n",
    "                   , cv=cv # KFolds = 10\n",
    "                   , scoring=mae_scorer)\n",
    "\n",
    "#Perform hyperparameter search to find the best combination of parameters for our data\n",
    "elasticNetGridSearch.fit(X, y)"
   ]
  },
  {
   "cell_type": "code",
   "execution_count": null,
   "metadata": {},
   "outputs": [],
   "source": [
    "#Display the best estimator parameters\n",
    "elasticNetGridSearch.best_estimator_"
   ]
  },
  {
   "cell_type": "code",
   "execution_count": null,
   "metadata": {},
   "outputs": [],
   "source": [
    "#Create a regression estimator with best parameters for cross validation\n",
    "elasticNetEstimator = elasticNetGridSearch.best_estimator_\n",
    "\n",
    "#Evaluate the regression estimator above using our pre-defined cross validation and scoring metrics.\n",
    "elastic_Results = EvaluateRegressionEstimator(elasticNetEstimator, X, y, cv)"
   ]
  },
  {
   "cell_type": "code",
   "execution_count": null,
   "metadata": {},
   "outputs": [],
   "source": [
    "#Do we predict graduation rates greater than 100%?\n",
    "elasticNetEstimator =  elasticNetGridSearch.best_estimator_\n",
    "\n",
    "elasticNetEstimator.fit(X_train, y_train)\n",
    "elasticNet_yhat = elasticNetEstimator.predict(X_test)\n",
    "print(\"Yhat Max: \", elasticNet_yhat.max())\n",
    "print(explained_variance_score(y_test,elasticNet_yhat, multioutput='uniform_average'))"
   ]
  },
  {
   "cell_type": "markdown",
   "metadata": {},
   "source": [
    "## XGBoost"
   ]
  },
  {
   "cell_type": "code",
   "execution_count": null,
   "metadata": {},
   "outputs": [],
   "source": [
    "# credit: https://www.kaggle.com/mburakergenc/predictions-with-xgboost-and-linear-regression\n",
    "#credit: https://www.kaggle.com/stuarthallows/using-xgboost-with-scikit-learn\n",
    "# https://www.kaggle.com/jayatou/xgbregressor-with-gridsearchcv\n",
    "# Various hyper-parameters to tune\n",
    "import xgboost as xgb\n",
    "from xgboost.sklearn import XGBRegressor\n",
    "\n",
    "xgb1 = XGBRegressor()\n",
    "parameters = {'nthread':[4], #when use hyperthread, xgboost may become slower\n",
    "              'objective':['reg:linear'],\n",
    "              'learning_rate': [.03, 0.05, .07], #so called `eta` value\n",
    "              'max_depth': [5, 6, 7],\n",
    "              'min_child_weight': [4],\n",
    "              'silent': [1],\n",
    "              'subsample': [0.7],\n",
    "              'colsample_bytree': [0.7],\n",
    "              'n_estimators': [500]}\n",
    "\n",
    "xgbGridSearch = GridSearchCV(xgb1,\n",
    "                        parameters,\n",
    "                        cv = 2,\n",
    "                        n_jobs = 5,\n",
    "                        verbose=True)\n",
    "\n",
    "xgbGridSearch.fit(X_train,\n",
    "         y_train)\n"
   ]
  },
  {
   "cell_type": "code",
   "execution_count": null,
   "metadata": {},
   "outputs": [],
   "source": [
    "#Display the best estimator parameters\n",
    "xgbGridSearch.best_estimator_"
   ]
  },
  {
   "cell_type": "code",
   "execution_count": null,
   "metadata": {},
   "outputs": [],
   "source": [
    "#Create a regression estimator with best parameters for cross validation\n",
    "xgbEstimator = xgbGridSearch.best_estimator_\n",
    "\n",
    "#Evaluate the regression estimator above using our pre-defined cross validation and scoring metrics.\n",
    "xgb_Results = EvaluateRegressionEstimator(xgbEstimator, X, y, cv)"
   ]
  },
  {
   "cell_type": "code",
   "execution_count": null,
   "metadata": {},
   "outputs": [],
   "source": [
    "#Do we predict graduation rates greater than 100%?\n",
    "xgbEstimator =  elasticNetGridSearch.best_estimator_\n",
    "\n",
    "xgbEstimator.fit(X_train, y_train)\n",
    "xgb_yhat = xgbEstimator.predict(X_test)\n",
    "print(\"Yhat Max: \", xgb_yhat.max())\n",
    "print(explained_variance_score(y_test,xgb_yhat, multioutput='uniform_average'))"
   ]
  },
  {
   "cell_type": "markdown",
   "metadata": {},
   "source": [
    "## Residuals Plot"
   ]
  },
  {
   "cell_type": "code",
   "execution_count": null,
   "metadata": {},
   "outputs": [],
   "source": [
    "from sklearn.linear_model import Ridge\n",
    "from yellowbrick.regressor import ResidualsPlot\n",
    "\n",
    "# Instantiate the linear model and visualizer\n",
    "\n",
    "fig = plt.figure(figsize=(14, 8))\n",
    "ax = fig.add_subplot()\n",
    "\n",
    "ridge = Ridge()\n",
    "visualizer = ResidualsPlot(ridge)\n",
    "\n",
    "visualizer.fit(X_train, y_train)  # Fit the training data to the model\n",
    "visualizer.score(X_test, y_test)  # Evaluate the model on the test data\n",
    "visualizer.poof()                 # Draw/show/poof the data"
   ]
  },
  {
   "cell_type": "code",
   "execution_count": null,
   "metadata": {},
   "outputs": [],
   "source": [
    "\n",
    "\n",
    "from yellowbrick.regressor import PredictionError\n",
    "\n",
    "# Instantiate the linear model and visualizer\n",
    "\n",
    "fig = plt.figure(figsize=(14, 14))\n",
    "ax = fig.add_subplot()\n",
    "\n",
    "\n",
    "visualizer = PredictionError(ridge)\n",
    "\n",
    "visualizer.fit(X_train, y_train)  # Fit the training data to the visualizer\n",
    "visualizer.score(X_test, y_test)  # Evaluate the model on the test data\n",
    "g = visualizer.poof()     "
   ]
  },
  {
   "cell_type": "code",
   "execution_count": null,
   "metadata": {},
   "outputs": [],
   "source": []
  }
 ],
 "metadata": {
  "kernelspec": {
   "display_name": "Python 3",
   "language": "python",
   "name": "python3"
  },
  "language_info": {
   "codemirror_mode": {
    "name": "ipython",
    "version": 3
   },
   "file_extension": ".py",
   "mimetype": "text/x-python",
   "name": "python",
   "nbconvert_exporter": "python",
   "pygments_lexer": "ipython3",
   "version": "3.7.1"
  }
 },
 "nbformat": 4,
 "nbformat_minor": 1
}
