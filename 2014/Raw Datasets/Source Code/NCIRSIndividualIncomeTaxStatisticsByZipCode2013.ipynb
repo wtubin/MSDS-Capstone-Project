{
 "cells": [
  {
   "cell_type": "markdown",
   "metadata": {},
   "source": [
    "# North Carolina IRS Individual Income Tax Statistics by Zip Code 2013"
   ]
  },
  {
   "cell_type": "code",
   "execution_count": 6,
   "metadata": {},
   "outputs": [],
   "source": [
    "#import required Libraries\n",
    "import pandas as pd\n",
    "import numpy as np\n",
    "import urllib\n",
    "\n",
    "#**********************************************************************************\n",
    "# Set the following variables before running this code!!!\n",
    "#**********************************************************************************\n",
    "\n",
    "#Location where copies of the raw data files will be downloaded and saved as csv files.\n",
    "dataDir = 'C:/Users/yubin/OneDrive/MyWork/SMU/MSDS6120/TeacherRetentionofNC/2014/Raw Datasets/'\n",
    "\n",
    "#All raw data files are filtered for the year below\n",
    "taxYear = 2013"
   ]
  },
  {
   "cell_type": "code",
   "execution_count": 5,
   "metadata": {},
   "outputs": [
    {
     "ename": "AttributeError",
     "evalue": "module 'urllib' has no attribute 'FancyURLopener'",
     "output_type": "error",
     "traceback": [
      "\u001b[1;31m---------------------------------------------------------------------------\u001b[0m",
      "\u001b[1;31mAttributeError\u001b[0m                            Traceback (most recent call last)",
      "\u001b[1;32m<ipython-input-5-4dade2864942>\u001b[0m in \u001b[0;36m<module>\u001b[1;34m()\u001b[0m\n\u001b[0;32m      1\u001b[0m \u001b[1;31m#Download and save an original copy of the raw data\u001b[0m\u001b[1;33m\u001b[0m\u001b[1;33m\u001b[0m\u001b[0m\n\u001b[0;32m      2\u001b[0m \u001b[1;31m#North Carolina - SOI Tax Stats - Individual Income Tax Statistics - 2016 ZIP Code Data (SOI)\u001b[0m\u001b[1;33m\u001b[0m\u001b[1;33m\u001b[0m\u001b[0m\n\u001b[1;32m----> 3\u001b[1;33m \u001b[0murlFile\u001b[0m \u001b[1;33m=\u001b[0m \u001b[0murllib\u001b[0m\u001b[1;33m.\u001b[0m\u001b[0mFancyURLopener\u001b[0m\u001b[1;33m(\u001b[0m\u001b[1;33m)\u001b[0m\u001b[1;33m\u001b[0m\u001b[0m\n\u001b[0m\u001b[0;32m      4\u001b[0m \u001b[0murl\u001b[0m\u001b[1;33m=\u001b[0m\u001b[1;34m\"https://www.irs.gov/pub/irs-soi/13zp34nc.xls\"\u001b[0m\u001b[1;33m\u001b[0m\u001b[0m\n\u001b[0;32m      5\u001b[0m \u001b[0murlFile\u001b[0m\u001b[1;33m.\u001b[0m\u001b[0mretrieve\u001b[0m\u001b[1;33m(\u001b[0m\u001b[0murl\u001b[0m\u001b[1;33m,\u001b[0m \u001b[0mdataDir\u001b[0m \u001b[1;33m+\u001b[0m \u001b[1;34m'13zp34nc.xls'\u001b[0m\u001b[1;33m)\u001b[0m\u001b[1;33m\u001b[0m\u001b[0m\n",
      "\u001b[1;31mAttributeError\u001b[0m: module 'urllib' has no attribute 'FancyURLopener'"
     ]
    }
   ],
   "source": [
    "#Download and save an original copy of the raw data \n",
    "#North Carolina - SOI Tax Stats - Individual Income Tax Statistics - 2016 ZIP Code Data (SOI)\n",
    "#urlFile = urllib.FancyURLopener()\n",
    "#url=\"https://www.irs.gov/pub/irs-soi/13zp34nc.xls\"\n",
    "#urlFile.retrieve(url, dataDir + '13zp34nc.xls')\n",
    "#urlFile.to_csv(dataDir + 'IRSIncomeTax.csv', sep=',', index=False)\n",
    "\n",
    "url=\"http://www.ncpublicschools.org/docs/src/researchers/profile.xlsx\"\n",
    "profile = pd.read_excel(url, dtype={'unit_code': object})\n",
    "profile = profile[profile.year == schoolYear]\n",
    "profile.to_csv(dataDir + 'profile.csv', sep=',', index=False) \n"
   ]
  },
  {
   "cell_type": "code",
   "execution_count": null,
   "metadata": {},
   "outputs": [],
   "source": []
  }
 ],
 "metadata": {
  "kernelspec": {
   "display_name": "Python 3",
   "language": "python",
   "name": "python3"
  },
  "language_info": {
   "codemirror_mode": {
    "name": "ipython",
    "version": 3
   },
   "file_extension": ".py",
   "mimetype": "text/x-python",
   "name": "python",
   "nbconvert_exporter": "python",
   "pygments_lexer": "ipython3",
   "version": "3.6.5"
  }
 },
 "nbformat": 4,
 "nbformat_minor": 2
}
