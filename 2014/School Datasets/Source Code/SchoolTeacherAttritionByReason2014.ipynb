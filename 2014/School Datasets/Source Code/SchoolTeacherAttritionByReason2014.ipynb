{
 "cells": [
  {
   "cell_type": "markdown",
   "metadata": {},
   "source": [
    "# NC Teacher Attrition Data 2014-2015\n",
    "* This program downloads all original teacher attrition rate by reason datasets from http://www.ncpublicschools.org/docs/district-humanresources/surveys/leaving/ and saves them as .csv files. These data files are used to create all the flattened and machine learning datasets\n",
    "    * The data is allocated on the appendix of the yearly NC state teaching profession report PDF file page 23 to page 27. \n",
    "    * Each page has one table, the program loops though each page and extract the data to a list\n",
    "    * Some LEA names are too long which will expand to multiple rows, I fixed them to original name as well.\n",
    "    * The final result will be saved into an csv file into RawDataset folder."
   ]
  },
  {
   "cell_type": "code",
   "execution_count": 1,
   "metadata": {},
   "outputs": [],
   "source": [
    "import PyPDF2\n",
    "import requests \n",
    "from tabula import read_pdf\n",
    "import tabula\n",
    "import pandas as pd\n",
    "import urllib\n",
    "import warnings\n",
    "warnings.simplefilter('ignore')\n",
    "warnings.simplefilter('ignore', DeprecationWarning)\n",
    "pd.set_option('mode.chained_assignment', None)\n"
   ]
  },
  {
   "cell_type": "code",
   "execution_count": 2,
   "metadata": {},
   "outputs": [],
   "source": [
    "PDFfilename = \"2014-15turnoverreport.pdf\"\n",
    "\n",
    "url = 'http://www.ncpublicschools.org/docs/district-humanresources/surveys/leaving/' + PDFfilename\n",
    "r = requests.get(url)\n",
    "# downlaod the file\n",
    "with open(PDFfilename, 'wb') as f:  \n",
    "    f.write(r.content)\n",
    "\n",
    "pfr = PyPDF2.PdfFileReader(open(PDFfilename,\"rb\"))\n",
    "NewPDFfilename = \"TeacherAttrition_ByReasonsCategories\"\n",
    "\n",
    "files = [] \n",
    "for i in range(23,27):\n",
    "    pg = pfr.getPage(i-1)\n",
    "    writer = PyPDF2.PdfFileWriter() \n",
    "    writer.addPage(pg)\n",
    "    PDF = NewPDFfilename + \"_\"+str(i) +\".pdf\"\n",
    "    files.append(PDF)\n",
    "    with open(PDF,\"wb\") as outputStream:\n",
    "        writer.write(outputStream)\n"
   ]
  },
  {
   "cell_type": "code",
   "execution_count": 3,
   "metadata": {},
   "outputs": [
    {
     "ename": "ValueError",
     "evalue": "Length mismatch: Expected axis has 53 elements, new values have 14 elements",
     "output_type": "error",
     "traceback": [
      "\u001b[1;31m---------------------------------------------------------------------------\u001b[0m",
      "\u001b[1;31mValueError\u001b[0m                                Traceback (most recent call last)",
      "\u001b[1;32m<ipython-input-3-a9aa7a22a9b9>\u001b[0m in \u001b[0;36m<module>\u001b[1;34m()\u001b[0m\n\u001b[0;32m     11\u001b[0m df_combine.columns = ['LEACode', 'LEAName', 'TotalTeachers', 'TeachersLeaving','RemainedinEducation','RemainedinEducationPerct', 'PersonalReasons'\n\u001b[0;32m     12\u001b[0m                             \u001b[1;33m,\u001b[0m\u001b[1;34m'PersonalPerct'\u001b[0m\u001b[1;33m,\u001b[0m\u001b[1;34m'InitiatedbyLEA'\u001b[0m\u001b[1;33m,\u001b[0m\u001b[1;34m'InitiatedPerct'\u001b[0m\u001b[1;33m,\u001b[0m\u001b[1;34m'BeyondControlofLEA'\u001b[0m\u001b[1;33m,\u001b[0m\u001b[1;34m'BeyondControlPerct'\u001b[0m\u001b[1;33m\u001b[0m\u001b[0m\n\u001b[1;32m---> 13\u001b[1;33m                            ,'OtherReasons','OtherReasonsPerct']\n\u001b[0m\u001b[0;32m     14\u001b[0m \u001b[1;31m# Remove header\u001b[0m\u001b[1;33m\u001b[0m\u001b[1;33m\u001b[0m\u001b[0m\n\u001b[0;32m     15\u001b[0m \u001b[1;33m\u001b[0m\u001b[0m\n",
      "\u001b[1;32m~\\Anaconda3\\lib\\site-packages\\pandas\\core\\generic.py\u001b[0m in \u001b[0;36m__setattr__\u001b[1;34m(self, name, value)\u001b[0m\n\u001b[0;32m   5078\u001b[0m         \u001b[1;32mtry\u001b[0m\u001b[1;33m:\u001b[0m\u001b[1;33m\u001b[0m\u001b[0m\n\u001b[0;32m   5079\u001b[0m             \u001b[0mobject\u001b[0m\u001b[1;33m.\u001b[0m\u001b[0m__getattribute__\u001b[0m\u001b[1;33m(\u001b[0m\u001b[0mself\u001b[0m\u001b[1;33m,\u001b[0m \u001b[0mname\u001b[0m\u001b[1;33m)\u001b[0m\u001b[1;33m\u001b[0m\u001b[0m\n\u001b[1;32m-> 5080\u001b[1;33m             \u001b[1;32mreturn\u001b[0m \u001b[0mobject\u001b[0m\u001b[1;33m.\u001b[0m\u001b[0m__setattr__\u001b[0m\u001b[1;33m(\u001b[0m\u001b[0mself\u001b[0m\u001b[1;33m,\u001b[0m \u001b[0mname\u001b[0m\u001b[1;33m,\u001b[0m \u001b[0mvalue\u001b[0m\u001b[1;33m)\u001b[0m\u001b[1;33m\u001b[0m\u001b[0m\n\u001b[0m\u001b[0;32m   5081\u001b[0m         \u001b[1;32mexcept\u001b[0m \u001b[0mAttributeError\u001b[0m\u001b[1;33m:\u001b[0m\u001b[1;33m\u001b[0m\u001b[0m\n\u001b[0;32m   5082\u001b[0m             \u001b[1;32mpass\u001b[0m\u001b[1;33m\u001b[0m\u001b[0m\n",
      "\u001b[1;32mpandas\\_libs\\properties.pyx\u001b[0m in \u001b[0;36mpandas._libs.properties.AxisProperty.__set__\u001b[1;34m()\u001b[0m\n",
      "\u001b[1;32m~\\Anaconda3\\lib\\site-packages\\pandas\\core\\generic.py\u001b[0m in \u001b[0;36m_set_axis\u001b[1;34m(self, axis, labels)\u001b[0m\n\u001b[0;32m    636\u001b[0m \u001b[1;33m\u001b[0m\u001b[0m\n\u001b[0;32m    637\u001b[0m     \u001b[1;32mdef\u001b[0m \u001b[0m_set_axis\u001b[0m\u001b[1;33m(\u001b[0m\u001b[0mself\u001b[0m\u001b[1;33m,\u001b[0m \u001b[0maxis\u001b[0m\u001b[1;33m,\u001b[0m \u001b[0mlabels\u001b[0m\u001b[1;33m)\u001b[0m\u001b[1;33m:\u001b[0m\u001b[1;33m\u001b[0m\u001b[0m\n\u001b[1;32m--> 638\u001b[1;33m         \u001b[0mself\u001b[0m\u001b[1;33m.\u001b[0m\u001b[0m_data\u001b[0m\u001b[1;33m.\u001b[0m\u001b[0mset_axis\u001b[0m\u001b[1;33m(\u001b[0m\u001b[0maxis\u001b[0m\u001b[1;33m,\u001b[0m \u001b[0mlabels\u001b[0m\u001b[1;33m)\u001b[0m\u001b[1;33m\u001b[0m\u001b[0m\n\u001b[0m\u001b[0;32m    639\u001b[0m         \u001b[0mself\u001b[0m\u001b[1;33m.\u001b[0m\u001b[0m_clear_item_cache\u001b[0m\u001b[1;33m(\u001b[0m\u001b[1;33m)\u001b[0m\u001b[1;33m\u001b[0m\u001b[0m\n\u001b[0;32m    640\u001b[0m \u001b[1;33m\u001b[0m\u001b[0m\n",
      "\u001b[1;32m~\\Anaconda3\\lib\\site-packages\\pandas\\core\\internals\\managers.py\u001b[0m in \u001b[0;36mset_axis\u001b[1;34m(self, axis, new_labels)\u001b[0m\n\u001b[0;32m    153\u001b[0m             raise ValueError(\n\u001b[0;32m    154\u001b[0m                 \u001b[1;34m'Length mismatch: Expected axis has {old} elements, new '\u001b[0m\u001b[1;33m\u001b[0m\u001b[0m\n\u001b[1;32m--> 155\u001b[1;33m                 'values have {new} elements'.format(old=old_len, new=new_len))\n\u001b[0m\u001b[0;32m    156\u001b[0m \u001b[1;33m\u001b[0m\u001b[0m\n\u001b[0;32m    157\u001b[0m         \u001b[0mself\u001b[0m\u001b[1;33m.\u001b[0m\u001b[0maxes\u001b[0m\u001b[1;33m[\u001b[0m\u001b[0maxis\u001b[0m\u001b[1;33m]\u001b[0m \u001b[1;33m=\u001b[0m \u001b[0mnew_labels\u001b[0m\u001b[1;33m\u001b[0m\u001b[0m\n",
      "\u001b[1;31mValueError\u001b[0m: Length mismatch: Expected axis has 53 elements, new values have 14 elements"
     ]
    }
   ],
   "source": [
    "# read pdf multiple files into one data frame\n",
    "df=pd.DataFrame([])\n",
    "df_combine=pd.DataFrame([])\n",
    "for file in files:\n",
    "            df = tabula.read_pdf(file,multiple_tables=False)\n",
    "            #If you want to change the table by editing the columns you can do that here.\n",
    "            #print(df)\n",
    "            df_combine=pd.concat([df,df_combine],axis=0,sort=False) #again you can choose between merge or concat as per your need\n",
    "\n",
    "            \n",
    "df_combine.columns = ['LEACode', 'LEAName', 'TotalTeachers', 'TeachersLeaving','RemainedinEducation','RemainedinEducationPerct', 'PersonalReasons'\n",
    "                            ,'PersonalPerct','InitiatedbyLEA','InitiatedPerct','BeyondControlofLEA','BeyondControlPerct'\n",
    "                           ,'OtherReasons','OtherReasonsPerct']\n",
    "# Remove header\n",
    "\n",
    "exclude = ['LEA','Code']\n",
    "\n",
    "df = df_combine[~df_combine['LEACode'].isin(exclude) & ~ df_combine['LEACode'].isna()] # remove LEA code NaN as well as some \n",
    "# fix the name cross multiple line\n",
    "df.loc[df['LEACode']=='700','LEAName']='Elizabeth City-Pasquotank Public Schools'\n",
    "df.loc[df['LEACode']=='94Z','LEAName']='Northeast Regional School - Biotech/Agri'\n",
    "df.loc[df['LEACode']=='340','LEAName']='Winston Salem/Forsyth County Schools'\n",
    "\n",
    "# save to csv file\n",
    "csv = \"../NCTeacherAttrition_ByReasonsCategories.csv\"\n",
    "df_sorted=df.sort_values(by='LEACode', ascending=True)\n",
    "\n",
    "df_sorted.to_csv(csv,index=False)\n"
   ]
  },
  {
   "cell_type": "code",
   "execution_count": null,
   "metadata": {},
   "outputs": [],
   "source": []
  }
 ],
 "metadata": {
  "kernelspec": {
   "display_name": "Python 3",
   "language": "python",
   "name": "python3"
  },
  "language_info": {
   "codemirror_mode": {
    "name": "ipython",
    "version": 3
   },
   "file_extension": ".py",
   "mimetype": "text/x-python",
   "name": "python",
   "nbconvert_exporter": "python",
   "pygments_lexer": "ipython3",
   "version": "3.6.5"
  }
 },
 "nbformat": 4,
 "nbformat_minor": 2
}
